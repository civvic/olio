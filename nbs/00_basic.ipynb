{
 "cells": [
  {
   "cell_type": "code",
   "execution_count": null,
   "metadata": {},
   "outputs": [],
   "source": [
    "#| default_exp basic"
   ]
  },
  {
   "cell_type": "code",
   "execution_count": null,
   "metadata": {},
   "outputs": [],
   "source": [
    "#| export\n",
    "from __future__ import annotations"
   ]
  },
  {
   "cell_type": "markdown",
   "id": "0a853cb0",
   "metadata": {},
   "source": [
    "# basic\n",
    "> basic helpers"
   ]
  },
  {
   "cell_type": "markdown",
   "id": "e6284dcc-58bb-423d-ba08-f701df325df1",
   "metadata": {},
   "source": [
    "# Prologue\n"
   ]
  },
  {
   "cell_type": "code",
   "execution_count": null,
   "metadata": {},
   "outputs": [],
   "source": [
    "#| export\n",
    "import pprint\n",
    "from inspect import Parameter\n",
    "from typing import Hashable\n",
    "from typing import Iterable\n",
    "from typing import Mapping\n",
    "from typing import Self\n",
    "from typing import Type\n",
    "from typing import TypeAlias\n",
    "from typing import TypeVar\n",
    "\n",
    "import fastcore.all as FC\n"
   ]
  },
  {
   "cell_type": "code",
   "execution_count": null,
   "metadata": {},
   "outputs": [],
   "source": [
    "from pathlib import Path\n",
    "from types import NoneType\n",
    "\n",
    "from fastcore.test import *\n"
   ]
  },
  {
   "cell_type": "code",
   "execution_count": null,
   "metadata": {},
   "outputs": [],
   "source": [
    "from olio.test import *\n"
   ]
  },
  {
   "cell_type": "markdown",
   "metadata": {},
   "source": [
    "----"
   ]
  },
  {
   "cell_type": "code",
   "execution_count": null,
   "metadata": {},
   "outputs": [],
   "source": [
    "#| export\n",
    "\n",
    "_EMPTY: TypeAlias = Parameter.empty\n",
    "EmptyT = Type[_EMPTY]\n"
   ]
  },
  {
   "cell_type": "markdown",
   "metadata": {},
   "source": [
    "# AD"
   ]
  },
  {
   "cell_type": "code",
   "execution_count": null,
   "metadata": {},
   "outputs": [],
   "source": [
    "#| export\n",
    "\n",
    "_VT = TypeVar('_VT')\n",
    "# from `fastcore` + generics\n",
    "class AD(dict[str, _VT]):\n",
    "    \"`dict` subclass that also provides access to keys as attrs\"\n",
    "    def __getattr__(self, k:str) -> _VT: return self[k] if k in self else FC.stop(AttributeError(k))  # type: ignore\n",
    "    def __setattr__(self, k, v:_VT): (self.__setitem__, super().__setattr__)[k[0]=='_'](k,v)\n",
    "    def __dir__(self) -> Iterable[str]: return super().__dir__() + list(self.keys())  # type: ignore\n",
    "    def _repr_markdown_(self): return f'```json\\n{pprint.pformat(self, indent=2)}\\n```'\n",
    "    def copy(self) -> Self: return type(self)(**self)\n"
   ]
  },
  {
   "cell_type": "markdown",
   "metadata": {},
   "source": [
    "# is_listy\n",
    "> Test whether `x` is list-like\n"
   ]
  },
  {
   "cell_type": "code",
   "execution_count": null,
   "metadata": {},
   "outputs": [],
   "source": [
    "#| export\n",
    "\n",
    "def is_listy(x):\n",
    "    return isinstance(x, Iterable) and not isinstance(x, (bytes, str))\n",
    "\n",
    "def is_listy_type(x):\n",
    "    return issubclass(x, Iterable) and not issubclass(x, (bytes, str))\n"
   ]
  },
  {
   "cell_type": "code",
   "execution_count": null,
   "metadata": {},
   "outputs": [],
   "source": [
    "\n",
    "for _ in (\n",
    "    [1, 2, 3], (1, 2, 3), {1, 2, 3}, \n",
    "    {'a': 1}, range(3), (i for i in range(3)), FC.L(1, 2, 3),\n",
    "    ):\n",
    "    test_is(is_listy(_), True)\n",
    "for _ in (\n",
    "    'a', b'a', r'a', None,\n",
    "    ):\n",
    "    test_is_not(is_listy(_), True)\n",
    "\n",
    "for _ in (list, tuple, set, dict, range, type(i for i in range(3)), FC.L):\n",
    "    test_is(is_listy_type(_), True)\n",
    "for _ in (str, bytes, type(r'a'), NoneType,):\n",
    "    test_is_not(is_listy_type(_), True)"
   ]
  },
  {
   "cell_type": "markdown",
   "metadata": {},
   "source": [
    "# flatten\n"
   ]
  },
  {
   "cell_type": "code",
   "execution_count": null,
   "metadata": {},
   "outputs": [],
   "source": [
    "#| export\n",
    "\n",
    "def flatten(o):\n",
    "    \"Concatenate all collections and items as a generator\"\n",
    "    for item in o:\n",
    "        if not is_listy(item): yield item; continue\n",
    "        try: yield from flatten(item)\n",
    "        except TypeError: yield item\n"
   ]
  },
  {
   "cell_type": "code",
   "execution_count": null,
   "metadata": {},
   "outputs": [],
   "source": [
    "for _, expected in (\n",
    "    ([], []),  \n",
    "    ([1, 2, 3], (1, 2, 3)), \n",
    "    ((1, (2, 3)), (1, 2, 3)), \n",
    "    ([('a', (2,)), ('c', (4,))], ('a', 2, 'c', 4)), \n",
    "):\n",
    "    test_eq(flatten(_), expected)\n",
    "\n"
   ]
  },
  {
   "cell_type": "markdown",
   "metadata": {},
   "source": [
    "# shorten\n",
    "> truncate string\n"
   ]
  },
  {
   "cell_type": "code",
   "execution_count": null,
   "metadata": {},
   "outputs": [],
   "source": [
    "#| export\n",
    "\n",
    "def shorten(x, mode='l', limit=40, trunc='…', empty='') -> str:\n",
    "    s = str(x)\n",
    "    if len(s) > limit:\n",
    "        # s = f'{s[:limit//2]} ... {s[:-limit//2]}'\n",
    "        # s = s[:limit] + '..' * (len(s) > limit)\n",
    "        # s = (\n",
    "        #         f'...{s[sl1:sl2]}'\n",
    "        #         if mode == 'l' else \n",
    "        #         f's[sl1:sl2]...'\n",
    "        #     )\n",
    "        # sl1, sl2, l, r = (-limit, None, trunc, empty) if mode == 'l' else (None, limit, empty, trunc)\n",
    "        # s = f'{l}{s[sl1:sl2]}{r}'\n",
    "        l, m, r = (\n",
    "            (empty, trunc, s[-limit:]) if mode == 'l' else \n",
    "            (s[:limit], trunc, empty) if mode == 'r' else \n",
    "            (s[:(limit//2)-1], f\" {trunc} \", s[-(limit//2-1):])\n",
    "        )\n",
    "        s = f'{l}{m}{r}'\n",
    "    return s\n"
   ]
  },
  {
   "cell_type": "code",
   "execution_count": null,
   "metadata": {},
   "outputs": [],
   "source": [
    "test_eq(f\"{shorten(0)}\", '0')\n",
    "test_eq(f\"{shorten(234)}\", '234')\n",
    "test_eq(f\"{shorten('asdfgh')}\", 'asdfgh')\n",
    "test_eq(f\"{shorten('It was the best of times', limit=12)}\", '…est of times')\n",
    "test_eq(f\"{shorten('ad2663b4-5ff5-40e3-a6ed-cc35f5627f8d', limit=17)}\", '…a6ed-cc35f5627f8d')\n",
    "test_eq(f\"{shorten('ad2663b4-5ff5-40e3-a6ed-cc35f5627f8d', 'r', limit=17)}\", 'ad2663b4-5ff5-40e…')\n",
    "test_eq(f\"{shorten('ad2663b4-5ff5-40e3-a6ed-cc35f5627f8d', 'c', limit=17)}\", 'ad2663b … 5627f8d')\n"
   ]
  },
  {
   "cell_type": "markdown",
   "metadata": {},
   "source": [
    "# Dict helpers\n"
   ]
  },
  {
   "cell_type": "markdown",
   "metadata": {},
   "source": [
    "## pops_"
   ]
  },
  {
   "cell_type": "code",
   "execution_count": null,
   "metadata": {},
   "outputs": [],
   "source": [
    "#| export\n",
    "def pops_(d: dict, *ks: Hashable) -> dict:\n",
    "    \"Pop existing `ks` items from `d` in-place into a dictionary.\"\n",
    "    return {k:d.pop(k) for k in ks if k in d}\n"
   ]
  },
  {
   "cell_type": "code",
   "execution_count": null,
   "metadata": {},
   "outputs": [],
   "source": [
    "test_eq(pops_({'a': 1, 'b': 2, 'c': 3}, 'a', 'b'), {'a': 1, 'b': 2})\n",
    "test_eq(pops_({'a': 1, 'b': 2, 'c': 3}, 'd'), {})\n",
    "test_eq(pops_({'a': 1, 'b': 2, 'c': 3}, 'a', 'c', 'd'), {'a': 1, 'c': 3})\n",
    "test_eq(pops_({}, 'a'), {})\n",
    "test_eq(pops_({'a': 1}, 'a', 'a'), {'a': 1})\n"
   ]
  },
  {
   "cell_type": "markdown",
   "metadata": {},
   "source": [
    "## pops_values_"
   ]
  },
  {
   "cell_type": "code",
   "execution_count": null,
   "metadata": {},
   "outputs": [],
   "source": [
    "#| export\n",
    "def pops_values_(d: dict, *ks: Hashable) -> tuple:\n",
    "    \"Pop existing `ks` items from `d` in-place into a tuple of values or `Parameter.empty` for missing keys.\"\n",
    "    return tuple(d.pop(k, Parameter.empty) for k in ks)\n"
   ]
  },
  {
   "cell_type": "code",
   "execution_count": null,
   "metadata": {},
   "outputs": [],
   "source": [
    "test_eq(pops_values_({'a': 1, 'b': 2, 'c': 3}, 'a', 'b'), (1, 2))\n",
    "test_eq(pops_values_({'a': 1, 'b': 2, 'c': 3}, 'd'), (Parameter.empty,))\n",
    "test_eq(pops_values_({'a': 1, 'b': 2, 'c': 3}, 'a', 'c', 'd'), (1, 3, Parameter.empty))\n",
    "test_eq(pops_values_({}, 'a'), (Parameter.empty,))\n",
    "test_eq(pops_values_({'a': 1}, 'a', 'a'), (1, Parameter.empty))\n"
   ]
  },
  {
   "cell_type": "markdown",
   "metadata": {},
   "source": [
    "## gets"
   ]
  },
  {
   "cell_type": "code",
   "execution_count": null,
   "metadata": {},
   "outputs": [],
   "source": [
    "#| export\n",
    "\n",
    "def gets(d: Mapping, *ks: Hashable):\n",
    "    \"Fetches `ks` values, or `Parameter.empty` for missing keys, from `d` into a tuple.\"\n",
    "    return tuple(d.get(k, Parameter.empty) for k in ks)  # type: ignore\n"
   ]
  },
  {
   "cell_type": "code",
   "execution_count": null,
   "metadata": {},
   "outputs": [],
   "source": [
    "test_eq(gets({'a': 1, 'b': 2}, 'a', 'c', 'b'), (1, Parameter.empty, 2))\n",
    "test_eq(gets({'a': 1, 'b': 2}), ())\n",
    "a, b = gets({'a': 1, 'b': 2}, 'b', 'a')\n",
    "test_eq((a, b), (2, 1))\n",
    "\n",
    "d = {Path('a'): 1, Path('b'): 2}\n",
    "test_eq(gets(d, Path('a'), Path('c'), Path('b')), (1, Parameter.empty, 2))\n"
   ]
  },
  {
   "cell_type": "markdown",
   "metadata": {},
   "source": [
    "## update_\n"
   ]
  },
  {
   "cell_type": "code",
   "execution_count": null,
   "metadata": {},
   "outputs": [],
   "source": [
    "#| export\n",
    "\n",
    "def update_(d:dict|None=None, /, empty_value=None, **kwargs):\n",
    "    \"Update `d` in-place with `kwargs` whose values aren't `empty_value`\"\n",
    "    d = d if d is not None else {}\n",
    "    for k, v in kwargs.items():\n",
    "        if v is not empty_value: d[k] = v\n",
    "    return d\n"
   ]
  },
  {
   "cell_type": "markdown",
   "metadata": {},
   "source": [
    "Helper for conditionally updating dictionaries.\n"
   ]
  },
  {
   "cell_type": "code",
   "execution_count": null,
   "metadata": {},
   "outputs": [],
   "source": [
    "d = {'a': 1}\n",
    "update_(d, b=2, c=None)\n",
    "test_eq(d, {'a': 1, 'b': 2})\n",
    "\n",
    "d = {}\n",
    "update_(d, a=True, b=Parameter.empty, empty_value=Parameter.empty)\n",
    "test_eq(d, {'a': True})\n",
    "\n",
    "d = update_(a=1, b=None)\n",
    "test_eq(d, {'a': 1})\n"
   ]
  },
  {
   "cell_type": "markdown",
   "metadata": {},
   "source": [
    "# Colophon\n",
    "----"
   ]
  },
  {
   "cell_type": "code",
   "execution_count": null,
   "metadata": {},
   "outputs": [],
   "source": [
    "import fastcore.all as FC\n",
    "import nbdev\n",
    "from nbdev.clean import nbdev_clean\n"
   ]
  },
  {
   "cell_type": "code",
   "execution_count": null,
   "metadata": {},
   "outputs": [],
   "source": [
    "if FC.IN_NOTEBOOK:\n",
    "    nb_path = '00_basic.ipynb'\n",
    "    nbdev_clean(nb_path)\n",
    "    nbdev.nbdev_export(nb_path)\n"
   ]
  }
 ],
 "metadata": {
  "jupytext": {
   "formats": "ipynb,py:percent"
  },
  "kernelspec": {
   "display_name": "python3",
   "language": "python",
   "name": "python3"
  }
 },
 "nbformat": 4,
 "nbformat_minor": 4
}
