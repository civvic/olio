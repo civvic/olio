{
 "cells": [
  {
   "cell_type": "code",
   "execution_count": null,
   "metadata": {},
   "outputs": [],
   "source": [
    "#| default_exp basic"
   ]
  },
  {
   "cell_type": "code",
   "execution_count": null,
   "metadata": {},
   "outputs": [],
   "source": [
    "#| export\n",
    "from __future__ import annotations"
   ]
  },
  {
   "cell_type": "markdown",
   "id": "0a853cb0",
   "metadata": {},
   "source": [
    "# basic\n",
    "> basic helpers"
   ]
  },
  {
   "cell_type": "markdown",
   "id": "e6284dcc-58bb-423d-ba08-f701df325df1",
   "metadata": {},
   "source": [
    "# Prologue\n"
   ]
  },
  {
   "cell_type": "code",
   "execution_count": null,
   "metadata": {},
   "outputs": [],
   "source": [
    "#| export\n",
    "import importlib\n",
    "import operator\n",
    "import os\n",
    "import pprint\n",
    "import re\n",
    "import sys\n",
    "from binascii import hexlify\n",
    "from inspect import Parameter\n",
    "from pathlib import Path\n",
    "from types import ModuleType\n",
    "from typing import Any\n",
    "from typing import Callable\n",
    "from typing import DefaultDict\n",
    "from typing import Hashable\n",
    "from typing import Iterable\n",
    "from typing import Literal\n",
    "from typing import Mapping\n",
    "from typing import MutableMapping\n",
    "from typing import Self\n",
    "from typing import Sequence\n",
    "from typing import Type\n",
    "from typing import TypeAlias\n",
    "from typing import TypeVar\n",
    "\n",
    "import fastcore.all as FC\n"
   ]
  },
  {
   "cell_type": "code",
   "execution_count": null,
   "metadata": {},
   "outputs": [],
   "source": [
    "import dataclasses\n",
    "import json\n",
    "from functools import reduce\n",
    "from pathlib import Path\n",
    "from types import NoneType\n",
    "from types import SimpleNamespace\n",
    "from typing import TypeVar\n",
    "\n",
    "from fastcore.test import *"
   ]
  },
  {
   "cell_type": "code",
   "execution_count": null,
   "metadata": {},
   "outputs": [],
   "source": [
    "from olio.test import *"
   ]
  },
  {
   "cell_type": "markdown",
   "metadata": {},
   "source": [
    "----"
   ]
  },
  {
   "cell_type": "markdown",
   "metadata": {},
   "source": [
    "# empty"
   ]
  },
  {
   "cell_type": "code",
   "execution_count": null,
   "metadata": {},
   "outputs": [],
   "source": [
    "#| exporti\n",
    "\n",
    "class Empty(type): __repr__ = __str__ = lambda self: 'empty'\n",
    "class EmptyT(metaclass=Empty):...\n",
    "\n",
    "# _EMPTY: TypeAlias = Parameter.empty\n",
    "# EmptyT = Type[_EMPTY]"
   ]
  },
  {
   "cell_type": "code",
   "execution_count": null,
   "metadata": {},
   "outputs": [],
   "source": [
    "#| export\n",
    "\n",
    "empty = EmptyT\n",
    "\n",
    "def is_empty(x) -> bool: return x is empty"
   ]
  },
  {
   "cell_type": "code",
   "execution_count": null,
   "metadata": {},
   "outputs": [
    {
     "data": {
      "text/plain": [
       "empty"
      ]
     },
     "execution_count": null,
     "metadata": {},
     "output_type": "execute_result"
    }
   ],
   "source": [
    "test_is(str(empty), 'empty')\n",
    "empty"
   ]
  },
  {
   "cell_type": "code",
   "execution_count": null,
   "metadata": {},
   "outputs": [],
   "source": [
    "def test_empty() -> Empty: return empty\n",
    "test_eq_type(test_empty(), empty)"
   ]
  },
  {
   "cell_type": "markdown",
   "metadata": {},
   "source": [
    "# AD"
   ]
  },
  {
   "cell_type": "code",
   "execution_count": null,
   "metadata": {},
   "outputs": [],
   "source": [
    "#| export\n",
    "\n",
    "_VT = TypeVar('_VT')\n",
    "# from `fastcore` + generics\n",
    "class AD(dict[str, _VT]):\n",
    "    \"`dict` subclass that also provides access to keys as attrs\"\n",
    "    def __getattr__(self, k:str) -> _VT: return self[k] if k in self else FC.stop(AttributeError(k))  # type: ignore\n",
    "    def __setattr__(self, k, v:_VT): (self.__setitem__, super().__setattr__)[k[0]=='_'](k,v)\n",
    "    def __dir__(self) -> Iterable[str]: return super().__dir__() + list(self.keys())  # type: ignore\n",
    "    def _repr_markdown_(self): return f'```json\\n{pprint.pformat(self, indent=2)}\\n```'\n",
    "    def copy(self) -> Self: return type(self)(**self)"
   ]
  },
  {
   "cell_type": "code",
   "execution_count": null,
   "metadata": {},
   "outputs": [],
   "source": [
    "ad = AD()\n",
    "test_fail(lambda: ad.a)\n",
    "test_fail(lambda: ad['b'])\n",
    "\n",
    "ad = AD(a=1, b=2)\n",
    "test_eq(ad.a, 1)\n",
    "\n",
    "ad.b = 3\n",
    "test_eq(ad.b, 3)\n",
    "ad.update(a=4, b=5)\n",
    "test_eq(ad.b, 5)"
   ]
  },
  {
   "cell_type": "markdown",
   "metadata": {},
   "source": [
    "# is_listy\n",
    "> Test whether `x` is iterable but not a string or bytes"
   ]
  },
  {
   "cell_type": "code",
   "execution_count": null,
   "metadata": {},
   "outputs": [],
   "source": [
    "#| export\n",
    "\n",
    "def is_listy(x):\n",
    "    return isinstance(x, Iterable) and not isinstance(x, (bytes, str))\n",
    "\n",
    "def is_listy_type(x):\n",
    "    return issubclass(x, Iterable) and not issubclass(x, (bytes, str))"
   ]
  },
  {
   "cell_type": "code",
   "execution_count": null,
   "metadata": {},
   "outputs": [],
   "source": [
    "for _ in (\n",
    "    [1, 2, 3], (1, 2, 3), {1, 2, 3}, \n",
    "    {'a': 1}, range(3), (i for i in range(3)), FC.L(1, 2, 3),\n",
    "    ):\n",
    "    test_is(is_listy(_), True)\n",
    "for _ in (\n",
    "    'a', b'a', r'a', None,\n",
    "    ):\n",
    "    test_is_not(is_listy(_), True)\n",
    "\n",
    "for _ in (list, tuple, set, dict, range, type(i for i in range(3)), FC.L):\n",
    "    test_is(is_listy_type(_), True)\n",
    "for _ in (str, bytes, type(r'a'), NoneType,):\n",
    "    test_is_not(is_listy_type(_), True)"
   ]
  },
  {
   "cell_type": "markdown",
   "metadata": {},
   "source": [
    "# flatten\n"
   ]
  },
  {
   "cell_type": "code",
   "execution_count": null,
   "metadata": {},
   "outputs": [],
   "source": [
    "#| export\n",
    "\n",
    "def flatten(o):\n",
    "    \"Concatenate all collections and items as a generator\"\n",
    "    for item in o:\n",
    "        if not is_listy(item): yield item; continue\n",
    "        try: yield from flatten(item)\n",
    "        except TypeError: yield item"
   ]
  },
  {
   "cell_type": "code",
   "execution_count": null,
   "metadata": {},
   "outputs": [],
   "source": [
    "for _, expected in (\n",
    "    ([], []),  \n",
    "    ([1, 2, 3], (1, 2, 3)), \n",
    "    ((1, (2, 3)), (1, 2, 3)), \n",
    "    ([('a', (2,)), ('c', (4,))], ('a', 2, 'c', 4)), \n",
    "):\n",
    "    test_eq(flatten(_), expected)"
   ]
  },
  {
   "cell_type": "markdown",
   "metadata": {},
   "source": [
    "# shorten\n",
    "> truncate string"
   ]
  },
  {
   "cell_type": "code",
   "execution_count": null,
   "metadata": {},
   "outputs": [],
   "source": [
    "#| export\n",
    "\n",
    "def shorten(x:Any, mode:Literal['l', 'r', 'c']='l', limit=40, trunc='…', empty='') -> str:\n",
    "    if len(s := str(x)) > limit:\n",
    "        l, m, r = (\n",
    "            (empty, trunc, s[-limit:]) if mode == 'l' else \n",
    "            (s[:limit], trunc, empty) if mode == 'r' else \n",
    "            (s[:(limit//2)-1], f\" {trunc} \", s[-(limit//2-1):])\n",
    "        )\n",
    "        s = f'{l}{m}{r}'\n",
    "    return s\n",
    "\n",
    "def shortens(xs:Iterable[Any], mode:Literal['l', 'r', 'c']='l', limit=40, trunc='…', empty=''):\n",
    "    for x in xs: yield shorten(x, mode, limit, trunc, empty)\n"
   ]
  },
  {
   "cell_type": "code",
   "execution_count": null,
   "metadata": {},
   "outputs": [],
   "source": [
    "test_eq(f\"{shorten(0)}\", '0')\n",
    "test_eq(f\"{shorten(234)}\", '234')\n",
    "test_eq(f\"{shorten('asdfgh')}\", 'asdfgh')\n",
    "test_eq(f\"{shorten('It was the best of times', limit=12)}\", '…est of times')\n",
    "test_eq(f\"{shorten('ad2663b4-5ff5-40e3-a6ed-cc35f5627f8d', limit=17)}\", '…a6ed-cc35f5627f8d')\n",
    "test_eq(f\"{shorten('ad2663b4-5ff5-40e3-a6ed-cc35f5627f8d', 'r', limit=17)}\", 'ad2663b4-5ff5-40e…')\n",
    "test_eq(f\"{shorten('ad2663b4-5ff5-40e3-a6ed-cc35f5627f8d', 'c', limit=17)}\", 'ad2663b … 5627f8d')"
   ]
  },
  {
   "cell_type": "code",
   "execution_count": null,
   "metadata": {},
   "outputs": [],
   "source": [
    "test_eq(list(shortens(['ad2663b4-5ff5-40e3-a6ed-cc35f5627f8d'], 'l', 10)), ['…35f5627f8d'])\n",
    "test_eq(list(shortens(('abcdef', 'wertyu', 'sd'), 'r', 4)), ['abcd…', 'wert…', 'sd'])\n",
    "test_eq(''.join(shortens('It was the best of times...'.split(), 'r', 1, '')), 'Iwtbot')"
   ]
  },
  {
   "cell_type": "markdown",
   "metadata": {},
   "source": [
    "# Runner"
   ]
  },
  {
   "cell_type": "code",
   "execution_count": null,
   "metadata": {},
   "outputs": [],
   "source": [
    "#| export\n",
    "\n",
    "_FuncItem: TypeAlias = Callable | Sequence['_FuncItem']\n",
    "\n",
    "def Runner(*fns: _FuncItem) -> Callable:\n",
    "    \"\"\"Return a function that runs callables `fns` in sequence with same arguments. \n",
    "    Only side-effects, no composition.\"\"\"\n",
    "    _fns: tuple[Callable, ...] = tuple(FC.flatten(fns))  # type: ignore\n",
    "    if not _fns: return FC.noop\n",
    "    if len(_fns) == 1: return _fns[0]\n",
    "    def _(*args, **kwargs) -> None:\n",
    "        for f in _fns: f(*args, **kwargs)\n",
    "    return _"
   ]
  },
  {
   "cell_type": "code",
   "execution_count": null,
   "metadata": {},
   "outputs": [
    {
     "name": "stdout",
     "output_type": "stream",
     "text": [
      "11\n",
      "22\n",
      "33\n"
     ]
    }
   ],
   "source": [
    "def f1(o,x,y=0): o.r += x+y\n",
    "def f2(o,x,y=0): o.r += x*y\n",
    "f3 = lambda o, x,y: print(o.r)\n",
    "\n",
    "o = SimpleNamespace(r=0)\n",
    "runner = Runner(f1, f2, f3)\n",
    "runner(o, 2, 3)  # 11\n",
    "\n",
    "Runner()(o, 2, 3)\n",
    "test_eq(o.r, 11)\n",
    "Runner([f1, f2], f3)(o, 2, 3)\n",
    "test_eq(o.r, 22)\n",
    "Runner([f1, [f2, f3]])(o, 2, 3)\n",
    "test_eq(o.r, 33)"
   ]
  },
  {
   "cell_type": "markdown",
   "metadata": {},
   "source": [
    "# Object helpers"
   ]
  },
  {
   "cell_type": "code",
   "execution_count": null,
   "metadata": {},
   "outputs": [],
   "source": [
    "#| export\n",
    "def setattrs(dest, src, flds=''):\n",
    "    \"Set `flds` or keys() or dir() attributes from `src` into `dest`\"\n",
    "    g = dict.get if isinstance(src, dict) else getattr\n",
    "    s = operator.setitem if isinstance(dest, MutableMapping) else setattr\n",
    "    if flds: flds = re.split(r\",\\s*\", flds)\n",
    "    elif isinstance(src, dict): flds = src.keys()\n",
    "    else: flds = (_ for _ in dir(src) if _[0] != '_')\n",
    "    for fld in flds: s(dest, fld, g(src, fld))"
   ]
  },
  {
   "cell_type": "code",
   "execution_count": null,
   "metadata": {},
   "outputs": [],
   "source": [
    "class A: a = 1; b = 2; c = 3\n",
    "a = A()\n",
    "setattrs(a, {'b': 22, 'd': 44})\n",
    "test_eq(a.a, 1)\n",
    "test_eq(a.b, 22)\n",
    "test_eq(a.c, 3)\n",
    "test_eq(a.d, 44)  # type: ignore"
   ]
  },
  {
   "cell_type": "markdown",
   "metadata": {},
   "source": [
    "# val_at\n",
    "> Lookup values in json/mappings/sequences using dot notation"
   ]
  },
  {
   "cell_type": "code",
   "execution_count": null,
   "metadata": {},
   "outputs": [],
   "source": [
    "def val_at(element, json):\n",
    "    return reduce(operator.getitem, element.split('.'), json)\n",
    "\n",
    "j = {\"app\": {\n",
    "    \"Garden\": {\n",
    "        \"Flowers\": {\n",
    "            \"Red flower\": \"Rose\",\n",
    "            \"White Flower\": \"Jasmine\",\n",
    "            \"Yellow Flower\": \"Marigold\"\n",
    "        }\n",
    "    },\n",
    "    \"Fruits\": {\n",
    "        \"Yellow fruit\": \"Mango\",\n",
    "        \"Green fruit\": \"Guava\",\n",
    "        \"White Flower\": \"groovy\"\n",
    "    },\n",
    "    \"Trees\": {\n",
    "        \"label\": {\n",
    "            \"Yellow fruit\": \"Pumpkin\",\n",
    "            \"White Flower\": \"Bogan\"\n",
    "        }\n",
    "    }\n",
    "}}\n",
    "\n",
    "test_eq(val_at('app.Garden.Flowers.White Flower', j), 'Jasmine')"
   ]
  },
  {
   "cell_type": "code",
   "execution_count": null,
   "metadata": {},
   "outputs": [
    {
     "name": "stdout",
     "output_type": "stream",
     "text": [
      "app.Garden.Flowers {'Red flower': 'Rose', 'White Flower': 'Jasmine', 'Yellow Flower': 'Marigold'}\n"
     ]
    }
   ],
   "source": [
    "print((dp := 'app.Garden.Flowers'), reduce(operator.getitem, dp.split('.'), j))"
   ]
  },
  {
   "cell_type": "code",
   "execution_count": null,
   "metadata": {},
   "outputs": [],
   "source": [
    "def val_at(element, j:str):\n",
    "    d = json.loads(j)\n",
    "    return reduce(lambda d, k: d[k] if isinstance(d, Mapping) else d[int(k)], element.split('.'), d)\n",
    "\n",
    "j2 = {\"app\": {\n",
    "    \"Garden\": {\n",
    "        \"Flowers\": {\n",
    "            \"Red flower\": \"Rose\",\n",
    "            \"White Flower\": \"Jasmine\",\n",
    "            \"Yellow Flower\": \"Marigold\"\n",
    "        }\n",
    "    },\n",
    "    \"Fruits\": {\n",
    "        \"Yellow fruit\": [\"Mango\", {\"Banana\": [\"Canary Island\", \"Puerto Rico\"]}],\n",
    "        \"Green fruit\": \"Guava\",\n",
    "        \"White Flower\": \"groovy\"\n",
    "    },\n",
    "    \"Trees\": {\n",
    "        \"label\": {\n",
    "            \"Yellow fruit\": \"Pumpkin\",\n",
    "            \"White Flower\": \"Bogan\"\n",
    "        }\n",
    "    }\n",
    "}}\n",
    "test_eq(val_at('app.Fruits.Yellow fruit.1.Banana.0', json.dumps(j2)), 'Canary Island')"
   ]
  },
  {
   "cell_type": "code",
   "execution_count": null,
   "metadata": {},
   "outputs": [
    {
     "name": "stdout",
     "output_type": "stream",
     "text": [
      "Apollo 11.Michael Collins {'Experience': 'Pilot on Gemini 10 and Command Module pilot on Apollo 11.', 'Place in history': 'Collins was the first person to perform two EVAs in one mission.', 'Fast fact': 'Collins says his \"secret terror\" was returning to Earth alone if the surface mission failed.', 'Lunar wisdom': 'I really believe that if the political leaders of the world could see their planet from a distance of 100,000 miles their outlook could be fundamentally changed. That all-important border would be invisible, that noisy argument silenced.'}\n"
     ]
    }
   ],
   "source": [
    "apollo_astronauts = json.loads(Path('apollo_astronauts.json').read_text())\n",
    "print((dp := 'Apollo 11.Michael Collins'), reduce(operator.getitem, dp.split('.'), apollo_astronauts))"
   ]
  },
  {
   "cell_type": "code",
   "execution_count": null,
   "metadata": {},
   "outputs": [],
   "source": [
    "_T = TypeVar('_T')\n",
    "_II = isinstance\n",
    "def _at(d: Mapping|Sequence, k: str) -> Any: return (\n",
    "    d[k] if _II(d, Mapping) else \n",
    "    d[int(k)] if _II(d, Sequence) and not _II(d, (str, bytes)) else \n",
    "    FC.stop(KeyError))  # type: ignore\n",
    "\n",
    "def val_at(key_path: str, j: Mapping|Sequence|str|bytes|bytearray, default:_T=empty, sep:str='.') -> _T:\n",
    "    \"Return nested value at `key_path` from `j`. Raise if not found or `default` if not `empty`.\"\n",
    "    try: return reduce(_at, key_path.split(sep), json.loads(j) if _II(j, (str, bytes, bytearray)) else j)\n",
    "    except (KeyError, IndexError, ValueError) as e:\n",
    "        if default is not empty: return default\n",
    "        raise e\n",
    "\n",
    "def key_at(key_path: str, j: Mapping|Sequence|str|bytes|bytearray, sep:str='.') -> bool:\n",
    "    \"Return `True` if nested `key_path` exists in `j`.\"\n",
    "    try:\n",
    "        reduce(_at, key_path.split(sep), json.loads(j) if _II(j, (str, bytes, bytearray)) else j)\n",
    "        return True\n",
    "    except (KeyError, IndexError):\n",
    "        return False"
   ]
  },
  {
   "cell_type": "code",
   "execution_count": null,
   "metadata": {},
   "outputs": [],
   "source": [
    "FC.test_fail(lambda: val_at(object, {}))  # type: ignore\n",
    "FC.test_fail(lambda: val_at(object, []))  # type: ignore\n",
    "FC.test_fail(lambda: val_at(object, object))  # type: ignore\n",
    "FC.test_fail(lambda: val_at('', {}))\n",
    "FC.test_fail(lambda: val_at('', []))\n",
    "FC.test_fail(lambda: val_at('', object))   # type: ignore\n",
    "\n",
    "FC.test_fail(lambda: val_at('a.b', {'a': 1}))\n",
    "test_eq(val_at('a.b', {'a': 1}, None), None)"
   ]
  },
  {
   "cell_type": "code",
   "execution_count": null,
   "metadata": {},
   "outputs": [],
   "source": [
    "d = [\n",
    "    {'a': 1, 'b': [2,  3], 'c': {'d':   4}}, \n",
    "    {'a': 5, 'b': [6,  7],                 'd': [{'e': 81}, {'e': 82}]}, \n",
    "    {'a': 9, 'b': [10, 11], 'c': {'d': 12}}\n",
    "]\n",
    "\n",
    "test_fail(lambda: val_at('', d))\n",
    "test_fail(lambda: val_at(object, d))  # type: ignore\n",
    "\n",
    "test_fail(lambda: val_at('', object))  # type: ignore\n",
    "\n",
    "test_eq(val_at('0.a', d), 1)\n",
    "test_eq(val_at('1.b', d), [6, 7])\n",
    "test_eq(val_at('2.c', d), {'d': 12})"
   ]
  },
  {
   "cell_type": "code",
   "execution_count": null,
   "metadata": {},
   "outputs": [],
   "source": [
    "j2 = {\n",
    "    \"app\": {\n",
    "        \"Garden\": {\n",
    "            \"Flowers\": {\n",
    "                \"Red flower\": \"Rose\",\n",
    "                \"White Flower\": \"Jasmine\",\n",
    "                \"Yellow Flower\": \"Marigold\"\n",
    "            }\n",
    "        },\n",
    "        \"Fruits\": {\n",
    "            \"Yellow fruit\": [\"Mango\", {\"Banana\": [\"Canary Island\", \"Puerto Rico\"]}],\n",
    "            \"Green fruit\": \"Guava\",\n",
    "            \"White Flower\": \"groovy\"\n",
    "        },\n",
    "        \"Trees\": {\n",
    "            \"label\": {\n",
    "                \"Yellow fruit\": \"Pumpkin\",\n",
    "                \"White Flower\": \"Bogan\"\n",
    "            }\n",
    "        },\n",
    "        \"Numbers\": [1, 2, 3, 4, 5],\n",
    "        \"Boolean\": True,\n",
    "        \"Null\": None\n",
    "    }\n",
    "}\n",
    "\n",
    "j2_str = json.dumps(j2)\n",
    "\n",
    "test_eq(val_at('app.Fruits.Yellow fruit.1.Banana.0', j2_str), 'Canary Island')\n",
    "test_eq(val_at('app.Garden.Flowers.Red flower', j2_str), 'Rose')\n",
    "test_eq(val_at('app.Numbers.2', j2_str), 3)\n",
    "test_eq(val_at('app.Boolean', j2_str), True)\n",
    "test_eq(val_at('app.Null', j2_str), None)\n",
    "test_fail(lambda: val_at('app.NonExistent', j2_str))\n",
    "test_fail(lambda: val_at('app.Fruits.Yellow fruit.3', j2_str))\n",
    "test_is(val_at('app.Fruits.Yellow fruit.3', j2_str, None), None)\n",
    "\n",
    "test_eq(key_at('app.Garden.Flowers.Red flower', j2_str), True)\n",
    "test_eq(key_at('app.Numbers.2', j2_str), True)\n",
    "test_eq(key_at('app.Fruits.Yellow fruit.1.Banana.0', j2_str), True)\n",
    "test_eq(key_at('app.NonExistent', j2_str), False)\n",
    "test_eq(key_at('app.Fruits.Yellow fruit.3', j2_str), False)"
   ]
  },
  {
   "cell_type": "markdown",
   "metadata": {},
   "source": [
    "# vals_at\n",
    "> Lookup values in json/mappings/sequences using dot notation with wildcards"
   ]
  },
  {
   "cell_type": "code",
   "execution_count": null,
   "metadata": {},
   "outputs": [],
   "source": [
    "_E = object()\n",
    "\n",
    "def vals_at(path, d) -> empty | tuple[empty | object, ...] | object:\n",
    "    \"Return nested values-- or empty|(empty, ...)-- at `path` with wildcards '*' from `d`.\"\n",
    "    curr, wc, rest = str(path).partition('*')\n",
    "    if not wc and not rest:  return o if (o := val_at(curr, d, _E)) is not _E else empty\n",
    "    o = val_at(curr.rstrip('.'), d, _E) if curr else d\n",
    "    try: return (tuple(map(lambda x: empty if (res := vals_at(rest.lstrip('.'), x)) is _E else res, o))  # type: ignore\n",
    "        if rest and o is not _E else o)\n",
    "    except TypeError: return empty\n",
    "\n",
    "test_eq(vals_at('a', object), empty)"
   ]
  },
  {
   "cell_type": "code",
   "execution_count": null,
   "metadata": {},
   "outputs": [],
   "source": [
    "d = [\n",
    "    {'a': 1, 'b': [2,  3],  'c': {'d':   4}}, \n",
    "    {'a': 5, 'b': [6,  7],                  'd': [{'e': 81}, {'e': 82}]}, \n",
    "    {'a': 9, 'b': [10, 11], 'c': {'d': 12}}\n",
    "]\n",
    "\n",
    "test_eq(vals_at('', d), empty)\n",
    "test_eq(vals_at(object, d), empty)\n",
    "test_eq(vals_at('*', d), (*d,))\n",
    "test_eq(vals_at(2, d), d[2])\n",
    "test_eq(vals_at('a', d), empty)\n",
    "test_eq(vals_at('*.a', []), ())\n",
    "test_eq(vals_at('*.a.*.b', [{'a': object}]), (empty,))\n",
    "\n",
    "test_eq(vals_at('*,a', d), (empty, empty, empty))\n",
    "test_eq(vals_at('*.a', d), (1, 5, 9))\n",
    "test_eq(vals_at('*.a.*', d), (1,5,9))\n",
    "test_eq(vals_at('*.b.1', d), (3, 7, 11))\n",
    "test_eq(vals_at('*.c.d', d), (4, empty, 12))\n",
    "\n",
    "test_eq(vals_at('*.d.*.e', d), (empty, (81, 82), empty))\n",
    "test_eq(vals_at('*.d.*.f', d), (empty, (empty, empty), empty))\n",
    "test_eq(vals_at('1.d.*.e', d), (81, 82))"
   ]
  },
  {
   "cell_type": "code",
   "execution_count": null,
   "metadata": {},
   "outputs": [
    {
     "data": {
      "text/plain": [
       "[{'a': 1, 'b': [2, 3], 'c': {'d': 4}},\n",
       " {'a': 5, 'b': [6, 7], 'd': [{'e': 81}, {'e': 82}]},\n",
       " {'a': 9, 'b': [10, 11], 'c': {'d': 12}}]"
      ]
     },
     "execution_count": null,
     "metadata": {},
     "output_type": "execute_result"
    }
   ],
   "source": [
    "vals_at('*', d)"
   ]
  },
  {
   "cell_type": "markdown",
   "metadata": {},
   "source": [
    "# val_at, val_atpath"
   ]
  },
  {
   "cell_type": "code",
   "execution_count": null,
   "metadata": {},
   "outputs": [],
   "source": [
    "#| export\n",
    "\n",
    "def val_at(o, attr: str, default: Any=empty, sep='.'):\n",
    "    \"Traverse nested `o` looking for attributes/items specified in dot-separated `attr`.\"\n",
    "    if not isinstance(attr, str): raise TypeError(f'{attr=!r} is not a string')\n",
    "    try:\n",
    "        for a in attr.split(sep):\n",
    "            try: o = o[a]\n",
    "            except (TypeError, KeyError):\n",
    "                try: o = o[int(a)]\n",
    "                except (IndexError, TypeError, KeyError, ValueError): o = getattr(o, a)\n",
    "    except AttributeError as e:\n",
    "        return default if default is not empty else FC.stop(e)  # type: ignore\n",
    "    return o\n",
    "\n",
    "def val_atpath(o, *path: Any,  default: Any=empty):\n",
    "    \"Traverse nested `o` looking for attributes/items specified in `path`.\"\n",
    "    try:\n",
    "        for a in path:\n",
    "            try: o = o[a]\n",
    "            except (IndexError, TypeError, KeyError):\n",
    "                try: o = o[int(a)]\n",
    "                except (IndexError, TypeError, KeyError, ValueError): o = getattr(o, str(a))\n",
    "    except (AttributeError, TypeError) as e:\n",
    "        return default if default is not empty else FC.stop(e)  # type: ignore\n",
    "    return o\n",
    "\n",
    "_NF = object()\n",
    "\n",
    "def has_key(o, attr: str, sep='.') -> bool:\n",
    "    \"Return `True` if nested dot-separated `attr` exists.\"\n",
    "    return val_at(o, attr, default=_NF, sep=sep) is not _NF\n",
    "\n",
    "def has_path(o, *path: Any) -> bool:\n",
    "    \"Return `True` if nested `path` exists.\"\n",
    "    return val_atpath(o, path, default=_NF) is not _NF"
   ]
  },
  {
   "cell_type": "code",
   "execution_count": null,
   "metadata": {},
   "outputs": [],
   "source": [
    "test_fail(lambda: val_at({}, ''))\n",
    "test_fail(lambda: val_at([], ''))\n",
    "test_fail(lambda: val_at(object, ''))\n",
    "test_fail(lambda: val_at({}, 'a.b'))\n",
    "test_fail(lambda: val_at([], 'a.b'))\n",
    "test_fail(lambda: val_at(object, 'a.b')) \n",
    "\n",
    "test_fail(lambda: val_at({'a': 1}, 'a.b'))\n",
    "test_fail(lambda: val_atpath({'a': 1}, 'a', 'b'))\n",
    "test_eq(val_at({'a': 1}, 'a.b', None), None)"
   ]
  },
  {
   "cell_type": "code",
   "execution_count": null,
   "metadata": {},
   "outputs": [],
   "source": [
    "d = [\n",
    "    {'a': 1, 'b': [2,  3], 'c': {'d':   4}}, \n",
    "    {'a': 5, 'b': [6,  7],                 'd': [{'e': 81}, {'e': 82}]}, \n",
    "    {'a': 9, 'b': [10, 11], 'c': {'d': 12}}\n",
    "]\n",
    "\n",
    "test_fail(lambda: val_at(d, ''))\n",
    "test_fail(lambda: val_at(d, object))  # type: ignore\n",
    "\n",
    "test_fail(lambda: val_at(object, ''))\n",
    "\n",
    "test_eq(val_at(d, '0.a'), 1)\n",
    "test_eq(val_at(d, '1.b'), [6, 7])\n",
    "test_eq(val_at(d, '2.c'), {'d': 12})"
   ]
  },
  {
   "cell_type": "code",
   "execution_count": null,
   "metadata": {},
   "outputs": [],
   "source": [
    "j2 = {\n",
    "    \"app\": {\n",
    "        \"Garden\": {\n",
    "            \"Flowers\": {\n",
    "                \"Red flower\": \"Rose\",\n",
    "                \"White Flower\": \"Jasmine\",\n",
    "                \"Yellow Flower\": \"Marigold\"\n",
    "            }\n",
    "        },\n",
    "        \"Fruits\": {\n",
    "            \"Yellow fruit\": [\"Mango\", {\"Banana\": [\"Canary Island\", \"Puerto Rico\"]}],\n",
    "            \"Green fruit\": \"Guava\",\n",
    "            \"White Flower\": \"groovy\"\n",
    "        },\n",
    "        \"Trees\": {\n",
    "            \"label\": {\n",
    "                \"Yellow fruit\": \"Pumpkin\",\n",
    "                \"White Flower\": \"Bogan\"\n",
    "            }\n",
    "        },\n",
    "        \"Numbers\": [1, 2, 3, 4, 5],\n",
    "        \"Boolean\": True,\n",
    "        \"Null\": None\n",
    "    }\n",
    "}\n",
    "\n",
    "j2_str = j2#json.dumps(j2)\n",
    "\n",
    "test_eq(val_at(j2_str, 'app.Fruits.Yellow fruit.1.Banana.0'), 'Canary Island')\n",
    "test_eq(val_at(j2_str, 'app.Garden.Flowers.Red flower'), 'Rose')\n",
    "test_eq(val_at(j2_str, 'app.Numbers.2'), 3)\n",
    "test_eq(val_at(j2_str, 'app.Boolean'), True)\n",
    "test_eq(val_at(j2_str, 'app.Null'), None)\n",
    "test_fail(lambda: val_at(j2_str, 'app.NonExistent'))\n",
    "test_fail(lambda: val_at(j2_str, 'app.Fruits.Yellow fruit.3'))\n",
    "test_is(val_at(j2_str, 'app.Fruits.Yellow fruit.3', None), None)"
   ]
  },
  {
   "cell_type": "code",
   "execution_count": null,
   "metadata": {},
   "outputs": [],
   "source": [
    "test_eq(has_key(j2_str, 'app.Garden.Flowers.Red flower'), True)\n",
    "test_eq(has_key(j2_str, 'app.Numbers.2'), True)\n",
    "test_eq(has_key(j2_str, 'app.Fruits.Yellow fruit.1.Banana.0'), True)\n",
    "test_eq(has_key(j2_str, 'app.NonExistent'), False)\n",
    "test_eq(has_key(j2_str, 'app.Fruits.Yellow fruit.3'), False)"
   ]
  },
  {
   "cell_type": "code",
   "execution_count": null,
   "metadata": {},
   "outputs": [],
   "source": [
    "test_fail(lambda:val_at(None, '0'))\n",
    "test_eq(val_at(None, '0', None), None)\n",
    "test_fail(lambda:val_atpath(None, 2))\n",
    "test_eq(val_atpath(None, 2, default=None), None)\n",
    "test_fail(lambda:val_atpath(None, -1))\n",
    "test_eq(val_atpath(None, -1, default=None), None)\n",
    "test_fail(lambda:val_at(None, '0.1'))\n",
    "test_eq(val_at(None, '0.1', None), None)\n",
    "test_fail(lambda:val_atpath(None, 4, 'b'))\n",
    "test_eq(val_atpath(None, 4, 'b', default=None), None)\n",
    "\n",
    "test_fail(lambda:val_atpath([], 1))\n",
    "test_eq(val_atpath([], 1, default=None), None)\n",
    "test_fail(lambda:val_atpath([], 'a', 2))\n",
    "test_eq(val_atpath([], ('a', 2), default=None), None)\n",
    "\n",
    "test_fail(lambda:val_atpath({}, 1))\n",
    "test_eq(val_atpath({}, 1, default=None), None)\n",
    "test_fail(lambda:val_atpath(object(), '2'))\n",
    "test_eq(val_at(object(), '0', None), None)\n",
    "test_fail(lambda:val_at(object(), 'a.1'))\n",
    "test_eq(val_at(object(), 'a.1', None), None)"
   ]
  },
  {
   "cell_type": "code",
   "execution_count": null,
   "metadata": {},
   "outputs": [],
   "source": [
    "o = [1, 2, 3, [4, 5, 6], 7]\n",
    "test_eq(val_at(o, '0'), 1)\n",
    "test_eq(val_at(o, '-1'), 7)\n",
    "test_eq(val_atpath(o, -1), 7)\n",
    "test_eq(val_atpath(o, 2), 3)\n",
    "test_eq(val_atpath(o, 3, 2), 6)\n",
    "test_eq(val_atpath(o, 5, default=None), None)\n",
    "test_eq(val_at(o, '3.4', None), None)\n",
    "\n",
    "o = dict(a=1, b=2, c=3, d=dict(e=4, f=5), g=6)\n",
    "test_eq(val_atpath(o, 'b'), 2)\n",
    "test_eq(val_atpath(o, 'd', 'f'), 5)\n",
    "test_eq(val_at(o, 'd.f'), 5)\n",
    "test_eq(val_at(o, 'd.g', None), None)\n",
    "\n",
    "(s := json.dumps(['foo', (1,2,3), {'bar': ('baz', None, 1.0, 2)}]))\n",
    "o = json.loads(s)\n",
    "test_eq(val_at(o, '0'), 'foo')\n",
    "test_eq(val_atpath(o, 0), 'foo')\n",
    "test_eq(val_at(o, '2.bar'), ['baz', None, 1.0, 2])\n",
    "test_eq(val_atpath(o, 2, 'bar'), ['baz', None, 1.0, 2])\n",
    "test_eq(val_at(o, '2.bar.3'), 2)\n",
    "test_eq(val_at(o, '3.bar', None), None)\n",
    "test_eq(val_atpath(o, 2, 'foo', default=None), None)\n",
    "\n",
    "@dataclasses.dataclass\n",
    "class _D:\n",
    "    a: int\n",
    "    b: str\n",
    "    c: float\n",
    "    d: dict[str, Any]\n",
    "_d = _D(1, '2', 3.0, {'e': 4, 'f': '5', 'g': 6.0})\n",
    "\n",
    "o = [0, 1, _d, 'a']\n",
    "test_eq(val_atpath(o, 1), 1)\n",
    "test_eq(val_at(o, '3'), 'a')\n",
    "test_eq(val_atpath(o, 2), _d)\n",
    "test_eq(val_at(o, '2.c'), 3.0)\n",
    "test_eq(val_at(o, '2.d.f'), '5')"
   ]
  },
  {
   "cell_type": "markdown",
   "metadata": {},
   "source": [
    "# vals_at, vals_atpath\n",
    "> Poor man's JSONPath."
   ]
  },
  {
   "cell_type": "code",
   "execution_count": null,
   "metadata": {},
   "outputs": [],
   "source": [
    "#| export\n",
    "\n",
    "def _vals_atpath(o, *path: Any, filter_empty=False) -> empty | tuple[empty | object, ...] | object:\n",
    "    try: \n",
    "        idx = path.index('*'); pre, pos = path[:idx], path[idx+1:]\n",
    "    except ValueError:\n",
    "        return a if (a := val_atpath(o, *path, default=_NF)) is not _NF else empty\n",
    "    a = val_atpath(o, *pre, default=_NF) if pre else o\n",
    "    if not pos: return a\n",
    "    if a is _NF: return empty\n",
    "    try: \n",
    "        res = tuple(map(lambda x: _vals_atpath(x, *pos, filter_empty=filter_empty), a))  # type: ignore\n",
    "        if all(x is empty for x in res): return empty\n",
    "        return tuple(filter(lambda x: x is not empty, res)) if filter_empty else res\n",
    "    except (AttributeError, TypeError) as e: return empty\n",
    "\n",
    "def vals_atpath(o, *path: Any, filter_empty=False) -> tuple[Any, ...]:\n",
    "    \"Return nested values-- or empty|(empty, ...)-- at `path` with wildcards '*' from `d`.\"\n",
    "    if '*' not in path: return () if (res := val_atpath(o, *path, default=_NF)) is _NF else (res,)\n",
    "    res = _vals_atpath(o, *path, filter_empty=filter_empty)\n",
    "    return () if res is empty else res  # type: ignore\n",
    "\n",
    "def _vals_at(o, path:str, filter_empty=False) -> empty | tuple[empty | object, ...] | object:\n",
    "    pre, wc, pos = str(path).partition('*')\n",
    "    if not wc and not pos: return a if (a := val_at(o, pre, _NF)) is not _NF else empty\n",
    "    a = val_at(o, pre.rstrip('.'), _NF) if pre else o\n",
    "    if not pos: return a\n",
    "    if a is _NF: return empty\n",
    "    try: \n",
    "        res = tuple(map(lambda x: _vals_at(x, pos.lstrip('.'), filter_empty=filter_empty), a))  # type: ignore\n",
    "        if all(x is empty for x in res): return empty\n",
    "        return tuple(filter(lambda x: x is not empty, res)) if filter_empty else res\n",
    "    except TypeError: return empty\n",
    "\n",
    "def vals_at(o, path:str, filter_empty=False) -> tuple[Any, ...]:\n",
    "    \"Return nested values-- or empty|(empty, ...)-- at `path` with wildcards '*' from `o`.\"\n",
    "    if '*' not in path: return () if (res := val_at(o, path, _NF)) is _NF else (res,)\n",
    "    res = _vals_at(o, path, filter_empty=filter_empty)\n",
    "    return () if res is empty else res  # type: ignore\n"
   ]
  },
  {
   "cell_type": "code",
   "execution_count": null,
   "metadata": {},
   "outputs": [],
   "source": [
    "test_eq(vals_atpath(object, ''), ())\n",
    "test_eq(vals_atpath(object, 'a'), ())\n",
    "test_eq(vals_atpath(object, '*', 'a'), ())\n",
    "test_eq(vals_atpath(object, '*', 'a', '*'), ())\n",
    "\n",
    "test_eq(vals_atpath(['a', 'b'], 'a'), ())\n",
    "test_eq(vals_atpath(['a', 'b'], '*'), ('a', 'b'))\n",
    "test_eq(vals_atpath(['a', 'b'], '*', 'a'), ())\n",
    "\n",
    "test_eq(vals_atpath(['a', 'b'], 0), ('a',))\n",
    "test_eq(vals_atpath(['a', 'b'], 2), ())\n",
    "\n",
    "test_eq(vals_atpath([{'a':1}], 'a'), ())\n",
    "test_eq(vals_atpath([{'a':1}], '*'), [{'a':1}])\n",
    "test_eq(vals_atpath([{'a':1}, {'a':2}], '*', 'a'), (1, 2))"
   ]
  },
  {
   "cell_type": "code",
   "execution_count": null,
   "metadata": {},
   "outputs": [],
   "source": [
    "test_eq(vals_at(object, ''), ())\n",
    "test_eq(vals_at(object, 'a'), ())\n",
    "test_eq(vals_at(object, '*.a'), ())\n",
    "test_eq(vals_at(object, '*.a.*'), ())\n",
    "\n",
    "test_eq(vals_at(['a', 'b'], 'a'), ())\n",
    "test_eq(vals_at(['a', 'b'], '*'), ('a', 'b'))\n",
    "test_eq(vals_at(['a', 'b'], '*.a'), ())\n",
    "\n",
    "test_eq(vals_at(['a', 'b'], '0'), ('a',))\n",
    "test_eq(vals_at(['a', 'b'], '2'), ())\n",
    "\n",
    "test_eq(vals_at([{'a':1}], 'a'), ())\n",
    "test_eq(vals_at([{'a':1}], '*'), [{'a':1}])\n",
    "test_eq(vals_at([{'a':1}, {'a':2}], '*.a'), (1, 2))"
   ]
  },
  {
   "cell_type": "code",
   "execution_count": null,
   "metadata": {},
   "outputs": [],
   "source": [
    "d = [\n",
    "    {'a': 1, 'b': [2,  3],  'c': {'d':   4}}, \n",
    "    {'a': 5, 'b': [6,  7],                  'd': [{'e': 81}, {'e': 82}]}, \n",
    "    {'a': 9, 'b': [10, 11], 'c': {'d': 12}}\n",
    "]\n",
    "\n",
    "test_eq(vals_atpath(d, ''), ())\n",
    "test_eq(vals_atpath(d, object), ())  # type: ignore\n",
    "test_eq(vals_atpath(d, '*'), (*d,))\n",
    "test_eq(vals_atpath(d, '2'), (d[2],))\n",
    "test_eq(vals_atpath(d, 'a'), ())\n",
    "test_eq(vals_atpath([], '*', 'a'), ())#())\n",
    "test_eq(vals_atpath([{'a': object}], '*', 'a', '*', 'b'), ())\n",
    "\n",
    "test_eq(vals_atpath(d, '*', 'a'), (1, 5, 9))\n",
    "test_eq(vals_atpath(d, '*', 'a', '*'), (1,5,9))\n",
    "test_eq(vals_atpath(d, '*', 'b', 1), (3, 7, 11))\n",
    "test_eq(vals_atpath(d, '*', 'c', 'd'), (4, empty, 12))\n",
    "test_eq(vals_atpath(d, '*', 'c', 'd', filter_empty=True), (4, 12))\n",
    "\n",
    "test_eq(vals_atpath(d, '*', 'd', '*', 'e'), (empty, (81, 82), empty))\n",
    "test_eq(vals_atpath(d, '*', 'd', '*', 'e', filter_empty=True), ((81, 82),))\n",
    "test_eq(vals_atpath(d, '*', 'd', '*', 'f'), ())\n",
    "test_eq(vals_atpath(d, 1, 'd', '*', 'e'), (81, 82))"
   ]
  },
  {
   "cell_type": "code",
   "execution_count": null,
   "metadata": {},
   "outputs": [],
   "source": [
    "d = [\n",
    "    {'a': 1, 'b': [2,  3],  'c': {'d':   4}}, \n",
    "    {'a': 5, 'b': [6,  7],                  'd': [{'e': 81}, {'e': 82}]}, \n",
    "    {'a': 9, 'b': [10, 11], 'c': {'d': 12}}\n",
    "]\n",
    "\n",
    "test_eq(vals_at(d, ''), ())\n",
    "test_fail(lambda: vals_at(d, object))  # type: ignore\n",
    "test_eq(vals_at(d, '*'), (*d,))\n",
    "test_eq(vals_at(d, '2'), (d[2],))\n",
    "test_eq(vals_at(d, 'a'), ())\n",
    "test_eq(vals_at([], '*.a'), ())#())\n",
    "test_eq(vals_at([{'a': object}], '*.a.*.b'), ())\n",
    "\n",
    "test_eq(vals_at(d, '*,a'), ())\n",
    "test_eq(vals_at(d, '*.a'), (1, 5, 9))\n",
    "test_eq(vals_at(d, '*.a.*'), (1,5,9))\n",
    "test_eq(vals_at(d, '*.b.1'), (3, 7, 11))\n",
    "test_eq(vals_at(d, '*.c.d'), (4, empty, 12))\n",
    "test_eq(vals_at(d, '*.c.d', filter_empty=True), (4, 12))\n",
    "\n",
    "test_eq(vals_at(d, '*.d.*.e'), (empty, (81, 82), empty))\n",
    "test_eq(vals_at(d, '*.d.*.e', filter_empty=True), ((81, 82),))\n",
    "test_eq(vals_at(d, '*.d.*.f'), ())\n",
    "test_eq(vals_at(d, '1.d.*.e'), (81, 82))"
   ]
  },
  {
   "cell_type": "markdown",
   "metadata": {},
   "source": [
    "# deep_in"
   ]
  },
  {
   "cell_type": "code",
   "execution_count": null,
   "metadata": {},
   "outputs": [],
   "source": [
    "def deep_in(o:Mapping|Iterable, val):\n",
    "    \"return True if val is in nested collections\"\n",
    "    if isinstance(o, Mapping):\n",
    "        return val in o.values() or any(deep_in(v, val) for v in o.values() if isinstance(v, (Mapping, Iterable)))\n",
    "    elif isinstance(o, Iterable):\n",
    "        return val in o or any(deep_in(v, val) for v in o if isinstance(v, (Mapping, Iterable)))\n",
    "    raise ValueError(f\"deep_in: o must be a Mapping or Iterable, got {type(o)}\")"
   ]
  },
  {
   "cell_type": "code",
   "execution_count": null,
   "metadata": {},
   "outputs": [],
   "source": [
    "test_fail(lambda:deep_in(None, 1))  # type: ignore\n",
    "test_eq(deep_in((), 1), False)\n",
    "test_eq(deep_in((1,), 1), True)\n",
    "test_eq(deep_in((1,), 2), False)\n",
    "test_eq(deep_in({'a': 1}, 1), True)\n",
    "test_eq(deep_in({'a': 1}, 2), False)\n",
    "test_eq(deep_in({'a': (1,)}, 1), True)\n",
    "test_eq(deep_in({'a': (1,)}, 2), False)\n",
    "test_eq(deep_in({'a': {'b': 1}}, 1), True)\n",
    "test_eq(deep_in({'a': {'b': 1}}, 2), False)\n",
    "test_eq(deep_in({'a': {'b': (1,)}}, 1), True)\n",
    "test_eq(deep_in({'a': {'b': (1,)}}, 2), False)"
   ]
  },
  {
   "cell_type": "code",
   "execution_count": null,
   "metadata": {},
   "outputs": [],
   "source": [
    "def deep_in_v1(o:Mapping|Iterable, val):\n",
    "    \"return True if val is in o\"\n",
    "    if isinstance(o, Mapping):\n",
    "        for v in o.values():\n",
    "            if v == val or (is_listy(v) and deep_in_v1(v, val)): return True\n",
    "        return False\n",
    "    elif isinstance(o, Iterable):\n",
    "        if val in o: return True\n",
    "        return any(deep_in_v1(v, val) for v in o if is_listy(v))\n",
    "    raise ValueError(f\"deep_in: o must be a Mapping or Iterable, got {type(o)}\")"
   ]
  },
  {
   "cell_type": "code",
   "execution_count": null,
   "metadata": {},
   "outputs": [],
   "source": [
    "def deep_in_v2(o:Mapping|Iterable, val):\n",
    "    from collections import deque\n",
    "    stack = deque([o])\n",
    "    while stack:\n",
    "        curr = stack.popleft()\n",
    "        if isinstance(curr, Mapping):\n",
    "            if val in curr.values(): return True\n",
    "            stack.extend(v for v in curr.values() if is_listy(v))\n",
    "        elif isinstance(curr, Iterable):\n",
    "            if val in curr: return True  \n",
    "            stack.extend(v for v in curr if is_listy(v))\n",
    "        else:\n",
    "            raise ValueError(f\"deep_in: o must be a Mapping or Iterable, got {type(curr)}\")\n",
    "    return False"
   ]
  },
  {
   "cell_type": "code",
   "execution_count": null,
   "metadata": {},
   "outputs": [],
   "source": [
    "def deep_in_v3(o:Mapping|Iterable, val):\n",
    "    def _search(obj):\n",
    "        if isinstance(obj, Mapping):\n",
    "            yield from obj.values()\n",
    "            for v in obj.values():\n",
    "                if is_listy(v): yield from _search(v)\n",
    "        elif isinstance(obj, Iterable):\n",
    "            yield from obj\n",
    "            for v in obj:\n",
    "                if is_listy(v): yield from _search(v)\n",
    "        else:\n",
    "            raise ValueError(f\"deep_in: o must be a Mapping or Iterable, got {type(obj)}\")\n",
    "    \n",
    "    return val in _search(o)"
   ]
  },
  {
   "cell_type": "code",
   "execution_count": null,
   "metadata": {},
   "outputs": [],
   "source": [
    "test_data = [\n",
    "    ((), 1), ((1,), 1), ((1,), 2), ({'a': 1}, 1), ({'a': 1}, 2),  \n",
    "    ({'a': (1,)}, 1), ({'a': (1,)}, 2), ({'a': {'b': 1}}, 1), \n",
    "    ({'a': {'b': 1}}, 2), ({'a': {'b': (1,)}}, 1), ({'a': {'b': (1,)}}, 2)\n",
    "]\n",
    "\n",
    "for o, val in test_data:\n",
    "    orig = deep_in(o, val)\n",
    "    test_eq(deep_in_v1(o, val), orig)\n",
    "    test_eq(deep_in_v2(o, val), orig) \n",
    "    test_eq(deep_in_v3(o, val), orig)"
   ]
  },
  {
   "cell_type": "code",
   "execution_count": null,
   "metadata": {},
   "outputs": [
    {
     "name": "stdout",
     "output_type": "stream",
     "text": [
      "\n",
      "Performance comparison (10000 iterations):\n",
      "original       : 0.0902s (speedup: 1.00x)\n",
      "v1_single_iter : 0.0568s (speedup: 1.59x)\n",
      "v2_stack_based : 0.0729s (speedup: 1.24x)\n",
      "v3_generator   : 0.0779s (speedup: 1.16x)\n"
     ]
    }
   ],
   "source": [
    "import time\n",
    "\n",
    "deep_data = {'level1': {'level2': {'level3': {'level4': [1, 2, 3, {'deep': 'target'}]}}}}\n",
    "\n",
    "def time_function(func, data, target, iterations=10000):\n",
    "    start = time.time()\n",
    "    for _ in range(iterations):\n",
    "        func(data, target)\n",
    "    return time.time() - start\n",
    "\n",
    "print(\"\\nPerformance comparison (10000 iterations):\")\n",
    "target = 'target'\n",
    "times = {}\n",
    "times['original'] = time_function(deep_in, deep_data, target)\n",
    "times['v1_single_iter'] = time_function(deep_in_v1, deep_data, target)\n",
    "times['v2_stack_based'] = time_function(deep_in_v2, deep_data, target)\n",
    "times['v3_generator'] = time_function(deep_in_v3, deep_data, target)\n",
    "\n",
    "for name, t in times.items():\n",
    "    speedup = times['original'] / t if t > 0 else float('inf')\n",
    "    print(f\"{name:15}: {t:.4f}s (speedup: {speedup:.2f}x)\")"
   ]
  },
  {
   "cell_type": "code",
   "execution_count": null,
   "metadata": {},
   "outputs": [],
   "source": [
    "#| export\n",
    "def deep_in(o:Mapping|Iterable, val):\n",
    "    \"return True if val is in nested collections\"\n",
    "    if isinstance(o, Mapping):\n",
    "        for v in o.values():\n",
    "            if v == val or (is_listy(v) and deep_in(v, val)): return True\n",
    "        return False\n",
    "    elif isinstance(o, Iterable):\n",
    "        if val in o: return True\n",
    "        return any(deep_in(v, val) for v in o if is_listy(v))\n",
    "    raise ValueError(f\"deep_in: o must be a Mapping or Iterable, got {type(o)}\")"
   ]
  },
  {
   "cell_type": "markdown",
   "metadata": {},
   "source": [
    "# Dict helpers"
   ]
  },
  {
   "cell_type": "markdown",
   "metadata": {},
   "source": [
    "## pops_"
   ]
  },
  {
   "cell_type": "code",
   "execution_count": null,
   "metadata": {},
   "outputs": [],
   "source": [
    "#| export\n",
    "def pops_(d: dict, *ks: Hashable) -> dict:\n",
    "    \"Pop existing `ks` items from `d` in-place into a dictionary.\"\n",
    "    return {k:d.pop(k) for k in ks if k in d}"
   ]
  },
  {
   "cell_type": "code",
   "execution_count": null,
   "metadata": {},
   "outputs": [],
   "source": [
    "d = {'a': 1, 'b': 2, 'c': 3}\n",
    "test_eq((pops_(d, 'a', 'b'), d), ({'a': 1, 'b': 2}, {'c': 3}))\n",
    "test_eq(pops_({'a': 1, 'b': 2, 'c': 3}, 'd'), {})\n",
    "test_eq(pops_({'a': 1, 'b': 2, 'c': 3}, 'a', 'c', 'd'), {'a': 1, 'c': 3})\n",
    "test_eq(pops_({}, 'a'), {})\n",
    "test_eq(pops_({'a': 1}, 'a', 'a'), {'a': 1})"
   ]
  },
  {
   "cell_type": "markdown",
   "metadata": {},
   "source": [
    "## pops_values_"
   ]
  },
  {
   "cell_type": "code",
   "execution_count": null,
   "metadata": {},
   "outputs": [],
   "source": [
    "#| export\n",
    "def pops_values_(d: dict, *ks: Hashable) -> tuple:\n",
    "    \"Pop existing `ks` items from `d` in-place into a tuple of values or `Parameter.empty` for missing keys.\"\n",
    "    return tuple(d.pop(k, Parameter.empty) for k in ks)"
   ]
  },
  {
   "cell_type": "code",
   "execution_count": null,
   "metadata": {},
   "outputs": [],
   "source": [
    "test_eq(pops_values_({'a': 1, 'b': 2, 'c': 3}, 'a', 'b'), (1, 2))\n",
    "test_eq(pops_values_({'a': 1, 'b': 2, 'c': 3}, 'd'), (Parameter.empty,))\n",
    "test_eq(pops_values_({'a': 1, 'b': 2, 'c': 3}, 'a', 'c', 'd'), (1, 3, Parameter.empty))\n",
    "test_eq(pops_values_({}, 'a'), (Parameter.empty,))\n",
    "test_eq(pops_values_({'a': 1}, 'a', 'a'), (1, Parameter.empty))"
   ]
  },
  {
   "cell_type": "markdown",
   "metadata": {},
   "source": [
    "## gets"
   ]
  },
  {
   "cell_type": "code",
   "execution_count": null,
   "metadata": {},
   "outputs": [],
   "source": [
    "#| export\n",
    "\n",
    "def gets(d: Mapping, *ks: Hashable):\n",
    "    \"Fetches `ks` values, or `Parameter.empty` for missing keys, from `d` into a tuple.\"\n",
    "    return tuple(d.get(k, Parameter.empty) for k in ks)  # type: ignore"
   ]
  },
  {
   "cell_type": "code",
   "execution_count": null,
   "metadata": {},
   "outputs": [],
   "source": [
    "test_eq(gets({'a': 1, 'b': 2}, 'a', 'c', 'b'), (1, Parameter.empty, 2))\n",
    "test_eq(gets({'a': 1, 'b': 2}), ())\n",
    "a, b = gets({'a': 1, 'b': 2}, 'b', 'a')\n",
    "test_eq((a, b), (2, 1))\n",
    "\n",
    "d = {Path('a'): 1, Path('b'): 2}\n",
    "test_eq(gets(d, Path('a'), Path('c'), Path('b')), (1, Parameter.empty, 2))"
   ]
  },
  {
   "cell_type": "markdown",
   "metadata": {},
   "source": [
    "## update_"
   ]
  },
  {
   "cell_type": "code",
   "execution_count": null,
   "metadata": {},
   "outputs": [],
   "source": [
    "# def update_(d:dict|None=None, /, empty_value=None, **kwargs):\n",
    "#     \"Update `d` in-place with `kwargs` whose values aren't `empty_value`\"\n",
    "#     d = d if d is not None else {}\n",
    "#     for k, v in kwargs.items():\n",
    "#         if v is not empty_value: d[k] = v\n",
    "#     return d"
   ]
  },
  {
   "cell_type": "code",
   "execution_count": null,
   "metadata": {},
   "outputs": [],
   "source": [
    "#| export\n",
    "\n",
    "def update_(dest=None, /, empty_value=None, **kwargs) -> Any:\n",
    "    \"Update `dest` in-place with `kwargs` whose values aren't `empty_value`\"\n",
    "    dest = dest if dest is not None else {}\n",
    "    f = operator.setitem if isinstance(dest, MutableMapping) else setattr\n",
    "    for k, v in filter(lambda x: x[1]!=empty_value, kwargs.items()): f(dest, k, v)\n",
    "    return dest"
   ]
  },
  {
   "cell_type": "markdown",
   "metadata": {},
   "source": [
    "Helper for conditionally updating dictionaries/namespaces.\n"
   ]
  },
  {
   "cell_type": "code",
   "execution_count": null,
   "metadata": {},
   "outputs": [],
   "source": [
    "d = {'a': 1}\n",
    "update_(d, b=2, c=None)\n",
    "test_eq(d, {'a': 1, 'b': 2})\n",
    "\n",
    "d = {}\n",
    "update_(d, a=True, b=Parameter.empty, empty_value=Parameter.empty)\n",
    "test_eq(d, {'a': True})\n",
    "\n",
    "d = update_(a=1, b=None)\n",
    "test_eq(d, {'a': 1})"
   ]
  },
  {
   "cell_type": "code",
   "execution_count": null,
   "metadata": {},
   "outputs": [],
   "source": [
    "class A: a = 1; b = 2; c = 3\n",
    "a:A = update_(A(), **{'b': 22, 'd': 44})\n",
    "test_eq(a.a, 1)\n",
    "test_eq(a.b, 22)\n",
    "test_eq(a.c, 3)\n",
    "test_eq(a.d, 44)  # type: ignore"
   ]
  },
  {
   "cell_type": "code",
   "execution_count": null,
   "metadata": {},
   "outputs": [],
   "source": [
    "ad = AD(a=1, b=2)\n",
    "update_(ad, a=3, b=4, c=5)\n",
    "test_eq(ad.a, 3)\n",
    "test_eq(ad.b, 4)\n",
    "test_eq(ad.c, 5)"
   ]
  },
  {
   "cell_type": "markdown",
   "metadata": {},
   "source": [
    "# _get_globals"
   ]
  },
  {
   "cell_type": "code",
   "execution_count": null,
   "metadata": {},
   "outputs": [],
   "source": [
    "#| exporti\n",
    "\n",
    "def _get_globals(mod: str):\n",
    "    if hasattr(sys, '_getframe'):\n",
    "        glb = sys._getframe(2).f_globals\n",
    "    else:\n",
    "        glb = sys.modules[mod].__dict__\n",
    "    return glb"
   ]
  },
  {
   "cell_type": "code",
   "execution_count": null,
   "metadata": {},
   "outputs": [],
   "source": [
    "def _gtest(): return _get_globals(__name__)\n",
    "g1 = _gtest()\n",
    "g2 = globals()\n",
    "test_eq(g1, g2)"
   ]
  },
  {
   "cell_type": "markdown",
   "metadata": {},
   "source": [
    "# Bundle path"
   ]
  },
  {
   "cell_type": "code",
   "execution_count": null,
   "metadata": {},
   "outputs": [],
   "source": [
    "#| export\n",
    "\n",
    "def bundle_path(mod:str|ModuleType):\n",
    "    \"Return the path to the module's directory or current directory.\"\n",
    "    if isinstance(mod, str): mod = importlib.import_module(mod)\n",
    "    return Path(fn).parent if (fn := getattr(mod, '__file__', None)) else Path()"
   ]
  },
  {
   "cell_type": "code",
   "execution_count": null,
   "metadata": {},
   "outputs": [],
   "source": [
    "import olio\n",
    "\n",
    "test_eq(bundle_path(__name__), Path('.'))\n",
    "test_eq(bundle_path('olio').resolve(), Path(olio.__file__).parent)"
   ]
  },
  {
   "cell_type": "markdown",
   "metadata": {},
   "source": [
    "# Kounter\n",
    "> Counter of keys"
   ]
  },
  {
   "cell_type": "code",
   "execution_count": null,
   "metadata": {},
   "outputs": [],
   "source": [
    "#| export\n",
    "\n",
    "class Kounter:\n",
    "    def __init__(self): self.d = DefaultDict(int)\n",
    "    def __call__(self, k): d = self.d; d[k] += 1; return self.d[k]"
   ]
  },
  {
   "cell_type": "code",
   "execution_count": null,
   "metadata": {},
   "outputs": [],
   "source": [
    "kounter = Kounter()\n",
    "cntr = Kounter()\n",
    "cntr('a')\n",
    "cntr('b')\n",
    "cntr('a')\n",
    "cntr('a')\n",
    "cntr('b')\n",
    "cntr('b')\n",
    "cntr('b')\n",
    "test_eq(cntr.d, {'a': 3, 'b': 4})\n",
    "test_eq(cntr('int'), 1)"
   ]
  },
  {
   "cell_type": "markdown",
   "metadata": {},
   "source": [
    "# id_gen\n",
    "> Generate session IDs"
   ]
  },
  {
   "cell_type": "code",
   "execution_count": null,
   "metadata": {},
   "outputs": [],
   "source": [
    "import random\n",
    "import re\n",
    "from pathlib import Path\n",
    "\n",
    "lines = Path(\"static/wordlist.txt\").read_text().splitlines()\n",
    "words = [line.strip() for line in lines if line.isalpha()]"
   ]
  },
  {
   "cell_type": "code",
   "execution_count": null,
   "metadata": {},
   "outputs": [],
   "source": [
    "def modify_word(word):\n",
    "    # Randomly capitalize the first or second letter\n",
    "    if len(word) > 1:\n",
    "        idx_to_capitalize = random.choice([0, 1])\n",
    "        word = word[:idx_to_capitalize] + word[idx_to_capitalize].upper() + word[idx_to_capitalize + 1:]\n",
    "    else:\n",
    "        word = word.upper()  # If single letter, capitalize it\n",
    "    \n",
    "    # Randomly add a number (0–99) at the start or end\n",
    "    if random.choice([True, False]):\n",
    "        number = random.randint(0, 99)\n",
    "        # if random.choice([True, False]):\n",
    "        #     word = f\"{number}{word}\"  # Number at the start\n",
    "        # else:\n",
    "        word = f\"{word}{number}\"  # Number at the end\n",
    "    \n",
    "    return word\n",
    "\n",
    "def generate_readable_id(num_words=3):\n",
    "    words_part = [modify_word(random.choice(words)) for _ in range(num_words)]\n",
    "    id_candidate = '-'.join(words_part)\n",
    "\n",
    "    # Ensure it's a valid CSS identifier\n",
    "    if not re.match(r\"^[a-zA-Z_][\\w\\-]*$\", id_candidate):  # Add '_' if invalid\n",
    "        id_candidate = f\"_{id_candidate}\"\n",
    "    \n",
    "    return f\"{id_candidate}-{random.randint(0, 9999)}\""
   ]
  },
  {
   "cell_type": "code",
   "execution_count": null,
   "metadata": {},
   "outputs": [
    {
     "data": {
      "text/plain": [
       "('lYing9-Partial-Deeply94-291', 'Independent16-aRrives85-cOmmented30-8284')"
      ]
     },
     "execution_count": null,
     "metadata": {},
     "output_type": "execute_result"
    }
   ],
   "source": [
    "generate_readable_id(), generate_readable_id()"
   ]
  },
  {
   "cell_type": "code",
   "execution_count": null,
   "metadata": {},
   "outputs": [],
   "source": [
    "#| export\n",
    "\n",
    "def simple_id():\n",
    "    return 'b'+hexlify(os.urandom(16), '-', 4).decode('ascii')\n",
    "\n",
    "def id_gen():\n",
    "    kntr = Kounter()\n",
    "    def _(o:Any=None): \n",
    "        if o is None: return simple_id()\n",
    "        # return f\"{type(o).__name__}_{hash(o) if isinstance(o, Hashable) else kntr(type(o).__name__)}\"\n",
    "        return f\"{type(o).__name__}_{kntr(type(o).__name__)}\"\n",
    "    return _"
   ]
  },
  {
   "cell_type": "markdown",
   "metadata": {},
   "source": [
    "The `id_gen` function creates a function that takes any object and generates an unique Id valid during the current session. Useful for creating unique element IDs in dynamic HTML content.\n"
   ]
  },
  {
   "cell_type": "code",
   "execution_count": null,
   "metadata": {},
   "outputs": [
    {
     "data": {
      "text/plain": [
       "('b4fc95147-9d27295a-deb0cbc0-609281e7',\n",
       " 'b518a0dc0-d0751c8e-31b27b66-5a3a2853')"
      ]
     },
     "execution_count": null,
     "metadata": {},
     "output_type": "execute_result"
    }
   ],
   "source": [
    "new_id = id_gen()\n",
    "new_id(), new_id()"
   ]
  },
  {
   "cell_type": "code",
   "execution_count": null,
   "metadata": {},
   "outputs": [
    {
     "data": {
      "text/plain": [
       "('int_1', 'int_2')"
      ]
     },
     "execution_count": null,
     "metadata": {},
     "output_type": "execute_result"
    }
   ],
   "source": [
    "int_id = id_gen()\n",
    "int_id(7), int_id(8)"
   ]
  },
  {
   "cell_type": "code",
   "execution_count": null,
   "metadata": {},
   "outputs": [
    {
     "name": "stdout",
     "output_type": "stream",
     "text": [
      "object_1 object_2\n",
      "dict_1 dict_2\n",
      "PosixPath_1 PosixPath_2 PosixPath_3\n"
     ]
    }
   ],
   "source": [
    "obj_id = id_gen()\n",
    "o1, o2 = object(), object()\n",
    "print(obj_id(o1), obj_id(o2))\n",
    "\n",
    "dict_id = id_gen()\n",
    "print(dict_id(d1 := {'a': 1}), dict_id(d2 := {'a': 1}))\n",
    "\n",
    "pth_id = id_gen()\n",
    "print(pth_id(Path('.')), pth_id(Path()), pth_id(Path('./bin')))"
   ]
  },
  {
   "cell_type": "markdown",
   "metadata": {},
   "source": [
    "## WithCounterMeta"
   ]
  },
  {
   "cell_type": "code",
   "execution_count": null,
   "metadata": {},
   "outputs": [],
   "source": [
    "#| export\n",
    "\n",
    "class WithCounterMeta(FC.FixSigMeta):\n",
    "    \"Adds a `_cnt_` attribute to its classes and increments it for each new instance.\"\n",
    "    _cnt_: int\n",
    "    def __call__(cls, *args, **kwargs):\n",
    "        res = super().__call__(*args, **kwargs)\n",
    "        res._cnt_ = cls._cnt_\n",
    "        cls._cnt_ += 1\n",
    "        return res\n",
    "    def __new__(cls, name, bases, dict):\n",
    "        res = super().__new__(cls, name, bases, dict)\n",
    "        res._cnt_ = 0\n",
    "        return res"
   ]
  },
  {
   "cell_type": "code",
   "execution_count": null,
   "metadata": {},
   "outputs": [],
   "source": [
    "class _T1(metaclass=WithCounterMeta): pass\n",
    "class _T2(metaclass=WithCounterMeta): pass\n",
    "\n",
    "test_is(_T1._cnt_, 0)\n",
    "test_is(_T2._cnt_, 0)\n",
    "\n",
    "test_is(_T1()._cnt_, 0)\n",
    "test_is(_T1._cnt_, 1)\n",
    "test_is(_T2._cnt_, 0)\n",
    "\n",
    "test_is(_T1()._cnt_, 1)\n",
    "test_is(_T2()._cnt_, 0)\n",
    "test_eq(_T1._cnt_, 2)\n",
    "test_eq(_T2._cnt_, 1)"
   ]
  },
  {
   "cell_type": "markdown",
   "metadata": {},
   "source": [
    "# Colophon\n",
    "----"
   ]
  },
  {
   "cell_type": "code",
   "execution_count": null,
   "metadata": {},
   "outputs": [],
   "source": [
    "#|hide\n",
    "#|eval: false\n",
    "import fastcore.all as FC\n",
    "import nbdev\n",
    "from nbdev.clean import nbdev_clean"
   ]
  },
  {
   "cell_type": "code",
   "execution_count": null,
   "metadata": {},
   "outputs": [],
   "source": [
    "#|hide\n",
    "#|eval: false\n",
    "\n",
    "if FC.IN_NOTEBOOK:\n",
    "    nb_path = '00_basic.ipynb'\n",
    "    nbdev_clean(nb_path)\n",
    "    nbdev.nbdev_export(nb_path)"
   ]
  }
 ],
 "metadata": {
  "jupytext": {
   "formats": "ipynb,py:percent"
  },
  "kernelspec": {
   "display_name": "python3",
   "language": "python",
   "name": "python3"
  }
 },
 "nbformat": 4,
 "nbformat_minor": 4
}
