{
 "cells": [
  {
   "cell_type": "code",
   "execution_count": null,
   "metadata": {},
   "outputs": [],
   "source": [
    "#| default_exp project"
   ]
  },
  {
   "cell_type": "code",
   "execution_count": null,
   "metadata": {},
   "outputs": [],
   "source": [
    "#| export\n",
    "from __future__ import annotations"
   ]
  },
  {
   "cell_type": "markdown",
   "id": "0a853cb0",
   "metadata": {},
   "source": [
    "# project\n",
    "> basic setup for projects"
   ]
  },
  {
   "cell_type": "markdown",
   "id": "e6284dcc-58bb-423d-ba08-f701df325df1",
   "metadata": {},
   "source": [
    "# Prologue"
   ]
  },
  {
   "cell_type": "code",
   "execution_count": null,
   "metadata": {},
   "outputs": [],
   "source": [
    "#| export\n",
    "import pathlib\n",
    "from typing import Callable\n",
    "\n",
    "import fastcore.all as FC\n",
    "from rich.console import Console\n"
   ]
  },
  {
   "cell_type": "markdown",
   "metadata": {},
   "source": [
    "----"
   ]
  },
  {
   "cell_type": "markdown",
   "metadata": {},
   "source": [
    "# console"
   ]
  },
  {
   "cell_type": "code",
   "execution_count": null,
   "metadata": {},
   "outputs": [],
   "source": [
    "#| exporti\n",
    "\n",
    "# _console = Console(width=107, tab_size= 4, theme=dark_theme, force_jupyter=True if FC.IN_NOTEBOOK else None)\n",
    "_CONSOLE: Console = None  # type: ignore\n",
    "\n",
    "def get_theme(theme:str | object | None):\n",
    "    if isinstance(theme, str):\n",
    "        try:\n",
    "            from rich_theme_manager import ThemeManager  # type: ignore\n",
    "            theme_dir = pathlib.Path(\"~/.rich_theme_manager/themes\").expanduser()\n",
    "            theme_manager = ThemeManager(theme_dir=theme_dir.absolute().as_posix())\n",
    "            try: theme = theme_manager.get(theme)\n",
    "            except ValueError: theme = None\n",
    "        except ImportError:\n",
    "            theme = None\n",
    "    # return theme or Theme('default', styles={\"repr.tag_contents\": \"white\"})\n",
    "    return theme\n"
   ]
  },
  {
   "cell_type": "code",
   "execution_count": null,
   "metadata": {},
   "outputs": [],
   "source": [
    "#| export\n",
    "\n",
    "def get_console() -> Console:\n",
    "    \"Globally configured console\"\n",
    "    global _CONSOLE\n",
    "    return _CONSOLE\n",
    "\n",
    "def setup_console(\n",
    "        width: int = 140,\n",
    "        theme: str | object | None = None,\n",
    "        clear=False,\n",
    "        rule=None\n",
    ") -> tuple[Console, Callable[..., None]]:\n",
    "    global _CONSOLE\n",
    "    theme = get_theme(theme)\n",
    "    params = dict(width=width, tab_size=4, theme=theme, force_jupyter=True if FC.IN_IPYTHON else None)\n",
    "    _CONSOLE = Console(**params)  # type: ignore\n",
    "    if clear: _CONSOLE.clear()\n",
    "    if rule:_CONSOLE.rule(rule)\n",
    "    return _CONSOLE, _CONSOLE.print\n",
    "\n",
    "setup_console();"
   ]
  },
  {
   "cell_type": "code",
   "execution_count": null,
   "metadata": {},
   "outputs": [
    {
     "name": "stdout",
     "output_type": "stream",
     "text": [
      "<console width=140 ColorSystem.TRUECOLOR>\n"
     ]
    }
   ],
   "source": [
    "print(_CONSOLE)"
   ]
  },
  {
   "cell_type": "markdown",
   "metadata": {},
   "source": [
    "# Colophon\n",
    "----"
   ]
  },
  {
   "cell_type": "code",
   "execution_count": null,
   "metadata": {},
   "outputs": [],
   "source": [
    "import fastcore.all as FC\n",
    "import nbdev\n",
    "from nbdev.clean import nbdev_clean\n"
   ]
  },
  {
   "cell_type": "code",
   "execution_count": null,
   "metadata": {},
   "outputs": [],
   "source": [
    "if FC.IN_NOTEBOOK:\n",
    "    nb_path = '00_project.ipynb'\n",
    "    nbdev_clean(nb_path)\n",
    "    nbdev.nbdev_export(nb_path)\n"
   ]
  }
 ],
 "metadata": {
  "jupytext": {
   "formats": "ipynb,py:percent"
  },
  "kernelspec": {
   "display_name": "python3",
   "language": "python",
   "name": "python3"
  }
 },
 "nbformat": 4,
 "nbformat_minor": 4
}
