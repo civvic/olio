{
 "cells": [
  {
   "cell_type": "code",
   "execution_count": null,
   "metadata": {},
   "outputs": [],
   "source": [
    "#| default_exp callback"
   ]
  },
  {
   "cell_type": "code",
   "execution_count": null,
   "metadata": {},
   "outputs": [],
   "source": [
    "#| export\n",
    "from __future__ import annotations"
   ]
  },
  {
   "cell_type": "code",
   "execution_count": null,
   "metadata": {},
   "outputs": [],
   "source": [
    "#| hide\n",
    "# %reload_ext autoreload\n",
    "# %autoreload 0"
   ]
  },
  {
   "cell_type": "markdown",
   "metadata": {},
   "source": [
    "# Callback\n",
    "\n",
    "> Base and helpers for classes that can be augmented with callbacks\n",
    "> "
   ]
  },
  {
   "cell_type": "markdown",
   "metadata": {},
   "source": [
    "# Prologue"
   ]
  },
  {
   "cell_type": "code",
   "execution_count": null,
   "metadata": {},
   "outputs": [],
   "source": [
    "#| export\n",
    "\n",
    "import time\n",
    "from contextlib import contextmanager\n",
    "from functools import partial\n",
    "from operator import attrgetter\n",
    "from typing import Any\n",
    "from typing import Iterable\n",
    "from typing import Sequence\n",
    "from typing import Type\n",
    "from typing import TypeAlias\n",
    "\n",
    "import fastcore.all as FC\n"
   ]
  },
  {
   "cell_type": "code",
   "execution_count": null,
   "metadata": {},
   "outputs": [],
   "source": [
    "#| export\n",
    "from olio.basic import _EMPTY\n",
    "from olio.basic import AD\n"
   ]
  },
  {
   "cell_type": "code",
   "execution_count": null,
   "metadata": {},
   "outputs": [],
   "source": [
    "from itertools import repeat\n",
    "\n",
    "from fastcore.test import *\n",
    "from olio.project import setup_console\n",
    "from olio.test import *\n"
   ]
  },
  {
   "attachments": {},
   "cell_type": "markdown",
   "metadata": {},
   "source": [
    "----"
   ]
  },
  {
   "cell_type": "code",
   "execution_count": null,
   "metadata": {},
   "outputs": [],
   "source": [
    "console, cprint = setup_console(108)"
   ]
  },
  {
   "attachments": {},
   "cell_type": "markdown",
   "metadata": {},
   "source": [
    "----"
   ]
  },
  {
   "attachments": {},
   "cell_type": "markdown",
   "metadata": {},
   "source": [
    "# Callback\n"
   ]
  },
  {
   "cell_type": "code",
   "execution_count": null,
   "metadata": {},
   "outputs": [],
   "source": [
    "#| export\n",
    "\n",
    "class Callback(): \n",
    "    order = 0\n",
    "    cbs: list[Callback]  # if present, run callbacks in the list after running this callback\n"
   ]
  },
  {
   "cell_type": "code",
   "execution_count": null,
   "metadata": {},
   "outputs": [],
   "source": [
    "#| export\n",
    "\n",
    "def run_cbs(cbs: Sequence[Callback] | FC.L, method_nm:str, caller=None, *args, **kwargs):\n",
    "    \"Run `method_nm(caller)` of each callback in `cbs` in order.\"\n",
    "    for cb in sorted(cbs, key=attrgetter('order')):\n",
    "        if method := getattr(cb, method_nm, None): method(caller, *args, **kwargs)\n",
    "        if nested := getattr(cb, 'cbs', None): run_cbs(nested, method_nm, caller, *args, **kwargs)\n"
   ]
  },
  {
   "cell_type": "code",
   "execution_count": null,
   "metadata": {},
   "outputs": [],
   "source": [
    "class VerboseCB(Callback):\n",
    "    def before_fit(self, caller): self.count = 0\n",
    "    def after_batch(self, caller): self.count += 1\n",
    "    def after_fit(self, caller): print(f'{caller} Completed {self.count} batches')\n",
    "    "
   ]
  },
  {
   "cell_type": "code",
   "execution_count": null,
   "metadata": {},
   "outputs": [],
   "source": [
    "cbs = [VerboseCB()]\n",
    "run_cbs(cbs, 'before_fit')\n",
    "test_eq(cbs[0].count, 0)\n",
    "run_cbs(cbs, 'after_batch')\n",
    "test_eq(cbs[0].count, 1)\n",
    "test_stdout(lambda: run_cbs(cbs, 'after_fit'), 'None Completed 1 batches')\n"
   ]
  },
  {
   "cell_type": "markdown",
   "metadata": {},
   "source": [
    "# PassCB\n",
    "\n",
    "> A callback that does nothing"
   ]
  },
  {
   "cell_type": "code",
   "execution_count": null,
   "metadata": {},
   "outputs": [],
   "source": [
    "#| export\n",
    "\n",
    "class PassCB(Callback):\n",
    "    def noop(self, *args, **kwargs): pass\n",
    "    def __getattr__(self, name): return self.noop\n"
   ]
  },
  {
   "cell_type": "markdown",
   "metadata": {},
   "source": [
    "## HasCallbacks"
   ]
  },
  {
   "cell_type": "code",
   "execution_count": null,
   "metadata": {},
   "outputs": [],
   "source": [
    "#| export\n",
    "\n",
    "class HasCallbacks:\n",
    "    \"Base for classes that can be augmented with callbacks.\"\n",
    "    cbs: list[Callback]\n",
    "    cbs_names: tuple[str,...] = ()  # this callbacks becomes self methods if a subclass overrides them\n",
    "\n",
    "    def __new__(cls, *args, **kwargs):\n",
    "        self = super().__new__(cls)\n",
    "        self.cbs = []#PassCB()]\n",
    "        return self\n",
    "\n",
    "    def __init__(self, cbs:Sequence[Callback]=()): self.cbs = list(cbs)\n",
    "\n",
    "    def with_cbs(self, cbs:Sequence[Callback], extend=False):\n",
    "        if extend: self.cbs.extend(cbs)\n",
    "        else: self.cbs = list(cbs)\n",
    "        return self\n",
    "    \n",
    "    @contextmanager\n",
    "    def this_cbs(self, cbs:Sequence[Callback]):\n",
    "        \"Use temporary `cbs` in `with` block.\"\n",
    "        for cb in cbs: self.cbs.append(cb)\n",
    "        try:\n",
    "            yield        \n",
    "        finally:\n",
    "            for cb in cbs: self.cbs.remove(cb)\n",
    "\n",
    "    def __getattr__(self, name):\n",
    "        \"Run `name` as a callback if it's in `self.cbs_names`.\"\n",
    "        if name in self.cbs_names: return partial(self.callback, name)\n",
    "        raise AttributeError(name)\n",
    "\n",
    "    def callback(self, method_nm, *args, **kwargs): run_cbs(self.cbs, method_nm, self, *args, **kwargs)\n"
   ]
  },
  {
   "cell_type": "code",
   "execution_count": null,
   "metadata": {},
   "outputs": [
    {
     "name": "stdout",
     "output_type": "stream",
     "text": [
      "acting...\n",
      "thinking...\n",
      "\n",
      "before_act count: 0\n",
      "acting...\n",
      "thinking...\n",
      "after_act count: 2\n",
      "\n",
      "before_act count: 0\n",
      "acting...\n",
      "thinking...\n",
      "after_act count: 3\n"
     ]
    }
   ],
   "source": [
    "class Test(HasCallbacks):\n",
    "    count = 0\n",
    "    cbs_names = ('on_think',)\n",
    "    \n",
    "    def think(self):\n",
    "        self.callback('before_think')\n",
    "        self.count += 1\n",
    "        print('thinking...')\n",
    "        self.on_think()\n",
    "        self.callback('after_think')\n",
    "\n",
    "    def act(self):\n",
    "        self.callback('before_act')\n",
    "        self.count = 1\n",
    "        print('acting...')\n",
    "        self.think()\n",
    "        self.callback('after_act')\n",
    "\n",
    "class VerboseCB(Callback):\n",
    "    def before_act(self, ctx): print('before_act count:', ctx.count)\n",
    "    def after_act(self, ctx): print('after_act count:', ctx.count)\n",
    "\n",
    "test = Test()\n",
    "test.act()\n",
    "test_eq(test.count, 2)\n",
    "\n",
    "print()\n",
    "test = Test([VerboseCB()])\n",
    "test.act()\n",
    "test_eq(test.count, 2)\n",
    "class ThinkCB(Callback):\n",
    "    def on_think(self, ctx): ctx.count += 1\n",
    "\n",
    "print()\n",
    "test = Test([VerboseCB(), ThinkCB()])\n",
    "test.act()\n",
    "test_eq(test.count, 3)\n"
   ]
  },
  {
   "cell_type": "markdown",
   "metadata": {},
   "source": [
    "## with_cbs"
   ]
  },
  {
   "cell_type": "code",
   "execution_count": null,
   "metadata": {},
   "outputs": [],
   "source": [
    "#| export\n",
    "\n",
    "class with_cbs:\n",
    "    def __init__(self, nm:str|None=None): self.nm = nm\n",
    "    def __call__(self, f):\n",
    "        def _f(o, *args, **kwargs):\n",
    "            nm = self.nm or f.__name__\n",
    "            try:\n",
    "                o.callback(f'before_{nm}')\n",
    "                f(o, *args, **kwargs)\n",
    "                o.callback(f'after_{nm}')\n",
    "            except globals()[f'Cancel{nm.title()}Exception']: pass\n",
    "            finally: o.callback(f'cleanup_{nm}')\n",
    "        return _f"
   ]
  },
  {
   "cell_type": "code",
   "execution_count": null,
   "metadata": {},
   "outputs": [
    {
     "name": "stdout",
     "output_type": "stream",
     "text": [
      "acting...\n",
      "thinking...\n",
      "\n",
      "before_act count: 0\n",
      "acting...\n",
      "thinking...\n",
      "after_act count: 2\n",
      "\n",
      "before_act count: 0\n",
      "acting...\n",
      "before_think count: 1\n",
      "thinking...\n",
      "after_think count: 2\n",
      "after_act count: 3\n"
     ]
    }
   ],
   "source": [
    "class Test(HasCallbacks):\n",
    "    count = 0\n",
    "    \n",
    "    @with_cbs()\n",
    "    def think(self):\n",
    "        print('thinking...')\n",
    "        self.count += 1\n",
    "\n",
    "    @with_cbs('act')\n",
    "    def act(self, cbs:Sequence[Callback]=()):\n",
    "        with self.this_cbs(cbs):\n",
    "            print('acting...')\n",
    "            self.count = 1\n",
    "            self.think()\n",
    "\n",
    "\n",
    "class ActCB(Callback):\n",
    "    def before_act(self, ctx): print('before_act count:', ctx.count)\n",
    "    def after_act(self, ctx): \n",
    "        print('after_act count:', ctx.count)\n",
    "        ctx.count += 1\n",
    "\n",
    "class ThinkCB(Callback):\n",
    "    def before_think(self, ctx): print('before_think count:', ctx.count)\n",
    "    def after_think(self, ctx): \n",
    "        print('after_think count:', ctx.count)\n",
    "        ctx.count += 1\n",
    "\n",
    "\n",
    "test = Test()\n",
    "test.act()\n",
    "test_eq(test.count, 2)\n",
    "print()\n",
    "\n",
    "test = Test([ActCB()])\n",
    "test.act()\n",
    "test_eq(test.count, 3)\n",
    "print()\n",
    "\n",
    "test = Test([ActCB()])\n",
    "test.act([ThinkCB()])\n",
    "test_eq(test.count, 4)\n"
   ]
  },
  {
   "cell_type": "markdown",
   "metadata": {},
   "source": [
    "# CollectionTracker\n",
    "\n",
    "> Track progress of an iterable over a collection"
   ]
  },
  {
   "cell_type": "code",
   "execution_count": null,
   "metadata": {},
   "outputs": [],
   "source": [
    "#| export\n",
    "\n",
    "NoTotalT: TypeAlias = None"
   ]
  },
  {
   "cell_type": "code",
   "execution_count": null,
   "metadata": {},
   "outputs": [],
   "source": [
    "#| export\n",
    "\n",
    "class CollectionTracker(HasCallbacks):\n",
    "    \"Base for tracking iteration state over a collection, extensible via subclassing.\"\n",
    "    idx: int|None = None\n",
    "    start_time: float|None = None\n",
    "    elapsed_time: float|None = None\n",
    "\n",
    "    cbs_names = ('on_start', 'on_stop', 'before_iter', 'after_iter', 'on_update', 'on_interrupt')\n",
    "\n",
    "    @property\n",
    "    def state(self):\n",
    "        st = AD(idx=self.idx, total=self.total, \n",
    "            progress=self.progress, elapsed_time=self.elapsed_time)\n",
    "        if self.interrupted: st.interrupted = True\n",
    "        return st\n",
    "\n",
    "    @property\n",
    "    def progress(self):\n",
    "        if self.total is not None and self.idx is not None and self.total:\n",
    "            return min(1.0, round((self.idx+1) / float(self.total), 4))\n",
    "        return None\n",
    "\n",
    "    def update(self, idx:int|None=None, item:Any=_EMPTY):\n",
    "        if self.idx is None: self.idx = self._start(idx or 0)\n",
    "        if not self.active or (self.total is not None and self.idx >= self.total): return\n",
    "        self.elapsed_time = time.time() - self.start_time  # type: ignore\n",
    "        self.on_update(item) if item is not _EMPTY else self.on_update()\n",
    "        if idx is None: idx = self.idx + 1\n",
    "        if self.total is not None and idx >= self.total:\n",
    "            self.after_iter()\n",
    "            self._stop()\n",
    "        self.idx = idx\n",
    "    \n",
    "    def _start(self, idx:int):\n",
    "        self.active = True\n",
    "        self.start_time = time.time()\n",
    "        self.on_start()\n",
    "        self.before_iter()\n",
    "        self.idx = idx\n",
    "        return idx\n",
    "\n",
    "    def _stop(self):\n",
    "        if self.active:\n",
    "            self.active = False\n",
    "            self.on_stop()\n",
    "\n",
    "    def __iter__(self):\n",
    "        # if self.total != 0: self._setup(0)\n",
    "        self._start(0)\n",
    "        try:\n",
    "            for i, o in enumerate(self.source):\n",
    "                if self.total is not None and i >= self.total: break\n",
    "                yield o\n",
    "                self.update(item=o)\n",
    "            if self.total is None:\n",
    "                self.total = self.idx\n",
    "                self.update(self.total)\n",
    "        except Exception as e:\n",
    "            self.interrupted = True\n",
    "            self.on_interrupt()\n",
    "            raise e\n",
    "        finally: self._stop()\n",
    "\n",
    "    def __init__(self, source:Iterable[Any], total:int|NoTotalT|Type[_EMPTY]=_EMPTY, **kwargs):\n",
    "        super().__init__(**kwargs)\n",
    "        self.source = source\n",
    "        if total is _EMPTY: \n",
    "            try: total = len(source)  # type: ignore\n",
    "            except: total = None\n",
    "        self.total: int|None = total  # type: ignore\n",
    "        self.interrupted = False\n",
    "        self.active = False"
   ]
  },
  {
   "cell_type": "code",
   "execution_count": null,
   "metadata": {},
   "outputs": [],
   "source": [
    "t = CollectionTracker(())\n",
    "test_eq(t.total, 0)\n",
    "with test_raises(StopIteration): next(iter(t))\n",
    "for i in t: pass\n",
    "\n",
    "t = CollectionTracker(range(6))\n",
    "test_eq(t.state, {'idx': None, 'total': 6, 'progress': None, 'elapsed_time': None})\n",
    "test_eq(next(iter(t)), 0)\n",
    "test_eq(t.state, {'idx': 0, 'total': 6, 'progress': 0.1667, 'elapsed_time': t.elapsed_time})\n",
    "\n",
    "t = CollectionTracker(range(6))\n",
    "test_eq([t.idx for i in t], range(6))\n",
    "test_eq(t.state, {'idx': 6, 'total': 6, 'progress': 1.0, 'elapsed_time': t.elapsed_time})\n"
   ]
  },
  {
   "cell_type": "code",
   "execution_count": null,
   "metadata": {},
   "outputs": [],
   "source": [
    "t = CollectionTracker('abc')\n",
    "test_eq(t.total, 3)\n",
    "test_eq(t.state, {'idx': None, 'total': 3, 'progress': None, 'elapsed_time': None})\n",
    "test_eq(next(it := iter(t)), 'a')\n",
    "test_eq(next(it), 'b')\n",
    "test_eq(t.state, {'idx': 1, 'total': 3, 'progress': 0.6667, 'elapsed_time': t.elapsed_time})\n",
    "\n",
    "t = CollectionTracker('abc', None)\n",
    "test_eq([_ for _ in t], ('a', 'b', 'c'))\n",
    "test_eq(t.state, {'idx': 3, 'total': 3, 'progress': 1.0, 'elapsed_time': t.elapsed_time})\n"
   ]
  },
  {
   "cell_type": "code",
   "execution_count": null,
   "metadata": {},
   "outputs": [],
   "source": [
    "t = CollectionTracker(c := (12, 56, -1, 2, 67), None)\n",
    "oo = []\n",
    "for i, o in enumerate(c):\n",
    "    t.update(item=o)\n",
    "    test_eq(t.idx, i+1)\n",
    "    oo.append(o)\n",
    "test_eq(oo, c)\n",
    "test_eq(t.state, {'idx': len(c), 'total': None, 'progress': None, 'elapsed_time': t.elapsed_time})\n",
    "\n",
    "t = CollectionTracker(c, 3)\n",
    "for i in range(5):\n",
    "    t.update()\n",
    "    test_eq(t.idx, min(i+1, 3))\n",
    "test_eq(t.state, {'idx':3, 'total':3, 'progress': 1.0, 'elapsed_time': t.elapsed_time})\n",
    "\n",
    "t = CollectionTracker(c, 3)\n",
    "oo = [o for o in t]\n",
    "test_eq(oo, (12, 56, -1))\n",
    "test_eq(t.state, {'idx':3, 'total':3, 'progress': 1.0, 'elapsed_time': t.elapsed_time})\n"
   ]
  },
  {
   "cell_type": "code",
   "execution_count": null,
   "metadata": {},
   "outputs": [],
   "source": [
    "from functools import reduce\n",
    "\n",
    "t = CollectionTracker(c := (1, 2, -1, -2, 7))\n",
    "test_eq(reduce(lambda x, y: x+y, t), 7)\n",
    "test_eq(t.state, {'idx': 5, 'total': 5, 'progress': 1.0, 'elapsed_time': t.elapsed_time})\n",
    "\n",
    "\n",
    "class CountCB(Callback):\n",
    "    def on_start(self, ctx): self.count = 0\n",
    "    def on_update(self, ctx, item=_EMPTY): \n",
    "        self.count += 1\n",
    "\n",
    "with (t := CollectionTracker(c)).this_cbs([cb := CountCB()]):\n",
    "    test_eq(reduce(lambda x, y: x+y, t), 7)\n",
    "test_eq(t.state, {'idx': 5, 'total': 5, 'progress': 1.0, 'elapsed_time': t.elapsed_time})\n",
    "test_eq(cb.count, 5)\n",
    "\n",
    "test_eq(reduce(lambda x, y: x+y, (t := CollectionTracker(c, cbs=[cb]))), 7)\n",
    "test_eq(t.state, {'idx': 5, 'total': 5, 'progress': 1.0, 'elapsed_time': t.elapsed_time})\n",
    "test_eq(cb.count, 5)\n"
   ]
  },
  {
   "cell_type": "code",
   "execution_count": null,
   "metadata": {},
   "outputs": [],
   "source": [
    "t = CollectionTracker(repeat(7), 3)\n",
    "oo = []\n",
    "for o in t:\n",
    "    oo.append(o)\n",
    "test_eq(oo, (7, 7, 7))\n",
    "test_eq(t.state, {'idx': 3, 'total': 3, 'progress': 1.0, 'elapsed_time': t.elapsed_time})\n",
    "\n",
    "t = CollectionTracker(repeat(None), None)\n",
    "for _ in t:\n",
    "    if t.state.idx >= 10: break  # type: ignore\n",
    "test_eq(t.state, {'idx': 10, 'total': None, 'progress': None, 'elapsed_time': t.elapsed_time})\n"
   ]
  },
  {
   "cell_type": "markdown",
   "metadata": {},
   "source": [
    "# Colophon\n",
    "----"
   ]
  },
  {
   "cell_type": "code",
   "execution_count": null,
   "metadata": {},
   "outputs": [],
   "source": [
    "import fastcore.all as FC\n",
    "import nbdev\n",
    "from nbdev.clean import nbdev_clean\n"
   ]
  },
  {
   "cell_type": "code",
   "execution_count": null,
   "metadata": {},
   "outputs": [],
   "source": [
    "if FC.IN_NOTEBOOK:\n",
    "    nb_path = '10_callback.ipynb'\n",
    "    nbdev_clean(nb_path)\n",
    "    nbdev.nbdev_export(nb_path)\n"
   ]
  }
 ],
 "metadata": {
  "kernelspec": {
   "display_name": "python3",
   "language": "python",
   "name": "python3"
  }
 },
 "nbformat": 4,
 "nbformat_minor": 2
}
