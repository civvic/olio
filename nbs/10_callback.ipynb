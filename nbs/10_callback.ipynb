{
 "cells": [
  {
   "cell_type": "code",
   "execution_count": null,
   "metadata": {},
   "outputs": [],
   "source": [
    "#| default_exp callback"
   ]
  },
  {
   "cell_type": "code",
   "execution_count": null,
   "metadata": {},
   "outputs": [],
   "source": [
    "#| export\n",
    "from __future__ import annotations"
   ]
  },
  {
   "cell_type": "code",
   "execution_count": null,
   "metadata": {},
   "outputs": [],
   "source": [
    "#| hide\n",
    "# %reload_ext autoreload\n",
    "# %autoreload 0"
   ]
  },
  {
   "cell_type": "markdown",
   "metadata": {},
   "source": [
    "# Callback\n",
    "\n",
    "> Base and helpers for classes that can be augmented with callbacks\n",
    "> "
   ]
  },
  {
   "cell_type": "markdown",
   "metadata": {},
   "source": [
    "# Prologue"
   ]
  },
  {
   "cell_type": "code",
   "execution_count": null,
   "metadata": {},
   "outputs": [],
   "source": [
    "#| export\n",
    "import collections\n",
    "import time\n",
    "from contextlib import contextmanager\n",
    "from functools import partial\n",
    "from operator import attrgetter\n",
    "from operator import length_hint\n",
    "from typing import Any\n",
    "from typing import Callable\n",
    "from typing import Iterable\n",
    "from typing import Iterator\n",
    "from typing import Sequence\n",
    "from typing import Type\n",
    "from typing import TypeVar\n",
    "\n",
    "import fastcore.all as FC\n"
   ]
  },
  {
   "cell_type": "code",
   "execution_count": null,
   "metadata": {},
   "outputs": [],
   "source": [
    "#| export\n",
    "from olio.basic import AD\n",
    "from olio.basic import empty\n",
    "from olio.basic import EmptyT\n",
    "from olio.basic import update_\n",
    "from olio.common import Runner\n",
    "from olio.common import setattrs\n"
   ]
  },
  {
   "cell_type": "code",
   "execution_count": null,
   "metadata": {},
   "outputs": [],
   "source": [
    "import itertools\n",
    "import operator\n",
    "from collections import ChainMap\n",
    "from collections import Counter\n",
    "from collections import deque\n",
    "from itertools import islice\n",
    "from itertools import repeat\n",
    "from typing import cast\n",
    "from typing import TypeAlias\n",
    "\n",
    "from fastcore.test import *\n",
    "from olio.common import *\n",
    "from olio.project import setup_console\n",
    "from olio.test import *\n"
   ]
  },
  {
   "attachments": {},
   "cell_type": "markdown",
   "metadata": {},
   "source": [
    "----"
   ]
  },
  {
   "cell_type": "code",
   "execution_count": null,
   "metadata": {},
   "outputs": [],
   "source": [
    "console, cprint = setup_console(108)"
   ]
  },
  {
   "attachments": {},
   "cell_type": "markdown",
   "metadata": {},
   "source": [
    "----"
   ]
  },
  {
   "attachments": {},
   "cell_type": "markdown",
   "metadata": {},
   "source": [
    "# Callback\n"
   ]
  },
  {
   "cell_type": "code",
   "execution_count": null,
   "metadata": {},
   "outputs": [],
   "source": [
    "#| export\n",
    "\n",
    "class Callback: \n",
    "    order = 0\n",
    "    cbs: Sequence[Callback]  # if present, run callbacks in the list after running this callback\n",
    "    "
   ]
  },
  {
   "cell_type": "code",
   "execution_count": null,
   "metadata": {},
   "outputs": [
    {
     "data": {
      "text/plain": [
       "<filter>"
      ]
     },
     "execution_count": null,
     "metadata": {},
     "output_type": "execute_result"
    }
   ],
   "source": [
    "filter(lambda x: x != 'b', ['a', 'b', 'c'])"
   ]
  },
  {
   "cell_type": "code",
   "execution_count": null,
   "metadata": {},
   "outputs": [],
   "source": [
    "#| export\n",
    "\n",
    "def run_cbs(cbs: Iterable[Callback] | FC.L, method_nm:str, ctx=None, *args, **kwargs):\n",
    "    \"Run `method_nm(ctx, ...)` of each callback in `cbs` in order.\"\n",
    "    for cb in sorted(cbs, key=attrgetter('order')):\n",
    "        if f := getattr(cb, method_nm, None): Runner(f)(ctx, *args, **kwargs)\n",
    "        if nested := getattr(cb, 'cbs', None): \n",
    "            run_cbs(filter(lambda x: x != cb, nested), method_nm, ctx, *args, **kwargs)\n"
   ]
  },
  {
   "cell_type": "markdown",
   "metadata": {},
   "source": [
    "## EchoCB"
   ]
  },
  {
   "cell_type": "code",
   "execution_count": null,
   "metadata": {},
   "outputs": [],
   "source": [
    "#| export\n",
    "\n",
    "class EchoCB(Callback):\n",
    "    cbs=()\n",
    "    def echo(self, ctx, *args, **kwargs): print(ctx, args, kwargs)\n",
    "    def __getattr__(self, name): return partial(self.echo, name)\n"
   ]
  },
  {
   "cell_type": "code",
   "execution_count": null,
   "metadata": {},
   "outputs": [
    {
     "name": "stdout",
     "output_type": "stream",
     "text": [
      "on_start ({'count': 3},) {}\n",
      "on_update ({'count': 3}, 12) {}\n"
     ]
    }
   ],
   "source": [
    "run_cbs((EchoCB(),), 'on_start', AD(count=3))\n",
    "run_cbs((EchoCB(),), 'on_update', AD(count=3), 12)"
   ]
  },
  {
   "cell_type": "code",
   "execution_count": null,
   "metadata": {},
   "outputs": [],
   "source": [
    "class VerboseCB(Callback):\n",
    "    def before_fit(self, ctx): self.count = 0\n",
    "    def after_batch(self, ctx): self.count += 1\n",
    "    def after_fit(self, ctx): print(f'{ctx} Completed {self.count} batches')\n",
    "    "
   ]
  },
  {
   "cell_type": "code",
   "execution_count": null,
   "metadata": {},
   "outputs": [],
   "source": [
    "cbs = [VerboseCB()]\n",
    "run_cbs(cbs, 'before_fit')\n",
    "test_eq(cbs[0].count, 0)\n",
    "run_cbs(cbs, 'after_batch')\n",
    "test_eq(cbs[0].count, 1)\n",
    "test_stdout(lambda: run_cbs(cbs, 'after_fit'), 'None Completed 1 batches')\n"
   ]
  },
  {
   "cell_type": "code",
   "execution_count": null,
   "metadata": {},
   "outputs": [],
   "source": [
    "# def FuncCB(**kwargs):\n",
    "#     setattrs(cb := Callback(), kwargs)\n",
    "#     return cb\n"
   ]
  },
  {
   "cell_type": "markdown",
   "metadata": {},
   "source": [
    "## FuncCB"
   ]
  },
  {
   "cell_type": "code",
   "execution_count": null,
   "metadata": {},
   "outputs": [],
   "source": [
    "#| export\n",
    "\n",
    "class FuncCB(Callback):\n",
    "    def __init__(self, **kwargs): setattrs(self, kwargs)\n"
   ]
  },
  {
   "cell_type": "code",
   "execution_count": null,
   "metadata": {},
   "outputs": [
    {
     "name": "stdout",
     "output_type": "stream",
     "text": [
      "3\n"
     ]
    }
   ],
   "source": [
    "cb = FuncCB(on_count=lambda ctx: print(ctx.count))\n",
    "run_cbs((cb,), 'on_count', o := AD(count=3))\n"
   ]
  },
  {
   "cell_type": "code",
   "execution_count": null,
   "metadata": {},
   "outputs": [
    {
     "name": "stdout",
     "output_type": "stream",
     "text": [
      "4\n"
     ]
    }
   ],
   "source": [
    "def inc(ctx): ctx.count += 1\n",
    "\n",
    "cb = FuncCB(on_count=(inc, lambda ctx: print(ctx.count)))\n",
    "run_cbs((cb,), 'on_count', o := AD(count=3))\n",
    "test_eq(o.count, 4)\n"
   ]
  },
  {
   "cell_type": "markdown",
   "metadata": {},
   "source": [
    "## PassCB\n",
    "\n",
    "> A callback that does nothing"
   ]
  },
  {
   "cell_type": "code",
   "execution_count": null,
   "metadata": {},
   "outputs": [],
   "source": [
    "#| export\n",
    "\n",
    "class PassCB(Callback):\n",
    "    def noop(self, *args, **kwargs): pass\n",
    "    def __getattr__(self, name): return self.noop\n"
   ]
  },
  {
   "cell_type": "markdown",
   "metadata": {},
   "source": [
    "# HasCallbacks"
   ]
  },
  {
   "cell_type": "code",
   "execution_count": null,
   "metadata": {},
   "outputs": [],
   "source": [
    "#| export\n",
    "\n",
    "class HasCallbacks:\n",
    "    \"Base for classes that can be augmented with callbacks.\"\n",
    "    cbs: list[Callback]\n",
    "    cbs_names: tuple[str,...] = ()  # this callbacks becomes self methods if a subclass overrides them\n",
    "\n",
    "    def __new__(cls, *args, **kwargs):\n",
    "        self = super().__new__(cls)\n",
    "        self.cbs = []#PassCB()]\n",
    "        return self\n",
    "\n",
    "    def __init__(self, cbs:Sequence[Callback]=()): self.cbs = list(cbs)\n",
    "\n",
    "    def with_cbs(self, cbs:Sequence[Callback], extend=False):\n",
    "        if extend: self.cbs.extend(cbs)\n",
    "        else: self.cbs = list(cbs)\n",
    "        return self\n",
    "    \n",
    "    @contextmanager\n",
    "    def this_cbs(self, cbs:Sequence[Callback]):\n",
    "        \"Use temporary `cbs` in `with` block.\"\n",
    "        for cb in cbs: self.cbs.append(cb)\n",
    "        try:\n",
    "            yield        \n",
    "        finally:\n",
    "            for cb in cbs: self.cbs.remove(cb)\n",
    "\n",
    "    def __getattr__(self, name):\n",
    "        \"Run `name` as a callback if it's in `self.cbs_names`.\"\n",
    "        if name in self.cbs_names: return partial(self.callback, name)\n",
    "        raise AttributeError(name)\n",
    "\n",
    "    def callback(self, method_nm, *args, **kwargs): run_cbs(self.cbs, method_nm, self, *args, **kwargs)\n"
   ]
  },
  {
   "cell_type": "code",
   "execution_count": null,
   "metadata": {},
   "outputs": [
    {
     "name": "stdout",
     "output_type": "stream",
     "text": [
      "acting...\n",
      "thinking...\n",
      "\n",
      "before_act count: 0\n",
      "acting...\n",
      "thinking...\n",
      "after_act count: 2\n",
      "\n",
      "before_act count: 0\n",
      "acting...\n",
      "thinking...\n",
      "after_act count: 3\n"
     ]
    }
   ],
   "source": [
    "class Test(HasCallbacks):\n",
    "    count = 0\n",
    "    cbs_names = ('on_think',)\n",
    "    \n",
    "    def think(self):\n",
    "        self.callback('before_think')\n",
    "        self.count += 1\n",
    "        print('thinking...')\n",
    "        self.on_think()\n",
    "        self.callback('after_think')\n",
    "\n",
    "    def act(self):\n",
    "        self.callback('before_act')\n",
    "        self.count = 1\n",
    "        print('acting...')\n",
    "        self.think()\n",
    "        self.callback('after_act')\n",
    "\n",
    "class VerboseCB(Callback):\n",
    "    def before_act(self, ctx): print('before_act count:', ctx.count)\n",
    "    def after_act(self, ctx): print('after_act count:', ctx.count)\n",
    "\n",
    "test = Test()\n",
    "test.act()\n",
    "test_eq(test.count, 2)\n",
    "\n",
    "print()\n",
    "test = Test([VerboseCB()])\n",
    "test.act()\n",
    "test_eq(test.count, 2)\n",
    "class ThinkCB(Callback):\n",
    "    def on_think(self, ctx): ctx.count += 1\n",
    "\n",
    "print()\n",
    "test = Test([VerboseCB(), ThinkCB()])\n",
    "test.act()\n",
    "test_eq(test.count, 3)\n"
   ]
  },
  {
   "cell_type": "markdown",
   "metadata": {},
   "source": [
    "# with_cbs"
   ]
  },
  {
   "cell_type": "code",
   "execution_count": null,
   "metadata": {},
   "outputs": [],
   "source": [
    "#| export\n",
    "\n",
    "class with_cbs:\n",
    "    def __init__(self, nm:str|None=None): self.nm = nm\n",
    "    def __call__(self, f):\n",
    "        def _f(o, *args, **kwargs):\n",
    "            nm = self.nm or f.__name__\n",
    "            try:\n",
    "                o.callback(f'before_{nm}')\n",
    "                f(o, *args, **kwargs)\n",
    "                o.callback(f'after_{nm}')\n",
    "            except globals()[f'Cancel{nm.title()}Exception']: pass\n",
    "            finally: o.callback(f'cleanup_{nm}')\n",
    "        return _f"
   ]
  },
  {
   "cell_type": "code",
   "execution_count": null,
   "metadata": {},
   "outputs": [
    {
     "name": "stdout",
     "output_type": "stream",
     "text": [
      "acting...\n",
      "thinking...\n",
      "\n",
      "before_act count: 0\n",
      "acting...\n",
      "thinking...\n",
      "after_act count: 2\n",
      "\n",
      "before_act count: 0\n",
      "acting...\n",
      "before_think count: 1\n",
      "thinking...\n",
      "after_think count: 2\n",
      "after_act count: 3\n"
     ]
    }
   ],
   "source": [
    "class Test(HasCallbacks):\n",
    "    count = 0\n",
    "    \n",
    "    @with_cbs()\n",
    "    def think(self):\n",
    "        print('thinking...')\n",
    "        self.count += 1\n",
    "\n",
    "    @with_cbs('act')\n",
    "    def act(self, cbs:Sequence[Callback]=()):\n",
    "        with self.this_cbs(cbs):\n",
    "            print('acting...')\n",
    "            self.count = 1\n",
    "            self.think()\n",
    "\n",
    "\n",
    "class ActCB(Callback):\n",
    "    def before_act(self, ctx): print('before_act count:', ctx.count)\n",
    "    def after_act(self, ctx): \n",
    "        print('after_act count:', ctx.count)\n",
    "        ctx.count += 1\n",
    "\n",
    "class ThinkCB(Callback):\n",
    "    def before_think(self, ctx): print('before_think count:', ctx.count)\n",
    "    def after_think(self, ctx): \n",
    "        print('after_think count:', ctx.count)\n",
    "        ctx.count += 1\n",
    "\n",
    "\n",
    "test = Test()\n",
    "test.act()\n",
    "test_eq(test.count, 2)\n",
    "print()\n",
    "\n",
    "test = Test([ActCB()])\n",
    "test.act()\n",
    "test_eq(test.count, 3)\n",
    "print()\n",
    "\n",
    "test = Test([ActCB()])\n",
    "test.act([ThinkCB()])\n",
    "test_eq(test.count, 4)\n"
   ]
  },
  {
   "cell_type": "markdown",
   "metadata": {},
   "source": [
    "# Iteration"
   ]
  },
  {
   "cell_type": "code",
   "execution_count": null,
   "metadata": {},
   "outputs": [],
   "source": [
    "#| exporti\n",
    "\n",
    "def _get_total(total: int|None|Type[EmptyT], source) -> int|None:\n",
    "    if total is empty:\n",
    "        try: return len(source)\n",
    "        except: return length_hint(source) or None\n",
    "    if total is not None and (not isinstance(total, int) or total < 0): total = None\n",
    "    return total\n"
   ]
  },
  {
   "cell_type": "code",
   "execution_count": null,
   "metadata": {},
   "outputs": [],
   "source": [
    "test_eq(_get_total(-2, ()), None)\n",
    "test_eq(_get_total(None, ()), None)\n",
    "test_eq(_get_total(empty, ()), 0)\n",
    "test_eq(_get_total(None, range(10)), None)\n",
    "test_eq(_get_total(empty, range(10)), 10)\n",
    "test_eq(_get_total(empty, [1,2,3]), 3)\n",
    "test_eq(_get_total(empty, repeat(1, 5)), 5)\n",
    "test_eq(_get_total(2, repeat(1, 5)), 2)\n",
    "def _g(): yield 1\n",
    "test_eq(_get_total(empty, _g()), None)\n",
    "test_eq(_get_total(None, _g()), None)\n",
    "test_eq(_get_total(3, _g()), 3)\n"
   ]
  },
  {
   "cell_type": "code",
   "execution_count": null,
   "metadata": {},
   "outputs": [],
   "source": [
    "class _Container:\n",
    "    def __init__(self, l:Sequence='abcdefghij'): self._l = l\n",
    "    def __contains__(self, x): return x in self._l\n",
    "\n",
    "class _Iterable:\n",
    "    def __init__(self, l:Sequence='abcdefghij'): self._l = l\n",
    "    def __iter__(self): return iter(self._l)\n",
    "\n",
    "class _Iterator(_Iterable):\n",
    "    def __init__(self, l:Sequence='abcdefghij'): super().__init__(l); self._it = iter(self._l)\n",
    "    def __iter__(self): return self\n",
    "    def __next__(self): return next(self._it)\n",
    "\n",
    "class _Reversible(_Iterable):\n",
    "    def __init__(self, l: str='abcdefghij'): self._l = l\n",
    "    def __reversed__(self): return reversed(self._l)\n",
    "\n",
    "class _Sized:\n",
    "    def __init__(self, l: str='abcdefghij'): self._l = l\n",
    "    def __len__(self): return len(self._l)\n",
    "\n",
    "class _Collection(_Sized, _Iterable, _Container): ...\n",
    "\n",
    "class _Indexable(_Collection):\n",
    "    \"\"\"Sequence-like that only supports integer indexing, not slicing\"\"\"\n",
    "    def __getitem__(self, idx) -> str:\n",
    "        if not isinstance(idx, int): raise TypeError(\"Indices must be integers\")\n",
    "        return self._l[idx]\n",
    "    def index(self, x, start=None, stop=None) -> int: return self._l.index(x, start, stop)\n",
    "    def count(self, x, start=None, stop=None) -> int: return self._l.count(x, start, stop)\n",
    "\n",
    "class _Sequence(_Reversible, _Indexable):\n",
    "    def __getitem__(self, idx: int | slice) -> str | list[str]: return list(self._l)[idx]\n",
    "    "
   ]
  },
  {
   "cell_type": "code",
   "execution_count": null,
   "metadata": {},
   "outputs": [],
   "source": [
    "# Test basic iteration\n",
    "test_eq(list(_Iterable()), list('abcdefghij'))\n",
    "\n",
    "# Test iterator exhaustion\n",
    "it = _Iterator()\n",
    "test_eq(list(it), list('abcdefghij'))\n",
    "test_eq(list(it), [])  # Should be empty on second pass\n",
    "\n",
    "# Test collection capabilities\n",
    "coll = _Collection()\n",
    "test_eq(len(coll), 10)\n",
    "test_is('a' in coll, True)\n",
    "test_eq(list(coll), list('abcdefghij'))\n",
    "\n",
    "# Test sequence capabilities\n",
    "seq = _Sequence()\n",
    "test_eq(list(reversed(seq)), list('jihgfedcba'))\n",
    "\n",
    "# Test _IndexableOnly\n",
    "idx_only = _Indexable()\n",
    "test_eq(idx_only[0], 'a')\n",
    "test_eq(idx_only[-1], 'j')\n",
    "test_eq(idx_only[5], 'f')\n",
    "with test_raises(TypeError): idx_only[1:5]\n",
    "\n",
    "# Test full _Sequence\n",
    "seq = _Sequence()\n",
    "# Integer indexing\n",
    "test_eq(seq[0], 'a')\n",
    "test_eq(seq[-1], 'j')\n",
    "test_eq(seq[5], 'f')\n",
    "\n",
    "# Slicing\n",
    "test_eq(seq[1:5], list('bcde'))\n",
    "test_eq(seq[::2], list('acegi'))\n",
    "test_eq(seq[::-1], list('jihgfedcba'))\n",
    "test_eq(seq[-3:], list('hij'))\n",
    "\n",
    "# Index and count\n",
    "test_eq(seq.index('d'), 3)\n",
    "test_eq(seq.index('h', 5), 7)\n",
    "with test_raises(ValueError): seq.index('z')\n",
    "\n",
    "seq = _Sequence('aabbbcccc')\n",
    "test_eq(seq.count('a'), 2)\n",
    "test_eq(seq.count('b'), 3)\n",
    "test_eq(seq.count('c'), 4)\n",
    "test_eq(seq.count('z'), 0)\n"
   ]
  },
  {
   "cell_type": "markdown",
   "metadata": {},
   "source": [
    "# IterTracker"
   ]
  },
  {
   "cell_type": "code",
   "execution_count": null,
   "metadata": {},
   "outputs": [],
   "source": [
    "class IterTracker:\n",
    "    \"Track iterators, \"\n",
    "\n",
    "    n: int|None = None\n",
    "    elapsed_time: float|None = None\n",
    "    active, interrupted = False, False\n",
    "    item: Any = empty\n",
    "    def __init__(self, source: Iterable[Any] = (), total: int|None|Type[EmptyT] = empty):\n",
    "        self._source, self._total = source, total\n",
    "        self.total = _get_total(self._total, self._source)\n",
    "\n",
    "    @property\n",
    "    def progress(self):\n",
    "        if self.total is not None:\n",
    "            return None if self.n is None else min(1., round((self.n+1)/float(self.total), 4))\n",
    "        return None\n",
    "\n",
    "    @property\n",
    "    def state(self):\n",
    "        return AD(update_(item=self.item, n=self.n, total=self.total, \n",
    "                        progress=self.progress, elapsed_time=self.elapsed_time,\n",
    "                        interrupted=self.interrupted or empty,\n",
    "                        empty_value=empty))\n",
    "\n",
    "    def _iter_start(self):\n",
    "        self.total: int|None = _get_total(self._total, self._source)\n",
    "        self.active, self.elapsed_time, self.n = True, 0.0, None\n",
    "        return time.time()\n",
    "    \n",
    "    def _iter_update(self): ...\n",
    "\n",
    "    def _iter_stop(self):\n",
    "        if self.total is None and self.n is not None: self.total = self.n + 1\n",
    "        self.active, self.item= False, empty\n",
    "\n",
    "    def _iter_interrupt(self):\n",
    "        self.interrupted = True\n",
    "\n",
    "    def __iter__(self):\n",
    "        if self._source is None: return\n",
    "        start_time = self._iter_start()\n",
    "        try:\n",
    "            for self.n, self.item in enumerate(self._source):\n",
    "                if self.total is not None and self.n >= self.total: break\n",
    "                yield self.item\n",
    "                self.elapsed_time = time.time() - start_time\n",
    "                self._iter_update()\n",
    "        except Exception as e: self._iter_interrupt(); raise e\n",
    "        finally: self._iter_stop()\n",
    "\n",
    "    def trackiter(self) -> Iterator[tuple[AD, Any]]:\n",
    "        for elem in self:\n",
    "            yield self.state, elem\n",
    "\n",
    "def trackiter(source: Iterable[Any]) -> Iterator[tuple[AD, Any]]:\n",
    "    return IterTracker(source, empty).trackiter()\n"
   ]
  },
  {
   "cell_type": "code",
   "execution_count": null,
   "metadata": {},
   "outputs": [
    {
     "name": "stdout",
     "output_type": "stream",
     "text": [
      "a {'item': 'a', 'n': 0, 'total': None, 'progress': None, 'elapsed_time': 0.0}\n",
      "b {'item': 'b', 'n': 1, 'total': None, 'progress': None, 'elapsed_time': 2.9802322387695312e-05}\n",
      "c {'item': 'c', 'n': 2, 'total': None, 'progress': None, 'elapsed_time': 4.100799560546875e-05}\n",
      "d {'item': 'd', 'n': 3, 'total': None, 'progress': None, 'elapsed_time': 4.76837158203125e-05}\n",
      "e {'item': 'e', 'n': 4, 'total': None, 'progress': None, 'elapsed_time': 5.3882598876953125e-05}\n",
      "f {'item': 'f', 'n': 5, 'total': None, 'progress': None, 'elapsed_time': 6.079673767089844e-05}\n",
      "g {'item': 'g', 'n': 6, 'total': None, 'progress': None, 'elapsed_time': 6.771087646484375e-05}\n",
      "h {'item': 'h', 'n': 7, 'total': None, 'progress': None, 'elapsed_time': 7.390975952148438e-05}\n",
      "i {'item': 'i', 'n': 8, 'total': None, 'progress': None, 'elapsed_time': 8.082389831542969e-05}\n",
      "j {'item': 'j', 'n': 9, 'total': None, 'progress': None, 'elapsed_time': 8.702278137207031e-05}\n"
     ]
    }
   ],
   "source": [
    "tr = IterTracker(_Iterable())\n",
    "test_eq(tr.active, False)\n",
    "test_eq(tr.state, AD(n=None, total=None, progress=None, elapsed_time=None))\n",
    "test_eq([(tr.n,o) for o in tr], zip(range(10), 'abcdefghij'))\n",
    "test_eq(tr.active, False)\n",
    "test_eq(tr.state, AD(n=9, total=10, progress=1.0, elapsed_time=tr.elapsed_time))\n",
    "\n",
    "test_eq(list(IterTracker()), [])\n",
    "\n",
    "for st,o in trackiter(_Iterable()): print(o, st)\n"
   ]
  },
  {
   "cell_type": "code",
   "execution_count": null,
   "metadata": {},
   "outputs": [],
   "source": [
    "tr = IterTracker(_Iterator())\n",
    "test_eq(tr.state, AD(n=None, total=None, progress=None, elapsed_time=None))\n",
    "test_eq(''.join([o for o in tr]), 'abcdefghij')\n",
    "test_eq(tr.state, AD(n=9, total=10, progress=1.0, elapsed_time=tr.elapsed_time))\n",
    "test_eq(''.join([o for o in tr]), '')  # exhausted\n",
    "test_eq(tr.state, AD(n=None, total=None, progress=None, elapsed_time=0.0))\n"
   ]
  },
  {
   "cell_type": "code",
   "execution_count": null,
   "metadata": {},
   "outputs": [],
   "source": [
    "tr = IterTracker(_Collection())\n",
    "test_eq(tr.state, AD(n=None, total=10, progress=None, elapsed_time=None))\n",
    "test_eq(sum(tr.n for o in tr), 45)  # type: ignore\n"
   ]
  },
  {
   "cell_type": "code",
   "execution_count": null,
   "metadata": {},
   "outputs": [],
   "source": [
    "tr = IterTracker(_Indexable())\n",
    "test_eq(tr.state, AD(n=None, total=10, progress=None, elapsed_time=None))\n",
    "test_eq(operator.itemgetter(1, -5, 5)(_Indexable()), ('b', 'f', 'f'))\n"
   ]
  },
  {
   "cell_type": "code",
   "execution_count": null,
   "metadata": {},
   "outputs": [],
   "source": [
    "for i,o in enumerate(t := IterTracker(_Sequence())):\n",
    "    test_eq(gets(t.state, 'item', 'n', 'total', 'progress'), (o, i, 10, (i+1)/10.))\n"
   ]
  },
  {
   "cell_type": "markdown",
   "metadata": {},
   "source": [
    "# CollBack\n",
    "> Even more impure iterators.\n",
    "\n",
    "Track iterable progress with arbitrary side-effects."
   ]
  },
  {
   "cell_type": "code",
   "execution_count": null,
   "metadata": {},
   "outputs": [],
   "source": [
    "#| export\n",
    "\n",
    "class CollBack(HasCallbacks):\n",
    "    \"Track iterables and extend them with callbacks.\"\n",
    "\n",
    "    cbs_names = ('before_iter', 'after_iter', 'on_iter', 'on_interrupt')\n",
    "\n",
    "    n: int|None = None\n",
    "    elapsed_time: float|None = None\n",
    "    active, interrupted = False, False\n",
    "    item: Any = empty\n",
    "    def __init__(self, \n",
    "            source: Iterable[Any] = (), \n",
    "            total: int|None|Type[EmptyT] = empty, \n",
    "            context: Any = empty,\n",
    "            **kwargs):\n",
    "        self._source, self._total = source, total\n",
    "        self.total: int|None = _get_total(self._total, self._source)\n",
    "        self.context = context\n",
    "        super().__init__(**kwargs)\n",
    "\n",
    "    @property\n",
    "    def progress(self):\n",
    "        if self.total:\n",
    "            return None if self.n is None else min(1., round((self.n+1)/float(self.total), 4))\n",
    "        return None\n",
    "\n",
    "    @property\n",
    "    def state(self):\n",
    "        return AD(update_(item=self.item, n=self.n, total=self.total, progress=self.progress, \n",
    "            context=self.context, \n",
    "            elapsed_time=self.elapsed_time, interrupted=self.interrupted or empty, empty_value=empty))\n",
    "\n",
    "    def __repr__(self): return f'{self.__class__.__name__}#{self._source}, total={self._total}'\n",
    "\n",
    "    def _start(self):\n",
    "        self.total = _get_total(self._total, self._source)\n",
    "        self.active, self.elapsed_time, self.n = True, None, None\n",
    "        run_cbs(self.cbs, 'before_iter', self.state)\n",
    "\n",
    "    def _stop(self):\n",
    "        if self.total is None and self.n is not None: self.total = self.n + 1\n",
    "        self.active, self.item = False, empty\n",
    "        run_cbs(self.cbs, 'after_iter', self.state)\n",
    "    \n",
    "    def _interrupt(self): self.interrupted = True; run_cbs(self.cbs, 'on_interrupt', self.state)\n",
    "\n",
    "    def __iter__(self) -> Iterator[Any]:\n",
    "        if self._source is None: return\n",
    "        try:\n",
    "            start_time = time.time()\n",
    "            self._start()\n",
    "            for self.n, self.item in enumerate(self._source):\n",
    "                if self.total is not None and self.n >= self.total: break\n",
    "                yield self.item\n",
    "                self.elapsed_time = time.time() - start_time\n",
    "                run_cbs(self.cbs, 'on_iter', self.state, self.item)\n",
    "                if self.total is not None and self.n >= self.total-1: break\n",
    "        except Exception as e: self._interrupt(); raise e\n",
    "        finally:\n",
    "            self._stop()\n",
    "\n",
    "    def trackback(self, cbs:Sequence[Callback]=()) -> Iterator[tuple[AD[Any], Any]]:\n",
    "        with self.this_cbs(cbs):\n",
    "            for elem in self:\n",
    "                yield self.state, elem\n",
    "\n",
    "def trackback(source: Iterable[Any], total: int|None|Type[EmptyT]=empty, context: Any=empty, \n",
    "        cbs:Sequence[Callback]=()) -> Iterator[tuple[AD[Any], Any]]:\n",
    "    return CollBack(source, total, context, cbs=cbs).trackback()\n"
   ]
  },
  {
   "cell_type": "code",
   "execution_count": null,
   "metadata": {},
   "outputs": [],
   "source": [
    "test_eq(deque([1,2,3], maxlen=3), deque(CollBack([1,2,3]), maxlen=3))\n",
    "test_eq(list(ChainMap({'a':1}, {'b':2})), list(CollBack(ChainMap({'a':1}, {'b':2}))))  # Search multiple dicts\n",
    "test_eq(list(CollBack(Counter('hello').items())), [('h', 1), ('e', 1), ('l', 2), ('o', 1)])\n"
   ]
  },
  {
   "cell_type": "code",
   "execution_count": null,
   "metadata": {},
   "outputs": [],
   "source": [
    "# File objects\n",
    "# import os\n",
    "\n",
    "# tuple(CollTracker(open('file.txt')))  # Line iterator\n",
    "# tuple(CollTracker(open('file.txt').read(3)))  # Char iterator\n",
    "# tuple(CollTracker(os.scandir()))  # Directory iterator\n"
   ]
  },
  {
   "cell_type": "code",
   "execution_count": null,
   "metadata": {},
   "outputs": [
    {
     "data": {
      "text/plain": [
       "[Path('.'),\n",
       " Path('10_callback.ipynb'),\n",
       " Path('file.txt'),\n",
       " Path('15_config.ipynb'),\n",
       " Path('00_basic.ipynb'),\n",
       " Path('05_test.ipynb'),\n",
       " Path('apollo_astronauts.json'),\n",
       " Path('00_project.ipynb')]"
      ]
     },
     "execution_count": null,
     "metadata": {},
     "output_type": "execute_result"
    }
   ],
   "source": [
    "# Recursive generators\n",
    "from pathlib import Path\n",
    "\n",
    "\n",
    "def tree_walk(path):\n",
    "    yield path\n",
    "    if path.is_dir():\n",
    "        for p in path.iterdir():\n",
    "            yield from tree_walk(p)\n",
    "\n",
    "list(tree_walk(Path().parent))"
   ]
  },
  {
   "cell_type": "code",
   "execution_count": null,
   "metadata": {},
   "outputs": [
    {
     "data": {
      "text/plain": [
       "[Path('10_callback.ipynb'),\n",
       " Path('file.txt'),\n",
       " Path('15_config.ipynb'),\n",
       " Path('00_basic.ipynb'),\n",
       " Path('05_test.ipynb'),\n",
       " Path('apollo_astronauts.json'),\n",
       " Path('00_project.ipynb')]"
      ]
     },
     "execution_count": null,
     "metadata": {},
     "output_type": "execute_result"
    }
   ],
   "source": [
    "list(Path().parent.iterdir())"
   ]
  },
  {
   "cell_type": "code",
   "execution_count": null,
   "metadata": {},
   "outputs": [],
   "source": [
    "\n",
    "# # Coroutine-style generators\n",
    "# def averager():\n",
    "#     total = 0.0\n",
    "#     count = 0\n",
    "#     average = None\n",
    "#     while True:\n",
    "#         term = yield average\n",
    "#         total += term\n",
    "#         count += 1\n",
    "#         average = total/count\n",
    "\n",
    "# # State machines\n",
    "# def parser():\n",
    "#     state = 'START'\n",
    "#     while True:\n",
    "#         char = yield\n",
    "#         if state == 'START':\n",
    "#             if char == '{': state = 'OPEN'\n",
    "#         elif state == 'OPEN':\n",
    "#             if char == '}': state = 'CLOSE'\n",
    "\n",
    "# # Generator pipelines\n",
    "# def read_chunks(file):\n",
    "#     while chunk := file.read(8192):\n",
    "#         yield chunk\n",
    "\n",
    "# def decompress(chunks):\n",
    "#     decompressor = zlib.decompressobj()\n",
    "#     for chunk in chunks:\n",
    "#         yield decompressor.decompress(chunk)"
   ]
  },
  {
   "cell_type": "code",
   "execution_count": null,
   "metadata": {},
   "outputs": [],
   "source": [
    "# # Basic patterns\n",
    "# for x in iterable: ...\n",
    "# [x for x in iterable]\n",
    "# {x for x in iterable}\n",
    "# {x:f(x) for x in iterable}\n",
    "# any(iterable)\n",
    "# all(iterable)\n",
    "# sum(iterable)\n",
    "\n",
    "# # With itertools\n",
    "# from itertools import *\n",
    "# for x in islice(count(), 10): ...  # First 10\n",
    "# for x,y in zip(it1, it2): ...     # Parallel\n",
    "# for x in chain(it1, it2): ...     # Sequential\n",
    "# for k,g in groupby(data): ...     # Group runs\n",
    "\n",
    "# # Unpacking\n",
    "# first, *rest = iterable\n",
    "# *rest, last = iterable\n",
    "# first, *mid, last = iterable\n",
    "\n",
    "# # Multiple assignment\n",
    "# for x,y in pairs: ...\n",
    "# for i,(x,y) in enumerate(pairs): ...\n",
    "\n",
    "# # Context managers\n",
    "# with contextlib.closing(iterator) as it: ...\n",
    "\n",
    "# # Async iteration\n",
    "# async for x in async_iterable: ...\n",
    "# [x async for x in async_iterable]\n",
    "\n",
    "# # Sentinel values\n",
    "# for line in iter(f.readline, ''): ...\n",
    "\n",
    "# # Custom iteration\n",
    "# class Custom:\n",
    "#     def __iter__(self): ...\n",
    "#     def __next__(self): ...\n",
    "#     def __reversed__(self): ..."
   ]
  },
  {
   "cell_type": "code",
   "execution_count": null,
   "metadata": {},
   "outputs": [
    {
     "name": "stdout",
     "output_type": "stream",
     "text": [
      "Processed 0 0.00\n"
     ]
    },
    {
     "name": "stdout",
     "output_type": "stream",
     "text": [
      "Processed 100 0.04\n",
      "Processed 200 0.08\n",
      "Processed 300 0.12\n",
      "Processed 400 0.16\n",
      "Processed 500 0.20\n",
      "Processed 600 0.24\n",
      "Processed 700 0.28\n",
      "Processed 800 0.32\n",
      "Processed 900 0.36\n",
      "Processed 1000 0.40\n",
      "Processed 1100 0.43\n",
      "Processed 1200 0.47\n",
      "Processed 1300 0.51\n",
      "Processed 1400 0.55\n",
      "Processed 1500 0.59\n"
     ]
    }
   ],
   "source": [
    "import random\n",
    "\n",
    "def print_progress(ctx, line):\n",
    "    if ctx.n % 100 == 0:\n",
    "        print(f\"Processed {ctx.n} {ctx.elapsed_time:.2f}\")\n",
    "\n",
    "def process_line(line): time.sleep(random.uniform(0.0001, 0.0005))\n",
    "\n",
    "\n",
    "with open('10_callback.ipynb') as f:\n",
    "    for st,line in trackback(f, cbs=[FuncCB(on_iter=print_progress)]):\n",
    "        process_line(line)\n"
   ]
  },
  {
   "cell_type": "code",
   "execution_count": null,
   "metadata": {},
   "outputs": [],
   "source": [
    "# # 1. Processing files with progress tracking\n",
    "# def process_large_file(file_path):\n",
    "#     with open(file_path) as f:\n",
    "#         tracker = CollTracker(f)\n",
    "#         for line in tracker:\n",
    "#             if tracker.state.progress and tracker.state.progress % 0.1 == 0:\n",
    "#                 print(f\"Processed {tracker.state.progress:.0%}\")\n",
    "#             process_line(line)\n",
    "\n",
    "# # 2. Batch processing with time estimation\n",
    "# def process_batches(items, batch_size=100):\n",
    "#     tracker = CollTracker(range(0, len(items), batch_size))\n",
    "#     for i in tracker:\n",
    "#         batch = items[i:i+batch_size]\n",
    "#         if tracker.elapsed_time:\n",
    "#             eta = (tracker.elapsed_time / tracker.state.progress) * (1 - tracker.state.progress)\n",
    "#             print(f\"Batch {i//batch_size}, ETA: {eta:.2f}s\")\n",
    "#         process_batch(batch)\n",
    "\n",
    "# # 3. Training loop with epoch tracking\n",
    "# def train_model(model, epochs, data):\n",
    "#     for epoch, (epoch_state, batch) in enumerate(iterstate(range(epochs))):\n",
    "#         losses = []\n",
    "#         for batch_state, (x, y) in iterstate(data):\n",
    "#             loss = model.train_step(x, y)\n",
    "#             losses.append(loss)\n",
    "#             print(f\"Epoch {epoch}/{epochs}: {batch_state.progress:.1%}, Loss: {loss:.4f}\")\n",
    "\n",
    "# # 4. Parallel processing with progress\n",
    "# from concurrent.futures import ProcessPoolExecutor\n",
    "# def parallel_process(items, n_workers=4):\n",
    "#     with ProcessPoolExecutor(n_workers) as ex:\n",
    "#         futures = [ex.submit(process_item, item) for item in items]\n",
    "#         for state, future in iterstate(futures):\n",
    "#             result = future.result()\n",
    "#             print(f\"Completed {state.progress:.1%}, Latest result: {result}\")\n",
    "\n",
    "# # 5. Data pipeline with checkpoints\n",
    "# def process_pipeline(data, checkpoint_every=1000):\n",
    "#     for state, item in iterstate(data):\n",
    "#         processed = transform(item)\n",
    "#         if state.count % checkpoint_every == 0:\n",
    "#             save_checkpoint(processed, state.count)\n",
    "#             print(f\"Checkpoint at item {state.count}, Progress: {state.progress:.1%}\")\n",
    "\n",
    "# # 6. Sliding window analysis with state\n",
    "# def analyze_windows(sequence, window_size=3):\n",
    "#     tracker = CollTracker(sequence)\n",
    "#     windows = []\n",
    "#     for i in tracker:\n",
    "#         if i >= window_size - 1:\n",
    "#             window = sequence[i-window_size+1:i+1]\n",
    "#             windows.append((window, tracker.state))\n",
    "#     return windows\n",
    "\n",
    "# # 7. Recursive processing with depth tracking\n",
    "# def process_tree(node, max_depth=None):\n",
    "#     def walk(node, depth=0):\n",
    "#         if max_depth and depth >= max_depth: return\n",
    "#         for state, child in iterstate(node.children):\n",
    "#             print(f\"Depth {depth}, Child {state.count}/{state.total}\")\n",
    "#             yield child\n",
    "#             yield from walk(child, depth + 1)\n",
    "#     return walk(node)\n",
    "\n",
    "# # 8. Time-based iteration control\n",
    "# def process_with_timeout(items, timeout_secs=60):\n",
    "#     tracker = CollTracker(items)\n",
    "#     for item in tracker:\n",
    "#         if tracker.elapsed_time > timeout_secs:\n",
    "#             print(f\"Timeout after processing {tracker.state.count} items\")\n",
    "#             break\n",
    "#         process_item(item)"
   ]
  },
  {
   "cell_type": "code",
   "execution_count": null,
   "metadata": {},
   "outputs": [
    {
     "name": "stdout",
     "output_type": "stream",
     "text": [
      "before_iter ({'n': None, 'total': 3, 'progress': None, 'elapsed_time': None},) {}\n",
      "({'item': 0, 'n': 0, 'total': 3, 'progress': 0.3333, 'elapsed_time': None}, 0)\n",
      "on_iter ({'item': 0, 'n': 0, 'total': 3, 'progress': 0.3333, 'elapsed_time': 5.2928924560546875e-05}, 0) {}\n",
      "({'item': 1, 'n': 1, 'total': 3, 'progress': 0.6667, 'elapsed_time': 5.2928924560546875e-05}, 1)\n",
      "on_iter ({'item': 1, 'n': 1, 'total': 3, 'progress': 0.6667, 'elapsed_time': 7.390975952148438e-05}, 1) {}\n",
      "({'item': 2, 'n': 2, 'total': 3, 'progress': 1.0, 'elapsed_time': 7.390975952148438e-05}, 2)\n",
      "on_iter ({'item': 2, 'n': 2, 'total': 3, 'progress': 1.0, 'elapsed_time': 9.107589721679688e-05}, 2) {}\n",
      "after_iter ({'n': 2, 'total': 3, 'progress': 1.0, 'elapsed_time': 9.107589721679688e-05},) {}\n"
     ]
    }
   ],
   "source": [
    "for o in trackback(range(3), cbs=[EchoCB()]): print(o)\n"
   ]
  },
  {
   "cell_type": "code",
   "execution_count": null,
   "metadata": {},
   "outputs": [
    {
     "name": "stdout",
     "output_type": "stream",
     "text": [
      "{'item': 0, 'n': 0, 'total': 3, 'progress': 0.3333, 'elapsed_time': None}\n",
      "{'item': 1, 'n': 1, 'total': 3, 'progress': 0.6667, 'elapsed_time': 2.7179718017578125e-05}\n",
      "{'item': 2, 'n': 2, 'total': 3, 'progress': 1.0, 'elapsed_time': 3.933906555175781e-05}\n"
     ]
    }
   ],
   "source": [
    "t = CollBack(())\n",
    "test_eq(t.total, 0)\n",
    "with test_raises(StopIteration): next(iter(t))\n",
    "\n",
    "for _ in (t := CollBack(range(3))):\n",
    "    print(t.state)\n",
    "\n",
    "t = CollBack(range(3))\n",
    "test_eq(t.state, {'n': None, 'total': 3, 'progress': None, 'elapsed_time': None})\n",
    "test_eq(next(it := iter(t)), 0)\n",
    "test_eq(t.state, {'item': 0, 'n': 0, 'total': 3, 'progress': 0.3333, 'elapsed_time': t.elapsed_time})\n",
    "test_eq(next(it), 1)\n",
    "test_eq(t.state, {'item': 1, 'n': 1, 'total': 3, 'progress': 0.6667, 'elapsed_time': t.elapsed_time})\n",
    "test_eq(next(it), 2)\n",
    "test_eq(t.state, {'item': 2, 'n': 2, 'total': 3, 'progress': 1.0, 'elapsed_time': t.elapsed_time})\n",
    "with test_raises(StopIteration): next(it)\n",
    "test_eq(t.state, {'n': 2, 'total': 3, 'progress': 1.0, 'elapsed_time': t.elapsed_time})\n",
    "\n",
    "t = CollBack('abcdef')\n",
    "test_eq([o for o in t], list('abcdef'))\n",
    "test_eq(t.state, {'n': 5, 'total': 6, 'progress': 1.0, 'elapsed_time': t.elapsed_time})\n",
    "test_eq(t.active, False)\n",
    "\n",
    "t = CollBack(repeat(1, 3))\n",
    "test_eq(list(map(lambda x: x, t)), [1, 1, 1])\n",
    "test_eq(t.state, {'n': 2, 'total': 3, 'progress': 1.0, 'elapsed_time': t.elapsed_time})\n"
   ]
  },
  {
   "cell_type": "code",
   "execution_count": null,
   "metadata": {},
   "outputs": [],
   "source": [
    "t = CollBack((12, 56, -1, 2, 67), 3)\n",
    "test_eq([o for o in t], (12, 56, -1))\n",
    "test_eq(t.state, {'n': 2, 'total': 3, 'progress': 1.0, 'elapsed_time': t.elapsed_time})\n"
   ]
  },
  {
   "cell_type": "code",
   "execution_count": null,
   "metadata": {},
   "outputs": [],
   "source": [
    "from functools import reduce\n",
    "\n",
    "t = CollBack(c := (1, 2, -1, -2, 7))\n",
    "test_eq(reduce(lambda x, y: x+y, t), 7)\n",
    "test_eq(t.state, {'n': 4, 'total': 5, 'progress': 1.0, 'elapsed_time': t.elapsed_time})\n",
    "\n",
    "\n",
    "class CountCB(Callback):\n",
    "    def before_iter(self, ctx): self.count = 0\n",
    "    def on_iter(self, ctx, _): self.count += 1\n",
    "\n",
    "with (t := CollBack(c)).this_cbs([cb := CountCB()]):\n",
    "    test_eq(reduce(lambda x, y: x+y, t), 7)\n",
    "test_eq(t.state, {'n': 4, 'total': 5, 'progress': 1.0, 'elapsed_time': t.elapsed_time})\n",
    "test_eq(cb.count, 5)\n",
    "\n",
    "test_eq(reduce(lambda x, y: x+y, (t := CollBack(c, cbs=[cb]))), 7)\n",
    "test_eq(t.state, {'n': 4, 'total': 5, 'progress': 1.0, 'elapsed_time': t.elapsed_time})\n",
    "test_eq(cb.count, 5)\n"
   ]
  },
  {
   "cell_type": "code",
   "execution_count": null,
   "metadata": {},
   "outputs": [],
   "source": [
    "t = CollBack(repeat(7), 3)\n",
    "oo = [o for o in t]\n",
    "test_eq(oo, (7, 7, 7))\n",
    "test_eq(t.state, {'n': 2, 'total': 3, 'progress': 1.0, 'elapsed_time': t.elapsed_time})\n",
    "\n",
    "t = CollBack(repeat(None), None)\n",
    "for _ in t:\n",
    "    if t.state.n >= 10: break  # type: ignore\n",
    "test_eq(t.state, {'n': 10, 'total': 11, 'progress': 1.0, 'elapsed_time': t.elapsed_time})\n",
    "\n",
    "def fibonacci():\n",
    "    a, b = 0, 1\n",
    "    while True:\n",
    "        yield a\n",
    "        a, b = b, a + b\n",
    "\n",
    "test_eq(CollBack(fibonacci(), 10), [0, 1, 1, 2, 3, 5, 8, 13, 21, 34])\n"
   ]
  },
  {
   "cell_type": "code",
   "execution_count": null,
   "metadata": {},
   "outputs": [],
   "source": [
    "t = CollBack(())\n",
    "test_eq(t.total, 0)\n",
    "with test_raises(StopIteration): next(iter(t))\n",
    "for i in t: pass\n",
    "\n",
    "t = CollBack(range(6))\n",
    "test_eq(t.state, {'n': None, 'total': 6, 'progress': None, 'elapsed_time': None})\n",
    "test_eq(next(iter(t)), 0)\n",
    "test_eq(t.state, {'n': 0, 'total': 6, 'progress': 0.1667, 'elapsed_time': t.elapsed_time})\n",
    "\n",
    "t = CollBack(range(6))\n",
    "test_eq([t.n for i in t], range(6))\n",
    "test_eq(t.state, {'n': 5, 'total': 6, 'progress': 1.0, 'elapsed_time': t.elapsed_time})\n"
   ]
  },
  {
   "cell_type": "code",
   "execution_count": null,
   "metadata": {},
   "outputs": [],
   "source": [
    "t = CollBack('abc', None)\n",
    "test_eq([_ for _ in t], ('a', 'b', 'c'))\n",
    "test_eq(t.state, {'n': 2, 'total': 3, 'progress': 1.0, 'elapsed_time': t.elapsed_time})\n"
   ]
  },
  {
   "cell_type": "markdown",
   "metadata": {},
   "source": [
    "# process_"
   ]
  },
  {
   "cell_type": "markdown",
   "metadata": {},
   "source": [
    "https://stackoverflow.com/questions/50937966/fastest-most-pythonic-way-to-consume-an-iterator\n"
   ]
  },
  {
   "cell_type": "code",
   "execution_count": null,
   "metadata": {},
   "outputs": [],
   "source": [
    "#| export\n",
    "\n",
    "_T = TypeVar('_T')\n",
    "\n",
    "def process_(\n",
    "        iterable:Iterable[_T], /, \n",
    "        cbs: Callback|Sequence[Callback]=(), \n",
    "        slc:slice|None=None, \n",
    "        pred:Callable[[_T], bool]|None=None, \n",
    "        context:Any=empty,\n",
    "        **kwargs  # FuncCB kwargs\n",
    "    ) -> tuple[Callback,...]:\n",
    "    \"Process a subset `slc` of `iterable` filtered by `pred` with callbacks from `cbs` and `FuncCB` `kwargs`\"\n",
    "    _cbs = FC.tuplify(cbs) + ((FuncCB(**kwargs),) if kwargs else ())\n",
    "    items = FC.L(iterable)[slc or slice(None)].filter(pred)  # type: ignore\n",
    "    collections.deque(CollBack(items, context=context,cbs=_cbs), maxlen=0)\n",
    "    return _cbs  # type: ignore\n"
   ]
  },
  {
   "cell_type": "code",
   "execution_count": null,
   "metadata": {},
   "outputs": [
    {
     "name": "stdout",
     "output_type": "stream",
     "text": [
      "before_iter ({'n': None, 'total': 4, 'progress': None, 'elapsed_time': None},) {}\n",
      "on_iter ({'item': 2, 'n': 0, 'total': 4, 'progress': 0.25, 'elapsed_time': 4.1961669921875e-05}, 2) {}\n",
      "on_iter ({'item': 4, 'n': 1, 'total': 4, 'progress': 0.5, 'elapsed_time': 6.413459777832031e-05}, 4) {}\n",
      "on_iter ({'item': 6, 'n': 2, 'total': 4, 'progress': 0.75, 'elapsed_time': 7.700920104980469e-05}, 6) {}\n",
      "on_iter ({'item': 8, 'n': 3, 'total': 4, 'progress': 1.0, 'elapsed_time': 8.916854858398438e-05}, 8) {}\n",
      "after_iter ({'n': 3, 'total': 4, 'progress': 1.0, 'elapsed_time': 8.916854858398438e-05},) {}\n"
     ]
    }
   ],
   "source": [
    "process_(range(10), EchoCB(), slice(1,9), pred=lambda x: x%2==0);"
   ]
  },
  {
   "cell_type": "markdown",
   "metadata": {},
   "source": [
    "# Colophon\n",
    "----"
   ]
  },
  {
   "cell_type": "code",
   "execution_count": null,
   "metadata": {},
   "outputs": [],
   "source": [
    "import fastcore.all as FC\n",
    "import nbdev\n",
    "from nbdev.clean import nbdev_clean\n"
   ]
  },
  {
   "cell_type": "code",
   "execution_count": null,
   "metadata": {},
   "outputs": [],
   "source": [
    "if FC.IN_NOTEBOOK:\n",
    "    nb_path = '10_callback.ipynb'\n",
    "    nbdev_clean(nb_path)\n",
    "    nbdev.nbdev_export(nb_path)\n"
   ]
  }
 ],
 "metadata": {
  "kernelspec": {
   "display_name": "python3",
   "language": "python",
   "name": "python3"
  }
 },
 "nbformat": 4,
 "nbformat_minor": 2
}
