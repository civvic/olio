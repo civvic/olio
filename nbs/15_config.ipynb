{
 "cells": [
  {
   "cell_type": "code",
   "execution_count": null,
   "metadata": {},
   "outputs": [],
   "source": [
    "#| default_exp config"
   ]
  },
  {
   "cell_type": "code",
   "execution_count": null,
   "metadata": {},
   "outputs": [],
   "source": [
    "#| export\n",
    "from __future__ import annotations"
   ]
  },
  {
   "cell_type": "markdown",
   "metadata": {},
   "source": [
    "## Config\n",
    "\n",
    "Simple namespace to store configuration with a context manager to make temporary changes."
   ]
  },
  {
   "cell_type": "markdown",
   "metadata": {},
   "source": [
    "# Prologue"
   ]
  },
  {
   "cell_type": "code",
   "execution_count": null,
   "metadata": {},
   "outputs": [],
   "source": [
    "#| export\n",
    "import inspect\n",
    "from contextlib import contextmanager\n",
    "\n",
    "import fastcore.all as FC\n"
   ]
  },
  {
   "cell_type": "code",
   "execution_count": null,
   "metadata": {},
   "outputs": [],
   "source": [
    "import dataclasses\n",
    "\n",
    "from fastcore.test import *\n"
   ]
  },
  {
   "cell_type": "markdown",
   "metadata": {},
   "source": [
    "----\n"
   ]
  },
  {
   "cell_type": "markdown",
   "metadata": {},
   "source": [
    "# config"
   ]
  },
  {
   "cell_type": "code",
   "execution_count": null,
   "metadata": {},
   "outputs": [],
   "source": [
    "#| export\n",
    "\n",
    "class Config:\n",
    "    def __repr__(self): return str(self.as_dict())\n",
    "    def update(self, **kwargs):\n",
    "        ks = set(FC.flatten(map(inspect.get_annotations, type(self).mro())))\n",
    "        for k,v in kwargs.items():\n",
    "            if k in ks:\n",
    "                try: setattr(self, k, v)\n",
    "                except AttributeError: pass\n",
    "        return self\n",
    "    def as_dict(self): return {k:getattr(self, k) for k in \n",
    "        FC.flatten(map(inspect.get_annotations, type(self).mro())) if hasattr(self, k)}\n",
    "    @contextmanager\n",
    "    def __call__(self, **kwargs):\n",
    "        vv = vars(self).copy()\n",
    "        old = {k:vv[k] for k in kwargs if k in vv}\n",
    "        for k,v in kwargs.items(): setattr(self, k, v)\n",
    "        yield\n",
    "        for k in [k for k in vars(self).keys() if k not in vv]: delattr(self, k)\n",
    "        for k,v in old.items(): setattr(self, k, v)"
   ]
  },
  {
   "cell_type": "code",
   "execution_count": null,
   "metadata": {},
   "outputs": [
    {
     "name": "stdout",
     "output_type": "stream",
     "text": [
      "_Dc(a=1, b='2', c={'c1': 1})\n"
     ]
    },
    {
     "data": {
      "text/plain": [
       "_Dc(a=3, b='2', c={'c1': 1})"
      ]
     },
     "execution_count": null,
     "metadata": {},
     "output_type": "execute_result"
    }
   ],
   "source": [
    "@dataclasses.dataclass\n",
    "class _Dc(Config):\n",
    "    a: int = 1\n",
    "    b: str = '2'\n",
    "    c: dict = dataclasses.field(default_factory=lambda: {'c1': 1})\n",
    "\n",
    "t = _Dc()\n",
    "print(t)\n",
    "\n",
    "test_eq(t.a, 1)\n",
    "with t(a=3): test_eq(t.a, 3)\n",
    "test_eq(t.a, 1)\n",
    "\n",
    "t.update(a=3, d=10)\n",
    "test_eq(t.a, 3)\n",
    "test_is(hasattr(t, 'd'), False)\n",
    "\n",
    "t"
   ]
  },
  {
   "cell_type": "code",
   "execution_count": null,
   "metadata": {},
   "outputs": [
    {
     "name": "stdout",
     "output_type": "stream",
     "text": [
      "{'a': 7, 'c': {'c1': 1}, 'b': '2'}\n"
     ]
    },
    {
     "data": {
      "text/plain": [
       "{'a': 3, 'c': {'c1': 1}, 'b': '2'}"
      ]
     },
     "execution_count": null,
     "metadata": {},
     "output_type": "execute_result"
    }
   ],
   "source": [
    "class _A(Config):\n",
    "    a: int = 1\n",
    "    b: str = '2'\n",
    "\n",
    "class _B(_A):\n",
    "    a: int = 7\n",
    "    c: dict\n",
    "    def __init__(self, *args, **kwargs): self.c = {'c1': 1}\n",
    "\n",
    "b = _B()\n",
    "print(b)\n",
    "\n",
    "test_eq(b.a, 7)\n",
    "with b(a=3): test_eq(b.a, 3)\n",
    "test_eq(b.a, 7)\n",
    "\n",
    "b.update(a=3, d=10)\n",
    "test_eq(b.a, 3)\n",
    "test_is(hasattr(b, 'd'), False)\n",
    "\n",
    "b"
   ]
  },
  {
   "cell_type": "markdown",
   "metadata": {},
   "source": [
    "# Colophon\n",
    "----\n"
   ]
  },
  {
   "cell_type": "code",
   "execution_count": null,
   "metadata": {},
   "outputs": [],
   "source": [
    "#| eval: false\n",
    "\n",
    "import fastcore.all as FC\n",
    "import nbdev\n",
    "from nbdev.clean import nbdev_clean"
   ]
  },
  {
   "cell_type": "code",
   "execution_count": null,
   "metadata": {},
   "outputs": [],
   "source": [
    "#| eval: false\n",
    "\n",
    "if FC.IN_NOTEBOOK:\n",
    "    nb_path = '15_config.ipynb'\n",
    "    nbdev_clean(nb_path)\n",
    "    nbdev.nbdev_export(nb_path)"
   ]
  }
 ],
 "metadata": {
  "kernelspec": {
   "display_name": "Python 3",
   "language": "python",
   "name": "python3"
  },
  "language_info": {
   "name": "python",
   "version": "3.12.8"
  },
  "widgets": {
   "application/vnd.jupyter.widget-state+json": {
    "state": {},
    "version_major": 2,
    "version_minor": 0
   }
  }
 },
 "nbformat": 4,
 "nbformat_minor": 4
}
