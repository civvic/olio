{
 "cells": [
  {
   "cell_type": "code",
   "execution_count": null,
   "metadata": {},
   "outputs": [],
   "source": [
    "#| default_exp display\n"
   ]
  },
  {
   "cell_type": "code",
   "execution_count": null,
   "metadata": {},
   "outputs": [],
   "source": [
    "#| export\n",
    "from __future__ import annotations\n"
   ]
  },
  {
   "cell_type": "markdown",
   "metadata": {},
   "source": [
    "# Display\n",
    "> Display utils for notebooks."
   ]
  },
  {
   "cell_type": "markdown",
   "metadata": {},
   "source": [
    "# Prologue"
   ]
  },
  {
   "cell_type": "code",
   "execution_count": null,
   "metadata": {},
   "outputs": [],
   "source": [
    "#| export\n",
    "import json\n",
    "import uuid\n",
    "from typing import Mapping\n",
    "from typing import overload\n",
    "from typing import Sequence\n",
    "\n",
    "import fastcore.all as FC\n",
    "import rich\n",
    "from IPython.display import display\n",
    "from IPython.display import DisplayHandle\n",
    "from IPython.display import HTML\n"
   ]
  },
  {
   "cell_type": "code",
   "execution_count": null,
   "metadata": {},
   "outputs": [],
   "source": [
    "from olio.common import setup_console\n",
    "from rich.markdown import Markdown\n"
   ]
  },
  {
   "cell_type": "markdown",
   "metadata": {},
   "source": [
    "----\n"
   ]
  },
  {
   "cell_type": "code",
   "execution_count": null,
   "metadata": {},
   "outputs": [],
   "source": [
    "console, cprint = setup_console(140)"
   ]
  },
  {
   "cell_type": "markdown",
   "metadata": {},
   "source": [
    "----"
   ]
  },
  {
   "cell_type": "markdown",
   "metadata": {},
   "source": [
    "# Rich display"
   ]
  },
  {
   "cell_type": "code",
   "execution_count": null,
   "metadata": {},
   "outputs": [],
   "source": [
    "def display_json(json):\n",
    "    from rich.json import JSON\n",
    "    from rich.jupyter import display as rich_display\n",
    "    json_renderable = JSON.from_data(json)\n",
    "    a = list(console.render(json_renderable))\n",
    "    rich_display(a, console._render_buffer(a))"
   ]
  },
  {
   "cell_type": "code",
   "execution_count": null,
   "metadata": {},
   "outputs": [
    {
     "data": {
      "text/html": [
       "<pre style=\"white-space:pre;overflow-x:auto;line-height:normal;font-family:Menlo,'DejaVu Sans Mono',consolas,'Courier New',monospace\"><span style=\"font-weight: bold\">{</span>\n",
       "  <span style=\"color: #000080; text-decoration-color: #000080; font-weight: bold\">\"a\"</span>: <span style=\"color: #008080; text-decoration-color: #008080; font-weight: bold\">1</span>,\n",
       "  <span style=\"color: #000080; text-decoration-color: #000080; font-weight: bold\">\"b\"</span>: <span style=\"color: #008080; text-decoration-color: #008080; font-weight: bold\">2</span>\n",
       "<span style=\"font-weight: bold\">}</span>\n",
       "</pre>\n"
      ],
      "text/plain": [
       "\u001b[1m{\u001b[0m\n",
       "  \u001b[1;34m\"a\"\u001b[0m: \u001b[1;36m1\u001b[0m,\n",
       "  \u001b[1;34m\"b\"\u001b[0m: \u001b[1;36m2\u001b[0m\n",
       "\u001b[1m}\u001b[0m\n"
      ]
     },
     "metadata": {},
     "output_type": "display_data"
    }
   ],
   "source": [
    "display_json({'a': 1, 'b': 2})"
   ]
  },
  {
   "cell_type": "code",
   "execution_count": null,
   "metadata": {},
   "outputs": [],
   "source": [
    "#| export\n",
    "\n",
    "@overload\n",
    "def pretty_repr(*o, html:bool=True, text:bool=False, **kwargs) -> str: ...\n",
    "@overload\n",
    "def pretty_repr(*o, html:bool=False, text:bool=True, **kwargs) -> str: ...\n",
    "def pretty_repr(*o, html:bool=True, text:bool=True, **kwargs) -> dict[str, str]|str:\n",
    "    from rich.pretty import Pretty\n",
    "    d = Pretty(*o, **kwargs)._repr_mimebundle_(\n",
    "        include=((),('text/plain',))[text] + ((),('text/html',))[html], \n",
    "        exclude=((),('text/plain',))[not text] + ((),('text/html',))[not html]\n",
    "        )\n",
    "    return d if len(d) > 1 else tuple(d.values())[0]"
   ]
  },
  {
   "cell_type": "code",
   "execution_count": null,
   "metadata": {},
   "outputs": [
    {
     "data": {
      "text/html": [
       "<pre style=\"white-space:pre;overflow-x:auto;line-height:normal;font-family:Menlo,'DejaVu Sans Mono',consolas,'Courier New',monospace\"><span style=\"font-weight: bold\">{</span><span style=\"color: #008000; text-decoration-color: #008000\">'a'</span>: <span style=\"color: #008080; text-decoration-color: #008080; font-weight: bold\">1</span>, <span style=\"color: #008000; text-decoration-color: #008000\">'b'</span>: <span style=\"font-weight: bold\">[</span><span style=\"color: #008080; text-decoration-color: #008080; font-weight: bold\">1</span>, <span style=\"color: #008080; text-decoration-color: #008080; font-weight: bold\">2</span>, <span style=\"color: #008080; text-decoration-color: #008080; font-weight: bold\">3</span><span style=\"font-weight: bold\">]}</span>\n",
       "</pre>\n"
      ],
      "text/plain": [
       "<IPython.core.display.HTML object>"
      ]
     },
     "metadata": {},
     "output_type": "display_data"
    },
    {
     "name": "stdout",
     "output_type": "stream",
     "text": [
      "\u001b[1m{\u001b[0m\u001b[32m'a'\u001b[0m: \u001b[1;36m1\u001b[0m, \u001b[32m'b'\u001b[0m: \u001b[1m[\u001b[0m\u001b[1;36m1\u001b[0m, \u001b[1;36m2\u001b[0m, \u001b[1;36m3\u001b[0m\u001b[1m]\u001b[0m\u001b[1m}\u001b[0m\n",
      "\n"
     ]
    },
    {
     "data": {
      "text/html": [
       "<pre style=\"white-space:pre;overflow-x:auto;line-height:normal;font-family:Menlo,'DejaVu Sans Mono',consolas,'Courier New',monospace\"><span style=\"font-weight: bold\">{</span><span style=\"color: #008000; text-decoration-color: #008000\">'a'</span>: <span style=\"color: #008080; text-decoration-color: #008080; font-weight: bold\">1</span>, <span style=\"color: #008000; text-decoration-color: #008000\">'b'</span>: <span style=\"font-weight: bold\">[</span><span style=\"color: #008080; text-decoration-color: #008080; font-weight: bold\">1</span>, <span style=\"color: #008080; text-decoration-color: #008080; font-weight: bold\">2</span>, <span style=\"color: #008080; text-decoration-color: #008080; font-weight: bold\">3</span><span style=\"font-weight: bold\">]}</span>\n",
       "</pre>\n"
      ],
      "text/plain": [
       "\u001b[1m{\u001b[0m\u001b[32m'a'\u001b[0m: \u001b[1;36m1\u001b[0m, \u001b[32m'b'\u001b[0m: \u001b[1m[\u001b[0m\u001b[1;36m1\u001b[0m, \u001b[1;36m2\u001b[0m, \u001b[1;36m3\u001b[0m\u001b[1m]\u001b[0m\u001b[1m}\u001b[0m\n"
      ]
     },
     "metadata": {},
     "output_type": "display_data"
    }
   ],
   "source": [
    "display(HTML(pretty_repr({'a': 1, 'b': [1,2,3]}, text=False)))\n",
    "print(pretty_repr({'a': 1, 'b': [1,2,3]}, html=False))\n",
    "cprint({'a': 1, 'b': [1,2,3]})"
   ]
  },
  {
   "cell_type": "code",
   "execution_count": null,
   "metadata": {},
   "outputs": [],
   "source": [
    "#| export\n",
    "\n",
    "def rich_display(*o, dhdl: DisplayHandle|None=None):\n",
    "    if not o: return\n",
    "    vv:tuple[str, ...] = tuple(FC.flatten([_.items() for _ in map(pretty_repr, o)]))  # type: ignore\n",
    "    dd = {'text/plain':'\\n'.join(vv[1::4]), 'text/html':'\\n'.join(vv[3::4])}\n",
    "    if dhdl: dhdl.update(dd, raw=True)\n",
    "    else: display(dd, raw=True)"
   ]
  },
  {
   "cell_type": "code",
   "execution_count": null,
   "metadata": {},
   "outputs": [
    {
     "data": {
      "text/html": [
       "<pre style=\"white-space:pre;overflow-x:auto;line-height:normal;font-family:Menlo,'DejaVu Sans Mono',consolas,'Courier New',monospace\"><span style=\"font-weight: bold\">{</span><span style=\"color: #008000; text-decoration-color: #008000\">'a'</span>: <span style=\"color: #008080; text-decoration-color: #008080; font-weight: bold\">1</span>, <span style=\"color: #008000; text-decoration-color: #008000\">'b'</span>: <span style=\"color: #008080; text-decoration-color: #008080; font-weight: bold\">2</span><span style=\"font-weight: bold\">}</span>\n",
       "</pre>\n",
       "\n",
       "<pre style=\"white-space:pre;overflow-x:auto;line-height:normal;font-family:Menlo,'DejaVu Sans Mono',consolas,'Courier New',monospace\"><span style=\"font-weight: bold\">[</span><span style=\"color: #008080; text-decoration-color: #008080; font-weight: bold\">3</span>, <span style=\"color: #008080; text-decoration-color: #008080; font-weight: bold\">4</span>, <span style=\"color: #008080; text-decoration-color: #008080; font-weight: bold\">5</span><span style=\"font-weight: bold\">]</span>\n",
       "</pre>\n"
      ],
      "text/plain": [
       "\u001b[1m{\u001b[0m\u001b[32m'a'\u001b[0m: \u001b[1;36m1\u001b[0m, \u001b[32m'b'\u001b[0m: \u001b[1;36m2\u001b[0m\u001b[1m}\u001b[0m\n",
       "\n",
       "\u001b[1m[\u001b[0m\u001b[1;36m3\u001b[0m, \u001b[1;36m4\u001b[0m, \u001b[1;36m5\u001b[0m\u001b[1m]\u001b[0m\n"
      ]
     },
     "metadata": {},
     "output_type": "display_data"
    }
   ],
   "source": [
    "rich_display({'a': 1, 'b': 2}, [3, 4, 5])"
   ]
  },
  {
   "cell_type": "code",
   "execution_count": null,
   "metadata": {},
   "outputs": [
    {
     "data": {
      "text/html": [
       "<pre style=\"white-space:pre;overflow-x:auto;line-height:normal;font-family:Menlo,'DejaVu Sans Mono',consolas,'Courier New',monospace\"><span style=\"font-weight: bold\">{</span><span style=\"color: #008000; text-decoration-color: #008000\">'a'</span>: <span style=\"color: #008080; text-decoration-color: #008080; font-weight: bold\">1</span>, <span style=\"color: #008000; text-decoration-color: #008000\">'b'</span>: <span style=\"color: #008080; text-decoration-color: #008080; font-weight: bold\">2</span><span style=\"font-weight: bold\">}</span>\n",
       "</pre>\n",
       "\n",
       "<pre style=\"white-space:pre;overflow-x:auto;line-height:normal;font-family:Menlo,'DejaVu Sans Mono',consolas,'Courier New',monospace\"><span style=\"font-weight: bold\">[</span><span style=\"color: #008080; text-decoration-color: #008080; font-weight: bold\">3</span>, <span style=\"color: #008080; text-decoration-color: #008080; font-weight: bold\">4</span>, <span style=\"color: #008080; text-decoration-color: #008080; font-weight: bold\">5</span><span style=\"font-weight: bold\">]</span>\n",
       "</pre>\n"
      ],
      "text/plain": [
       "\u001b[1m{\u001b[0m\u001b[32m'a'\u001b[0m: \u001b[1;36m1\u001b[0m, \u001b[32m'b'\u001b[0m: \u001b[1;36m2\u001b[0m\u001b[1m}\u001b[0m\n",
       "\n",
       "\u001b[1m[\u001b[0m\u001b[1;36m3\u001b[0m, \u001b[1;36m4\u001b[0m, \u001b[1;36m5\u001b[0m\u001b[1m]\u001b[0m\n"
      ]
     },
     "metadata": {},
     "output_type": "display_data"
    }
   ],
   "source": [
    "dhdl = display(display_id=True)\n",
    "rich_display({'a': 1, 'b': 2}, [3, 4, 5], dhdl=dhdl)\n"
   ]
  },
  {
   "cell_type": "markdown",
   "metadata": {},
   "source": [
    "# Collapsable JSON"
   ]
  },
  {
   "cell_type": "code",
   "execution_count": null,
   "metadata": {},
   "outputs": [],
   "source": [
    "#| export\n",
    "\n",
    "class RenderJSON(object):\n",
    "    def __init__(self, json_data, max_height=200, init_level=0):\n",
    "        if isinstance(json_data, Sequence):\n",
    "            s = json.dumps(list(json_data))\n",
    "        elif isinstance(json_data, Mapping):\n",
    "            s = json.dumps(dict(json_data))\n",
    "        elif hasattr(json_data, 'to_dict'):\n",
    "            s = json.dumps(json_data.to_dict())\n",
    "        elif hasattr(json_data, 'to_json'):\n",
    "            s = json_data.to_json()\n",
    "        else:\n",
    "            s = json_data\n",
    "        self.json_str = s\n",
    "        self.uuid = str(uuid.uuid4())\n",
    "        self.max_height = max_height\n",
    "        self.init_level = init_level\n",
    "\n",
    "    def display(self):\n",
    "        html_content = f\"\"\"\n",
    "<div id=\"wrapper-{self.uuid}\" style=\"width: 100%; max-height: {self.max_height}px; overflow-y: auto;\">\n",
    "    <div id=\"{self.uuid}\" style=\"width: 100%;\"></div>\n",
    "    <script>\n",
    "        function renderMyJson() {{\n",
    "            renderjson.set_show_to_level({self.init_level});\n",
    "            document.getElementById('{self.uuid}').appendChild(renderjson({self.json_str}));\n",
    "        }};\n",
    "        function loadRenderjson() {{\n",
    "            if (window.renderjson) return Promise.resolve();\n",
    "            return new Promise((resolve, reject) => {{\n",
    "                const script = document.createElement('script');\n",
    "                script.src = 'https://cdn.jsdelivr.net/npm/renderjson@latest/renderjson.js';\n",
    "                script.onload = resolve;\n",
    "                script.onerror = reject;\n",
    "                document.head.appendChild(script);\n",
    "            }});\n",
    "        }};\n",
    "        loadRenderjson().then(renderMyJson).catch(err => console.error('Failed to load renderjson:', err));\n",
    "    </script>\n",
    "</div>\n",
    "\"\"\"\n",
    "        display(HTML(html_content), metadata={'bridge': {'skip':True}})\n",
    "\n",
    "    def _ipython_display_(self):\n",
    "        self.display()"
   ]
  },
  {
   "cell_type": "code",
   "execution_count": null,
   "metadata": {},
   "outputs": [
    {
     "data": {
      "text/html": [
       "\n",
       "<div id=\"wrapper-a7ebb6a1-b646-4628-b03e-51458a05d819\" style=\"width: 100%; max-height: 200px; overflow-y: auto;\">\n",
       "    <div id=\"a7ebb6a1-b646-4628-b03e-51458a05d819\" style=\"width: 100%;\"></div>\n",
       "    <script>\n",
       "        function renderMyJson() {\n",
       "            renderjson.set_show_to_level(1);\n",
       "            document.getElementById('a7ebb6a1-b646-4628-b03e-51458a05d819').appendChild(renderjson({\"name\": \"Petronila\", \"age\": 28, \"interests\": [\"reading\", \"cycling\", \"technology\"], \"education\": {\"bachelor\": \"Computer Science\", \"master\": \"Data Science\", \"phd\": \"Not enrolled\"}}));\n",
       "        };\n",
       "        function loadRenderjson() {\n",
       "            if (window.renderjson) return Promise.resolve();\n",
       "            return new Promise((resolve, reject) => {\n",
       "                const script = document.createElement('script');\n",
       "                script.src = 'https://cdn.jsdelivr.net/npm/renderjson@latest/renderjson.js';\n",
       "                script.onload = resolve;\n",
       "                script.onerror = reject;\n",
       "                document.head.appendChild(script);\n",
       "            });\n",
       "        };\n",
       "        loadRenderjson().then(renderMyJson).catch(err => console.error('Failed to load renderjson:', err));\n",
       "    </script>\n",
       "</div>\n"
      ],
      "text/plain": [
       "<IPython.core.display.HTML object>"
      ]
     },
     "metadata": {
      "bridge": {
       "skip": true
      }
     },
     "output_type": "display_data"
    }
   ],
   "source": [
    "json_data = {\n",
    "    \"name\": \"Petronila\",\n",
    "    \"age\": 28,\n",
    "    \"interests\": [\"reading\", \"cycling\", \"technology\"],\n",
    "    \"education\": {\n",
    "        \"bachelor\": \"Computer Science\",\n",
    "        \"master\": \"Data Science\",\n",
    "        \"phd\": \"Not enrolled\"\n",
    "    }\n",
    "}\n",
    "\n",
    "RenderJSON(json_data, init_level=1).display()"
   ]
  },
  {
   "cell_type": "markdown",
   "metadata": {},
   "source": [
    "# Colophon\n",
    "----\n"
   ]
  },
  {
   "cell_type": "code",
   "execution_count": null,
   "metadata": {},
   "outputs": [],
   "source": [
    "#| eval: false\n",
    "\n",
    "import fastcore.all as FC\n",
    "import nbdev\n",
    "from nbdev.clean import nbdev_clean\n"
   ]
  },
  {
   "cell_type": "code",
   "execution_count": null,
   "metadata": {},
   "outputs": [],
   "source": [
    "#| eval: false\n",
    "\n",
    "if FC.IN_NOTEBOOK:\n",
    "    nb_path = '17_display.ipynb'\n",
    "    nbdev_clean(nb_path)\n",
    "    nbdev.nbdev_export(nb_path)\n"
   ]
  }
 ],
 "metadata": {
  "kernelspec": {
   "display_name": "python3",
   "language": "python",
   "name": "python3"
  },
  "widgets": {
   "application/vnd.jupyter.widget-state+json": {
    "state": {},
    "version_major": 2,
    "version_minor": 0
   }
  }
 },
 "nbformat": 4,
 "nbformat_minor": 4
}
