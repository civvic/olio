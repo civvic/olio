{
 "cells": [
  {
   "cell_type": "code",
   "execution_count": null,
   "metadata": {},
   "outputs": [],
   "source": [
    "#| default_exp widget\n"
   ]
  },
  {
   "cell_type": "code",
   "execution_count": null,
   "metadata": {},
   "outputs": [],
   "source": [
    "#| export\n",
    "from __future__ import annotations\n"
   ]
  },
  {
   "cell_type": "markdown",
   "metadata": {},
   "source": [
    "## Widgets\n",
    "\n",
    "`ipywidgets` utils."
   ]
  },
  {
   "cell_type": "markdown",
   "metadata": {},
   "source": [
    "# Prologue"
   ]
  },
  {
   "cell_type": "code",
   "execution_count": null,
   "metadata": {},
   "outputs": [],
   "source": [
    "#| export\n",
    "import asyncio\n",
    "import time\n",
    "from functools import wraps\n",
    "\n",
    "import ipywidgets as W\n"
   ]
  },
  {
   "cell_type": "code",
   "execution_count": null,
   "metadata": {},
   "outputs": [],
   "source": [
    "#| export\n",
    "\n",
    "from olio.basic import _get_globals\n"
   ]
  },
  {
   "cell_type": "code",
   "execution_count": null,
   "metadata": {},
   "outputs": [],
   "source": [
    "import threading\n",
    "\n",
    "import traitlets as T\n",
    "from fastcore.test import *\n",
    "from IPython.display import clear_output\n",
    "from IPython.display import display\n",
    "from IPython.display import Markdown\n"
   ]
  },
  {
   "cell_type": "markdown",
   "metadata": {},
   "source": [
    "----\n"
   ]
  },
  {
   "cell_type": "markdown",
   "metadata": {},
   "source": [
    "# cleanupwidgets\n",
    "> Helper to properly cleanup ipywidget instances by closing their comms.\n",
    "\n",
    "When working with ipywidgets in notebooks, each widget creates a comm channel with the kernel. During heavy development, it's better to close the widgets, to avoid memory leaks and kernel issues.\n"
   ]
  },
  {
   "cell_type": "code",
   "execution_count": null,
   "metadata": {},
   "outputs": [],
   "source": [
    "#| export\n",
    "\n",
    "def cleanupwidgets(*ws, mod: str|None=None, clear=True):\n",
    "    from IPython.display import clear_output\n",
    "    glb = _get_globals(mod or __name__)\n",
    "    for w in ws:\n",
    "        _w = glb.get(w) if isinstance(w, str) else w\n",
    "        if _w:\n",
    "            try: _w.close()  # type: ignore\n",
    "            except: pass\n",
    "    if clear: clear_output(wait=False)"
   ]
  },
  {
   "cell_type": "code",
   "execution_count": null,
   "metadata": {},
   "outputs": [],
   "source": [
    "_b = W.Button()\n",
    "test_eq(_b.comm is not None, True)\n",
    "cleanupwidgets('_b')\n",
    "test_is(_b.comm, None)"
   ]
  },
  {
   "cell_type": "code",
   "execution_count": null,
   "metadata": {},
   "outputs": [],
   "source": [
    "_b = W.Button()\n",
    "test_eq(_b.comm is not None, True)\n",
    "cleanupwidgets('_b')\n",
    "test_is(_b.comm, None)"
   ]
  },
  {
   "cell_type": "markdown",
   "metadata": {},
   "source": [
    "----\n",
    "# Asynchronous Widgets"
   ]
  },
  {
   "cell_type": "markdown",
   "metadata": {},
   "source": [
    "Two scenarios where we'd like widget-related code to run without blocking the kernel from acting on other execution requests.\n",
    "\n",
    "1. Pausing code to wait for user interaction with a widget in the frontend\n",
    "2. Updating a widget in the background"
   ]
  },
  {
   "cell_type": "code",
   "execution_count": null,
   "metadata": {},
   "outputs": [
    {
     "data": {
      "application/vnd.jupyter.widget-view+json": {
       "model_id": "cae6917518174dfbad0108cc143dc23e",
       "version_major": 2,
       "version_minor": 0
      },
      "text/plain": [
       "IntSlider(value=0, max=10)"
      ]
     },
     "metadata": {},
     "output_type": "display_data"
    },
    {
     "name": "stdout",
     "output_type": "stream",
     "text": [
      "waiting for slider to reach 10.............timeout\n"
     ]
    }
   ],
   "source": [
    "cleanupwidgets('slider')\n",
    "\n",
    "display(slider := W.IntSlider(max=10))\n",
    "\n",
    "def work(slider):\n",
    "    start = time.time()\n",
    "    print(f\"waiting for slider to reach {slider.max}...\", end='')\n",
    "    while True:\n",
    "        print('.', end='')\n",
    "        time.sleep(0.5)\n",
    "        if (time.time() - start) > 5: print('timeout'); break\n",
    "\n",
    "work(slider)"
   ]
  },
  {
   "cell_type": "markdown",
   "metadata": {},
   "source": [
    "Try to change the slider. You can, the front-end is responsive, but the kernel is blocked from running other code, including handling messages from the front-end."
   ]
  },
  {
   "cell_type": "code",
   "execution_count": null,
   "metadata": {},
   "outputs": [
    {
     "data": {
      "application/vnd.jupyter.widget-view+json": {
       "model_id": "7a08930261044152a1680a76e4b2d1c5",
       "version_major": 2,
       "version_minor": 0
      },
      "text/plain": [
       "FloatProgress(value=0.0, max=1.0)"
      ]
     },
     "metadata": {},
     "output_type": "display_data"
    }
   ],
   "source": [
    "cleanupwidgets('progress')\n",
    "\n",
    "display(progress := W.FloatProgress(value=0.0, min=0.0, max=1.0))\n",
    "\n",
    "async def work(progress):\n",
    "    total = 100\n",
    "    for i in range(total):\n",
    "        time.sleep(0.05)\n",
    "        progress.value = float(i+1)/total\n",
    "\n",
    "await work(progress)"
   ]
  },
  {
   "cell_type": "code",
   "execution_count": null,
   "metadata": {},
   "outputs": [
    {
     "name": "stdout",
     "output_type": "stream",
     "text": [
      "1.0\n"
     ]
    }
   ],
   "source": [
    "print(progress.value)"
   ]
  },
  {
   "cell_type": "markdown",
   "metadata": {},
   "source": [
    "Async doesn't help, the kernel is still blocked."
   ]
  },
  {
   "cell_type": "markdown",
   "metadata": {},
   "source": [
    "### Waiting for user interaction\n",
    "> Pausing code to wait for user interaction with a widget in the frontend"
   ]
  },
  {
   "cell_type": "markdown",
   "metadata": {},
   "source": [
    "#### Event loop integration\n",
    "\n",
    "If we take advantage of the event loop integration IPython offers, we can have a nice solution async/await syntax.\n",
    "\n",
    "We define a new function that returns a future for when a widget attribute changes."
   ]
  },
  {
   "cell_type": "code",
   "execution_count": null,
   "metadata": {},
   "outputs": [],
   "source": [
    "#| export\n",
    "\n",
    "def wait_for_change(widget:W.Widget, value:str):\n",
    "    future = asyncio.Future()\n",
    "    def getvalue(change):\n",
    "        future.set_result(change.new)\n",
    "        widget.unobserve(getvalue, value)\n",
    "    widget.observe(getvalue, value)\n",
    "    return future"
   ]
  },
  {
   "cell_type": "markdown",
   "metadata": {},
   "source": [
    "And we finally get to our function where we will wait for widget changes. We'll do 10 units of work, and pause after each one until we observe a change in the widget. Notice that the widget's value is available to us, since it is what the `wait_for_change` future has as a result.\n",
    "\n",
    "Run this function, and change the slider 10 times."
   ]
  },
  {
   "cell_type": "code",
   "execution_count": null,
   "metadata": {},
   "outputs": [
    {
     "name": "stdout",
     "output_type": "stream",
     "text": [
      "aaa\n"
     ]
    },
    {
     "data": {
      "application/vnd.jupyter.widget-view+json": {
       "model_id": "9b07bf48dcc74f5bb1462461b4d0fcea",
       "version_major": 2,
       "version_minor": 0
      },
      "text/plain": [
       "IntSlider(value=0)"
      ]
     },
     "metadata": {},
     "output_type": "display_data"
    },
    {
     "data": {
      "application/vnd.jupyter.widget-view+json": {
       "model_id": "9887fdcc54164afe9656b2611cda5f5b",
       "version_major": 2,
       "version_minor": 0
      },
      "text/plain": [
       "Output()"
      ]
     },
     "metadata": {},
     "output_type": "display_data"
    }
   ],
   "source": [
    "cleanupwidgets('slider1', 'out1')\n",
    "\n",
    "slider1 = W.IntSlider()\n",
    "out1 = W.Output()\n",
    "\n",
    "async def f():\n",
    "    for i in range(10):\n",
    "        out1.append_stdout('did work ' + str(i))\n",
    "        x = await wait_for_change(slider1, 'value')\n",
    "        out1.append_stdout(' - async function continued with value ' + str(x) + '\\n')\n",
    "asyncio.ensure_future(f())\n",
    "print('aaa')\n",
    "display(slider1, out1)"
   ]
  },
  {
   "cell_type": "markdown",
   "metadata": {},
   "source": [
    "Note that this is not blocking the kernel from running other code. We can run other cells, or even other widgets."
   ]
  },
  {
   "cell_type": "code",
   "execution_count": null,
   "metadata": {},
   "outputs": [
    {
     "data": {
      "application/vnd.jupyter.widget-view+json": {
       "model_id": "f20ec1d512a8447189b8d4887999e453",
       "version_major": 2,
       "version_minor": 0
      },
      "text/plain": [
       "IntSlider(value=0)"
      ]
     },
     "metadata": {},
     "output_type": "display_data"
    },
    {
     "data": {
      "application/vnd.jupyter.widget-view+json": {
       "model_id": "b9adcc5d3711463da884efb8105f9008",
       "version_major": 2,
       "version_minor": 0
      },
      "text/plain": [
       "Output()"
      ]
     },
     "metadata": {},
     "output_type": "display_data"
    }
   ],
   "source": [
    "cleanupwidgets('slider2', 'out2')\n",
    "\n",
    "slider2 = W.IntSlider()\n",
    "out2 = W.Output()\n",
    "\n",
    "def test():\n",
    "    async def f():\n",
    "        for i in range(10):\n",
    "            out2.append_stdout('did work ' + str(i))\n",
    "            x = await wait_for_change(slider2, 'value')\n",
    "            out2.append_stdout(' - async function continued with value ' + str(x) + '\\n')\n",
    "    asyncio.ensure_future(f())\n",
    "\n",
    "test()\n",
    "display(slider2, out2)"
   ]
  },
  {
   "cell_type": "markdown",
   "metadata": {},
   "source": [
    "#### Generator approach\n",
    "> Updating a widget in the background\n",
    "\n",
    "If you can't take advantage of the async/await syntax, or you don't want to modify the event loop, you can also do this with generator functions."
   ]
  },
  {
   "cell_type": "markdown",
   "metadata": {},
   "source": [
    "First, we define a decorator which hooks a generator function up to widget change events."
   ]
  },
  {
   "cell_type": "code",
   "execution_count": null,
   "metadata": {},
   "outputs": [],
   "source": [
    "#| export\n",
    "\n",
    "def yield_for_change(widget, attribute):\n",
    "    \"\"\"Pause a generator to wait for a widget change event.\n",
    "        \n",
    "    This is a decorator for a generator function which pauses the generator on yield\n",
    "    until the given widget attribute changes. The new value of the attribute is\n",
    "    sent to the generator and is the value of the yield.\n",
    "    \"\"\"\n",
    "    def f(iterator):\n",
    "        @wraps(iterator)\n",
    "        def inner():\n",
    "            i = iterator()\n",
    "            def next_i(change):\n",
    "                try: i.send(change.new)\n",
    "                except StopIteration as e: widget.unobserve(next_i, attribute)\n",
    "            widget.observe(next_i, attribute)\n",
    "            # start the generator\n",
    "            next(i)\n",
    "        return inner\n",
    "    return f"
   ]
  },
  {
   "cell_type": "markdown",
   "metadata": {},
   "source": [
    "Then we set up our generator."
   ]
  },
  {
   "cell_type": "code",
   "execution_count": null,
   "metadata": {},
   "outputs": [
    {
     "data": {
      "application/vnd.jupyter.widget-view+json": {
       "model_id": "05c60f13fe9c4b9c8152266e5c5328c1",
       "version_major": 2,
       "version_minor": 0
      },
      "text/plain": [
       "IntSlider(value=0)"
      ]
     },
     "metadata": {},
     "output_type": "display_data"
    },
    {
     "name": "stdout",
     "output_type": "stream",
     "text": [
      "did work 0 "
     ]
    },
    {
     "name": "stdout",
     "output_type": "stream",
     "text": [
      "- generator function continued with value 2\n",
      "did work 1 - generator function continued with value 3\n",
      "did work 2 - generator function continued with value 8\n",
      "did work 3 - generator function continued with value 9\n",
      "did work 4 - generator function continued with value 11\n",
      "did work 5 - generator function continued with value 17\n",
      "did work 6 - generator function continued with value 21\n",
      "did work 7 - generator function continued with value 23\n",
      "did work 8 - generator function continued with value 25\n",
      "did work 9 - generator function continued with value 26\n"
     ]
    }
   ],
   "source": [
    "cleanupwidgets('slider3')\n",
    "display(slider3 := W.IntSlider())\n",
    "\n",
    "@yield_for_change(slider3, 'value')\n",
    "def f():\n",
    "    for i in range(10):\n",
    "        print('did work %s'%i, end=' ')\n",
    "        x = yield\n",
    "        print('- generator function continued with value %s'%x)\n",
    "f();"
   ]
  },
  {
   "cell_type": "markdown",
   "metadata": {},
   "source": [
    "#### Modifications\n",
    "\n",
    "The above two approaches both waited on widget change events, but can be modified to wait for other things, such as button event messages (as in a \"Continue\" button), etc."
   ]
  },
  {
   "cell_type": "code",
   "execution_count": null,
   "metadata": {},
   "outputs": [
    {
     "data": {
      "application/vnd.jupyter.widget-view+json": {
       "model_id": "9f28fb3558ee40beb5b875fa2177e189",
       "version_major": 2,
       "version_minor": 0
      },
      "text/plain": [
       "Clickable(description='0', style=ButtonStyle())"
      ]
     },
     "metadata": {},
     "output_type": "display_data"
    },
    {
     "name": "stdout",
     "output_type": "stream",
     "text": [
      "did work 0 "
     ]
    },
    {
     "name": "stdout",
     "output_type": "stream",
     "text": [
      "- generator function continued with value 1\n",
      "did work 1 - generator function continued with value 2\n",
      "did work 2 - generator function continued with value 3\n",
      "did work 3 - generator function continued with value 4\n",
      "did work 4 - generator function continued with value 5\n",
      "did work 5 - generator function continued with value 6\n",
      "did work 6 - generator function continued with value 7\n",
      "did work 7 - generator function continued with value 8\n",
      "did work 8 - generator function continued with value 9\n",
      "did work 9 - generator function continued with value 10\n"
     ]
    }
   ],
   "source": [
    "cleanupwidgets('btn')\n",
    "\n",
    "class Clickable(W.Button):\n",
    "    clicked = T.Int(0)\n",
    "    def __init__(self, *args, on_click=None, **kwargs):\n",
    "        super().__init__(*args, **kwargs)\n",
    "        if on_click is None:\n",
    "            self.on_click(lambda b: b.set_trait('clicked', b.clicked + 1))\n",
    "            T.dlink((self, 'clicked'), (self, 'description'), lambda x: f'{x}')\n",
    "        else:\n",
    "            self.on_click(on_click)\n",
    "\n",
    "display(btn := Clickable(description='0'))\n",
    "\n",
    "@yield_for_change(btn, 'clicked')\n",
    "def f():\n",
    "    for i in range(10):\n",
    "        print('did work %s'%i, end=' '  )\n",
    "        x = yield\n",
    "        print('- generator function continued with value %s'%x)\n",
    "f();"
   ]
  },
  {
   "cell_type": "code",
   "execution_count": null,
   "metadata": {},
   "outputs": [
    {
     "data": {
      "application/vnd.jupyter.widget-view+json": {
       "model_id": "f867fa7886294d4c9eb346dc1dc63853",
       "version_major": 2,
       "version_minor": 0
      },
      "text/plain": [
       "Clickable(description='0', style=ButtonStyle())"
      ]
     },
     "metadata": {},
     "output_type": "display_data"
    },
    {
     "data": {
      "application/vnd.jupyter.widget-view+json": {
       "model_id": "912161b4fe1147958d462641f045baa8",
       "version_major": 2,
       "version_minor": 0
      },
      "text/plain": [
       "Output()"
      ]
     },
     "metadata": {},
     "output_type": "display_data"
    }
   ],
   "source": [
    "cleanupwidgets('btn2', 'out3')\n",
    "out3 = W.Output()\n",
    "\n",
    "display(btn2 := Clickable(description='0'), out3)\n",
    "\n",
    "def f():\n",
    "    async def f():\n",
    "        for i in range(10):\n",
    "            out3.append_stdout('did work ' + str(i))\n",
    "            x = await wait_for_change(btn2, 'clicked')\n",
    "            out3.append_stdout(' - async function continued with value ' + str(x) + '\\n')\n",
    "    asyncio.ensure_future(f())\n",
    "\n",
    "f()"
   ]
  },
  {
   "cell_type": "code",
   "execution_count": null,
   "metadata": {},
   "outputs": [
    {
     "data": {
      "application/vnd.jupyter.widget-view+json": {
       "model_id": "de07bc3a957440b297eb5d57f37ff9bd",
       "version_major": 2,
       "version_minor": 0
      },
      "text/plain": [
       "Text(value='', continuous_update=False)"
      ]
     },
     "metadata": {},
     "output_type": "display_data"
    },
    {
     "data": {
      "application/vnd.jupyter.widget-view+json": {
       "model_id": "341b6e81cde048cdb6043c33a47731cb",
       "version_major": 2,
       "version_minor": 0
      },
      "text/plain": [
       "Output()"
      ]
     },
     "metadata": {},
     "output_type": "display_data"
    }
   ],
   "source": [
    "cleanupwidgets('txt', 'out4')\n",
    "out4 = W.Output()\n",
    "\n",
    "display(txt := W.Text(continuous_update=False), out4)\n",
    "\n",
    "def f():\n",
    "    async def f():\n",
    "        while True:\n",
    "            x = await wait_for_change(txt, 'value')\n",
    "            out4.append_stdout(' - async function continued with value ' + str(x) + '\\n')\n",
    "            if x == 'exit': break\n",
    "            txt.value = ''\n",
    "    asyncio.ensure_future(f())\n",
    "\n",
    "f()"
   ]
  },
  {
   "cell_type": "markdown",
   "metadata": {},
   "source": [
    "### Updating a widget in the background\n",
    "\n",
    "Sometimes you'd like to update a widget in the background, allowing the kernel to also process other execute requests. We can do this with threads. In the example below, the progress bar will update in the background and will allow the main kernel to do other computations."
   ]
  },
  {
   "cell_type": "code",
   "execution_count": null,
   "metadata": {},
   "outputs": [
    {
     "data": {
      "application/vnd.jupyter.widget-view+json": {
       "model_id": "744cca9443894edfb85cedeba57a6ced",
       "version_major": 2,
       "version_minor": 0
      },
      "text/plain": [
       "FloatProgress(value=0.0, max=1.0)"
      ]
     },
     "metadata": {},
     "output_type": "display_data"
    }
   ],
   "source": [
    "cleanupwidgets('progress')\n",
    "\n",
    "progress = W.FloatProgress(value=0.0, min=0.0, max=1.0)\n",
    "\n",
    "def work(progress):\n",
    "    total = 100\n",
    "    for i in range(total):\n",
    "        time.sleep(0.01)\n",
    "        progress.value = float(i+1)/total\n",
    "\n",
    "thread = threading.Thread(target=work, args=(progress,))\n",
    "display(progress)\n",
    "thread.start()"
   ]
  },
  {
   "cell_type": "code",
   "execution_count": null,
   "metadata": {},
   "outputs": [
    {
     "name": "stdout",
     "output_type": "stream",
     "text": [
      "17\n"
     ]
    }
   ],
   "source": [
    "print(17)"
   ]
  },
  {
   "cell_type": "markdown",
   "metadata": {},
   "source": [
    "----"
   ]
  },
  {
   "cell_type": "markdown",
   "metadata": {},
   "source": [
    "Now we want to handle the inverse problem, where we want to block the kernel from running other code while waiting for a widget to change.\n",
    "\n",
    "Consider Python `input` function, which blocks until the user enters some input."
   ]
  },
  {
   "cell_type": "code",
   "execution_count": null,
   "metadata": {},
   "outputs": [
    {
     "name": "stdout",
     "output_type": "stream",
     "text": [
      "It's very important to know your name, asd!\n"
     ]
    }
   ],
   "source": [
    "name = input(\"Enter your name:\")\n",
    "print(f\"It's very important to know your name, {name}!\")"
   ]
  },
  {
   "cell_type": "markdown",
   "metadata": {},
   "source": [
    "If you're running this on VSCode, you'll notice that `input` works as expected, but its UX is unwieldy with a nearly invisible popout far above the cell.\n",
    "\n",
    "No problem, `ipywidgets` has a `Text` widget that can be used to get user input."
   ]
  },
  {
   "cell_type": "code",
   "execution_count": null,
   "metadata": {},
   "outputs": [
    {
     "name": "stdout",
     "output_type": "stream",
     "text": [
      "(Stop cell execution when you tire of waiting)\n"
     ]
    },
    {
     "data": {
      "application/vnd.jupyter.widget-view+json": {
       "model_id": "d358ddf855044d38a8109b99c36f1642",
       "version_major": 2,
       "version_minor": 0
      },
      "text/plain": [
       "Text(value='', continuous_update=False, placeholder='Input your name; enter to submit')"
      ]
     },
     "metadata": {},
     "output_type": "display_data"
    },
    {
     "ename": "KeyboardInterrupt",
     "evalue": "",
     "output_type": "error",
     "traceback": [
      "\u001b[0;31m---------------------------------------------------------------------------\u001b[0m",
      "\u001b[0;31mKeyboardInterrupt\u001b[0m                         Traceback (most recent call last)",
      "Cell \u001b[0;32mIn[25], line 10\u001b[0m\n\u001b[1;32m      8\u001b[0m \u001b[38;5;28;01mwhile\u001b[39;00m \u001b[38;5;28;01mTrue\u001b[39;00m:\n\u001b[1;32m      9\u001b[0m     \u001b[38;5;28;01mif\u001b[39;00m text\u001b[38;5;241m.\u001b[39mvalue: \u001b[38;5;28;01mbreak\u001b[39;00m\n\u001b[0;32m---> 10\u001b[0m     \u001b[43mtime\u001b[49m\u001b[38;5;241;43m.\u001b[39;49m\u001b[43msleep\u001b[49m\u001b[43m(\u001b[49m\u001b[38;5;241;43m0.5\u001b[39;49m\u001b[43m)\u001b[49m\n\u001b[1;32m     11\u001b[0m \u001b[38;5;28mprint\u001b[39m(\u001b[38;5;124mf\u001b[39m\u001b[38;5;124m\"\u001b[39m\u001b[38;5;124mIt\u001b[39m\u001b[38;5;124m'\u001b[39m\u001b[38;5;124ms very important to know your name, \u001b[39m\u001b[38;5;132;01m{\u001b[39;00mname\u001b[38;5;132;01m}\u001b[39;00m\u001b[38;5;124m!\u001b[39m\u001b[38;5;124m\"\u001b[39m)\n",
      "\u001b[0;31mKeyboardInterrupt\u001b[0m: "
     ]
    }
   ],
   "source": [
    "cleanupwidgets('text')\n",
    "\n",
    "print('(Stop cell execution when you tire of waiting)')\n",
    "\n",
    "text = W.Text(placeholder='Input your name; enter to submit', continuous_update=False)\n",
    "display(text)\n",
    "\n",
    "while True:\n",
    "    if text.value: break\n",
    "    time.sleep(0.5)\n",
    "print(f\"It's very important to know your name, {name}!\")"
   ]
  },
  {
   "cell_type": "markdown",
   "metadata": {},
   "source": [
    "The widget is responsive, but as the kernel is blocked, the messages coming from the front-end are not processed.\n",
    "\n",
    "No problem, Asyncio to the rescue."
   ]
  },
  {
   "cell_type": "code",
   "execution_count": null,
   "metadata": {},
   "outputs": [
    {
     "data": {
      "application/vnd.jupyter.widget-view+json": {
       "model_id": "97d0544cf310424ebef6496e27fec5b8",
       "version_major": 2,
       "version_minor": 0
      },
      "text/plain": [
       "Text(value='', continuous_update=False, placeholder='Enter your name; enter to submit')"
      ]
     },
     "metadata": {},
     "output_type": "display_data"
    },
    {
     "ename": "CancelledError",
     "evalue": "",
     "output_type": "error",
     "traceback": [
      "\u001b[0;31m---------------------------------------------------------------------------\u001b[0m",
      "\u001b[0;31mCancelledError\u001b[0m                            Traceback (most recent call last)",
      "Cell \u001b[0;32mIn[26], line 14\u001b[0m\n\u001b[1;32m     11\u001b[0m text \u001b[38;5;241m=\u001b[39m W\u001b[38;5;241m.\u001b[39mText(placeholder\u001b[38;5;241m=\u001b[39m\u001b[38;5;124m'\u001b[39m\u001b[38;5;124mEnter your name; enter to submit\u001b[39m\u001b[38;5;124m'\u001b[39m, continuous_update\u001b[38;5;241m=\u001b[39m\u001b[38;5;28;01mFalse\u001b[39;00m)\n\u001b[1;32m     12\u001b[0m display(text)\n\u001b[0;32m---> 14\u001b[0m \u001b[38;5;28;01mawait\u001b[39;00m wait_for_text(text)\n\u001b[1;32m     15\u001b[0m \u001b[38;5;28mprint\u001b[39m(\u001b[38;5;124mf\u001b[39m\u001b[38;5;124m\"\u001b[39m\u001b[38;5;124mIt\u001b[39m\u001b[38;5;124m'\u001b[39m\u001b[38;5;124ms very important to know your name, \u001b[39m\u001b[38;5;132;01m{\u001b[39;00mname\u001b[38;5;132;01m}\u001b[39;00m\u001b[38;5;124m!\u001b[39m\u001b[38;5;124m\"\u001b[39m)\n",
      "Cell \u001b[0;32mIn[26], line 7\u001b[0m, in \u001b[0;36mwait_for_text\u001b[0;34m(text)\u001b[0m\n\u001b[1;32m      5\u001b[0m \u001b[38;5;28;01mwhile\u001b[39;00m cnt \u001b[38;5;241m<\u001b[39m \u001b[38;5;241m10\u001b[39m:\n\u001b[1;32m      6\u001b[0m     \u001b[38;5;28;01mif\u001b[39;00m text\u001b[38;5;241m.\u001b[39mvalue: \u001b[38;5;28;01mreturn\u001b[39;00m text\u001b[38;5;241m.\u001b[39mvalue\n\u001b[0;32m----> 7\u001b[0m     \u001b[38;5;28;01mawait\u001b[39;00m asyncio\u001b[38;5;241m.\u001b[39msleep(\u001b[38;5;241m0.5\u001b[39m)\n\u001b[1;32m      8\u001b[0m     cnt \u001b[38;5;241m+\u001b[39m\u001b[38;5;241m=\u001b[39m \u001b[38;5;241m1\u001b[39m\n\u001b[1;32m      9\u001b[0m \u001b[38;5;28;01mreturn\u001b[39;00m \u001b[38;5;124m'\u001b[39m\u001b[38;5;124munknown\u001b[39m\u001b[38;5;124m'\u001b[39m\n",
      "File \u001b[0;32m~/miniforge3/envs/bridget/lib/python3.12/asyncio/tasks.py:665\u001b[0m, in \u001b[0;36msleep\u001b[0;34m(delay, result)\u001b[0m\n\u001b[1;32m    661\u001b[0m h \u001b[38;5;241m=\u001b[39m loop\u001b[38;5;241m.\u001b[39mcall_later(delay,\n\u001b[1;32m    662\u001b[0m                     futures\u001b[38;5;241m.\u001b[39m_set_result_unless_cancelled,\n\u001b[1;32m    663\u001b[0m                     future, result)\n\u001b[1;32m    664\u001b[0m \u001b[38;5;28;01mtry\u001b[39;00m:\n\u001b[0;32m--> 665\u001b[0m     \u001b[38;5;28;01mreturn\u001b[39;00m \u001b[38;5;28;01mawait\u001b[39;00m future\n\u001b[1;32m    666\u001b[0m \u001b[38;5;28;01mfinally\u001b[39;00m:\n\u001b[1;32m    667\u001b[0m     h\u001b[38;5;241m.\u001b[39mcancel()\n",
      "\u001b[0;31mCancelledError\u001b[0m: "
     ]
    }
   ],
   "source": [
    "cleanupwidgets('text')\n",
    "\n",
    "async def wait_for_text(text):\n",
    "    cnt = 0\n",
    "    while cnt < 10:\n",
    "        if text.value: return text.value\n",
    "        await asyncio.sleep(0.5)\n",
    "        cnt += 1\n",
    "    return 'unknown'\n",
    "\n",
    "text = W.Text(placeholder='Enter your name; enter to submit', continuous_update=False)\n",
    "display(text)\n",
    "\n",
    "await wait_for_text(text)\n",
    "print(f\"It's very important to know your name, {name}!\")"
   ]
  },
  {
   "cell_type": "markdown",
   "metadata": {},
   "source": [
    "You can try lots of convoluted solutions, but by design is very difficult to block the kernel using widgets. Crafting modal UIs with `ipywidgets` is not simple."
   ]
  },
  {
   "cell_type": "markdown",
   "metadata": {},
   "source": [
    "**TL;DR**: Use [jupyter-ui-poll](https://github.com/Kirill888/jupyter-ui-poll/tree/develop)  \n",
    "> Block Jupyter cell execution while interacting with widgets.\n",
    "\n",
    "We want to solve the following problem:\n",
    "\n",
    "1. Display User Interface in **Jupyter** using ``ipywidgets`` or similar\n",
    "2. Wait for data to be entered (this step is surprisingly non-trivial to implement)\n",
    "3. Use entered data in cells below\n",
    "\n",
    "You want to implement a notebook like the one below\n",
    "\n",
    "```python\n",
    "\n",
    "   # cell 1\n",
    "   ui = make_ui()\n",
    "   display(ui)\n",
    "   data = ui.wait_for_data()\n",
    "\n",
    "   # cell 2\n",
    "   do_things_with(data)\n",
    "\n",
    "   # cell 3.\n",
    "   do_more_tings()\n",
    "```\n",
    "\n",
    "And you want to be able to execute `Cells -> Run All` menu option and still get correct output.\n",
    "\n",
    "Jupyter assists in implementing your custom `ui.wait_for_data()` poll loop.\n",
    "If you have tried implementing such workflow in the past you'll know that it is not that simple. If you haven't, see [Technical Details](https://github.com/Kirill888/jupyter-ui-poll/tree/develop?tab=readme-ov-file#technical-details) for an explanation on why it's hard and how `jupyter-ui-poll` solves it.\n",
    "\n",
    "Quick, self contained example:"
   ]
  },
  {
   "cell_type": "code",
   "execution_count": null,
   "metadata": {},
   "outputs": [
    {
     "data": {
      "application/vnd.jupyter.widget-view+json": {
       "model_id": "0875ac8000934722be0a130f57e04bc7",
       "version_major": 2,
       "version_minor": 0
      },
      "text/plain": [
       "Button(description='Click Me', style=ButtonStyle())"
      ]
     },
     "metadata": {},
     "output_type": "display_data"
    },
    {
     "name": "stdout",
     "output_type": "stream",
     "text": [
      "................done\n"
     ]
    }
   ],
   "source": [
    "import time\n",
    "from ipywidgets import Button\n",
    "from jupyter_ui_poll import ui_events\n",
    "\n",
    "# Set up simple GUI, button with on_click callback\n",
    "# that sets ui_done=True and changes button text\n",
    "ui_done = False\n",
    "\n",
    "def on_click(btn):\n",
    "    global ui_done\n",
    "    ui_done = True\n",
    "    btn.description = '👍'\n",
    "\n",
    "btn = Button(description='Click Me')\n",
    "btn.on_click(on_click)\n",
    "display(btn)\n",
    "\n",
    "# Wait for user to press the button\n",
    "with ui_events() as poll:\n",
    "    while ui_done is False:\n",
    "        poll(10)  # React to UI events (up to 10 at a time)\n",
    "        print('.', end='')\n",
    "        time.sleep(0.1)\n",
    "print('done')"
   ]
  },
  {
   "cell_type": "markdown",
   "metadata": {},
   "source": [
    "Now we can develop our pretty `input` function:"
   ]
  },
  {
   "cell_type": "code",
   "execution_count": null,
   "metadata": {},
   "outputs": [],
   "source": [
    "async def get_user_input(prompt='', placeholder='Write; enter to submit', timeout=10.):\n",
    "    style = {'description_width':'auto', 'width':'80%'}\n",
    "    w = W.Text(placeholder=placeholder, continuous_update=False, style=style)\n",
    "    if prompt: w.description = f\"{prompt}:\"\n",
    "    display(w)\n",
    "    answer = v = w.value\n",
    "    start_time = time.time()\n",
    "    async with ui_events() as ui_poll:\n",
    "        while answer == v:\n",
    "            if (time.time() - start_time) > timeout: break\n",
    "            await ui_poll(10)\n",
    "            await asyncio.sleep(0.2)  # Simulate async processing\n",
    "            answer = w.value\n",
    "    clear_output()\n",
    "    return answer.lower()"
   ]
  },
  {
   "cell_type": "code",
   "execution_count": null,
   "metadata": {},
   "outputs": [
    {
     "data": {
      "text/markdown": [
       "Your intervention has saved the Universe and beyond, **aaa**!"
      ],
      "text/plain": [
       "<IPython.core.display.Markdown object>"
      ]
     },
     "metadata": {},
     "output_type": "display_data"
    }
   ],
   "source": [
    "answer = await get_user_input(placeholder='Input your name; enter to submit')\n",
    "Markdown(f\"Your intervention has saved the Universe and beyond, **{name}**!\")"
   ]
  },
  {
   "cell_type": "markdown",
   "metadata": {},
   "source": [
    "# Colophon\n",
    "----\n"
   ]
  },
  {
   "cell_type": "code",
   "execution_count": null,
   "metadata": {},
   "outputs": [],
   "source": [
    "import fastcore.all as FC\n",
    "import nbdev\n",
    "from nbdev.clean import nbdev_clean\n"
   ]
  },
  {
   "cell_type": "code",
   "execution_count": null,
   "metadata": {},
   "outputs": [],
   "source": [
    "if FC.IN_NOTEBOOK:\n",
    "    nb_path = '20_widgets.ipynb'\n",
    "    nbdev_clean(nb_path)\n",
    "    nbdev.nbdev_export(nb_path)\n"
   ]
  }
 ],
 "metadata": {
  "kernelspec": {
   "display_name": "Python 3",
   "language": "python",
   "name": "python3"
  },
  "language_info": {
   "name": "python",
   "version": "3.12.8"
  },
  "widgets": {
   "application/vnd.jupyter.widget-state+json": {
    "state": {},
    "version_major": 2,
    "version_minor": 0
   }
  }
 },
 "nbformat": 4,
 "nbformat_minor": 4
}
