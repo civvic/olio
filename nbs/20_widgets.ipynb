{
 "cells": [
  {
   "cell_type": "code",
   "execution_count": null,
   "metadata": {},
   "outputs": [],
   "source": [
    "#| default_exp widget\n"
   ]
  },
  {
   "cell_type": "code",
   "execution_count": null,
   "metadata": {},
   "outputs": [],
   "source": [
    "#| export\n",
    "from __future__ import annotations\n"
   ]
  },
  {
   "cell_type": "markdown",
   "metadata": {},
   "source": [
    "## Widgets\n",
    "\n",
    "`ipywidgets` utils."
   ]
  },
  {
   "cell_type": "markdown",
   "metadata": {},
   "source": [
    "# Prologue"
   ]
  },
  {
   "cell_type": "code",
   "execution_count": null,
   "metadata": {},
   "outputs": [],
   "source": [
    "#| export\n",
    "import asyncio\n",
    "import time\n",
    "from functools import wraps\n",
    "\n",
    "import ipywidgets as W\n",
    "import traitlets as T\n",
    "from IPython.display import display\n",
    "from IPython.display import Markdown\n",
    "from jupyter_ui_poll import ui_events\n"
   ]
  },
  {
   "cell_type": "code",
   "execution_count": null,
   "metadata": {},
   "outputs": [],
   "source": [
    "#| export\n",
    "\n",
    "from olio.basic import _get_globals\n"
   ]
  },
  {
   "cell_type": "code",
   "execution_count": null,
   "metadata": {},
   "outputs": [],
   "source": [
    "import threading\n",
    "\n",
    "from fastcore.test import *\n",
    "from IPython.display import clear_output\n"
   ]
  },
  {
   "cell_type": "markdown",
   "metadata": {},
   "source": [
    "----\n"
   ]
  },
  {
   "cell_type": "markdown",
   "metadata": {},
   "source": [
    "# cleanupwidgets\n",
    "> Helper to properly cleanup ipywidget instances by closing their comms.\n",
    "\n",
    "When working with ipywidgets in notebooks, each widget creates a comm channel with the kernel. During heavy development, it's better to close the widgets, to avoid memory leaks and kernel issues.\n"
   ]
  },
  {
   "cell_type": "code",
   "execution_count": null,
   "metadata": {},
   "outputs": [],
   "source": [
    "#| export\n",
    "\n",
    "def close_widget(w: W.Widget, all: bool=True):\n",
    "    if all:\n",
    "        for k in w.keys:  # type: ignore\n",
    "            if isinstance((v := getattr(w, k)), W.Widget):\n",
    "                close_widget(v)\n",
    "    w.close()"
   ]
  },
  {
   "cell_type": "code",
   "execution_count": null,
   "metadata": {},
   "outputs": [],
   "source": [
    "#| export\n",
    "\n",
    "def cleanupwidgets(*ws, mod: str|None=None, clear=True, all=True):\n",
    "    from IPython.display import clear_output\n",
    "    glb = _get_globals(mod or __name__)\n",
    "    for w in ws:\n",
    "        _w = glb.get(w) if isinstance(w, str) else w\n",
    "        if _w:\n",
    "            try: close_widget(_w, all=all)\n",
    "            except Exception as e: pass\n",
    "    if clear: clear_output(wait=False)"
   ]
  },
  {
   "cell_type": "code",
   "execution_count": null,
   "metadata": {},
   "outputs": [],
   "source": [
    "_b = W.Button()\n",
    "test_eq(_b.comm is not None, True)\n",
    "cleanupwidgets('_b')\n",
    "test_is(_b.comm, None)"
   ]
  },
  {
   "cell_type": "code",
   "execution_count": null,
   "metadata": {},
   "outputs": [],
   "source": [
    "_b = W.Button()\n",
    "test_eq(_b.comm is not None, True)\n",
    "cleanupwidgets('_b')\n",
    "test_is(_b.comm, None)"
   ]
  },
  {
   "cell_type": "code",
   "execution_count": null,
   "metadata": {},
   "outputs": [
    {
     "data": {
      "text/plain": [
       "{}"
      ]
     },
     "execution_count": null,
     "metadata": {},
     "output_type": "execute_result"
    }
   ],
   "source": [
    "import ipywidgets.widgets.widget\n",
    "ipywidgets.widgets.widget._instances"
   ]
  },
  {
   "cell_type": "code",
   "execution_count": null,
   "metadata": {},
   "outputs": [],
   "source": [
    "def get_active_widget_comms():\n",
    "    \"\"\"Get \"official\" list of widget comms\"\"\"\n",
    "    import ipywidgets as W\n",
    "    from IPython.core.getipython import get_ipython\n",
    "    ip = get_ipython(); kernel = ip.kernel  # type: ignore\n",
    "    if kernel:\n",
    "        ks = W.Widget.get_manager_state()['state'].keys()\n",
    "        for k,c in kernel.comm_manager.comms.items():\n",
    "            if c.comm_id in ks:\n",
    "                yield c"
   ]
  },
  {
   "cell_type": "code",
   "execution_count": null,
   "metadata": {},
   "outputs": [
    {
     "data": {
      "text/plain": [
       "[]"
      ]
     },
     "execution_count": null,
     "metadata": {},
     "output_type": "execute_result"
    }
   ],
   "source": [
    "[*get_active_widget_comms()]"
   ]
  },
  {
   "cell_type": "code",
   "execution_count": null,
   "metadata": {},
   "outputs": [],
   "source": [
    "W.Widget.close_all()"
   ]
  },
  {
   "cell_type": "markdown",
   "metadata": {},
   "source": [
    "# Clickable\n",
    "> `Button` subclass with a `value` trait."
   ]
  },
  {
   "cell_type": "code",
   "execution_count": null,
   "metadata": {},
   "outputs": [],
   "source": [
    "#| export\n",
    "\n",
    "class Clickable(W.Button, W.ValueWidget):\n",
    "    value = T.Int(0)\n",
    "    def __init__(self, description='', **kwargs):\n",
    "        super().__init__(description=description, **kwargs)\n",
    "        self.on_click(lambda b: b.set_trait('value', b.value + 1))\n",
    "        if not description:\n",
    "            T.dlink((self, 'value'), (self, 'description'), lambda x: f'{x}')"
   ]
  },
  {
   "cell_type": "code",
   "execution_count": null,
   "metadata": {},
   "outputs": [
    {
     "data": {
      "application/vnd.jupyter.widget-view+json": {
       "model_id": "044c2db59d8247efadae1339b44855b5",
       "version_major": 2,
       "version_minor": 0
      },
      "text/plain": [
       "Clickable(value=0, description='0', style=ButtonStyle())"
      ]
     },
     "metadata": {},
     "output_type": "display_data"
    }
   ],
   "source": [
    "cleanupwidgets('btn')\n",
    "display(btn := Clickable())"
   ]
  },
  {
   "cell_type": "code",
   "execution_count": null,
   "metadata": {},
   "outputs": [
    {
     "data": {
      "application/vnd.jupyter.widget-view+json": {
       "model_id": "a011bf2a8bae42ddb2a93139a76067a4",
       "version_major": 2,
       "version_minor": 0
      },
      "text/plain": [
       "HBox(children=(IntSlider(value=0), Clickable(value=0, description='>', layout=Layout(width='30px'), style=Butt…"
      ]
     },
     "metadata": {},
     "output_type": "display_data"
    }
   ],
   "source": [
    "cleanupwidgets('box')\n",
    "box = W.HBox([sld := W.IntSlider(), btn := Clickable('>', layout={'width':'30px'})])\n",
    "btn.on_click(lambda _: sld.set_trait('value', sld.value + 10))\n",
    "display(box)"
   ]
  },
  {
   "cell_type": "markdown",
   "metadata": {},
   "source": [
    "----\n",
    "# Asynchronous Widgets"
   ]
  },
  {
   "cell_type": "markdown",
   "metadata": {},
   "source": [
    "Two scenarios where we'd like widget-related code to run without blocking the kernel from acting on other execution requests.\n",
    "\n",
    "1. Pausing code to wait for user interaction with a widget in the frontend\n",
    "2. Updating a widget in the background"
   ]
  },
  {
   "cell_type": "code",
   "execution_count": null,
   "metadata": {},
   "outputs": [
    {
     "data": {
      "application/vnd.jupyter.widget-view+json": {
       "model_id": "2c138d7a7b094f4897db72e5ff91a5e2",
       "version_major": 2,
       "version_minor": 0
      },
      "text/plain": [
       "IntSlider(value=0, max=10)"
      ]
     },
     "metadata": {},
     "output_type": "display_data"
    },
    {
     "name": "stdout",
     "output_type": "stream",
     "text": [
      "waiting for slider to reach 10.............timeout\n"
     ]
    }
   ],
   "source": [
    "cleanupwidgets('slider')\n",
    "\n",
    "display(slider := W.IntSlider(max=10))\n",
    "\n",
    "def work(slider):\n",
    "    start = time.time()\n",
    "    print(f\"waiting for slider to reach {slider.max}...\", end='')\n",
    "    while True:\n",
    "        print('.', end='')\n",
    "        time.sleep(0.5)\n",
    "        if (time.time() - start) > 5: print('timeout'); break\n",
    "\n",
    "work(slider)"
   ]
  },
  {
   "cell_type": "markdown",
   "metadata": {},
   "source": [
    "Try to change the slider. You can, the front-end is responsive, but the kernel is blocked from running other code, including handling messages from the front-end."
   ]
  },
  {
   "cell_type": "code",
   "execution_count": null,
   "metadata": {},
   "outputs": [
    {
     "data": {
      "application/vnd.jupyter.widget-view+json": {
       "model_id": "234607bc029f482eb1c8b8f95e841c1c",
       "version_major": 2,
       "version_minor": 0
      },
      "text/plain": [
       "FloatProgress(value=0.0, max=1.0)"
      ]
     },
     "metadata": {},
     "output_type": "display_data"
    }
   ],
   "source": [
    "cleanupwidgets('progress')\n",
    "\n",
    "display(progress := W.FloatProgress(value=0.0, min=0.0, max=1.0))\n",
    "\n",
    "async def work(progress):\n",
    "    total = 100\n",
    "    for i in range(total):\n",
    "        time.sleep(0.05)\n",
    "        progress.value = float(i+1)/total\n",
    "\n",
    "await work(progress)"
   ]
  },
  {
   "cell_type": "code",
   "execution_count": null,
   "metadata": {},
   "outputs": [
    {
     "name": "stdout",
     "output_type": "stream",
     "text": [
      "1.0\n"
     ]
    }
   ],
   "source": [
    "print(progress.value)"
   ]
  },
  {
   "cell_type": "markdown",
   "metadata": {},
   "source": [
    "Async doesn't help, the kernel is still blocked."
   ]
  },
  {
   "cell_type": "markdown",
   "metadata": {},
   "source": [
    "### Waiting for user interaction\n",
    "> Pausing code to wait for user interaction with a widget in the frontend"
   ]
  },
  {
   "cell_type": "markdown",
   "metadata": {},
   "source": [
    "#### Event loop integration\n",
    "\n",
    "If we take advantage of the event loop integration IPython offers, we can have a nice solution async/await syntax.\n",
    "\n",
    "We define a new function that returns a future for when a widget attribute changes."
   ]
  },
  {
   "cell_type": "code",
   "execution_count": null,
   "metadata": {},
   "outputs": [],
   "source": [
    "#| export\n",
    "\n",
    "def wait_for_change(widget:W.Widget, value:str):\n",
    "    future = asyncio.Future()\n",
    "    def getvalue(change):\n",
    "        future.set_result(change.new)\n",
    "        widget.unobserve(getvalue, value)\n",
    "    widget.observe(getvalue, value)\n",
    "    return future"
   ]
  },
  {
   "cell_type": "markdown",
   "metadata": {},
   "source": [
    "And we finally get to our function where we will wait for widget changes. We'll do 10 units of work, and pause after each one until we observe a change in the widget. Notice that the widget's value is available to us, since it is what the `wait_for_change` future has as a result.\n",
    "\n",
    "Run this function, and change the slider 10 times."
   ]
  },
  {
   "cell_type": "code",
   "execution_count": null,
   "metadata": {},
   "outputs": [
    {
     "data": {
      "application/vnd.jupyter.widget-view+json": {
       "model_id": "012d1a1481a4476ea5c05cc2643fb3f6",
       "version_major": 2,
       "version_minor": 0
      },
      "text/plain": [
       "IntSlider(value=0)"
      ]
     },
     "metadata": {},
     "output_type": "display_data"
    },
    {
     "data": {
      "application/vnd.jupyter.widget-view+json": {
       "model_id": "3bb0ddd1e253426f9bb94e273187c7b3",
       "version_major": 2,
       "version_minor": 0
      },
      "text/plain": [
       "Output()"
      ]
     },
     "metadata": {},
     "output_type": "display_data"
    }
   ],
   "source": [
    "cleanupwidgets('slider1', 'out1')\n",
    "\n",
    "slider1 = W.IntSlider()\n",
    "out1 = W.Output()\n",
    "\n",
    "async def f():\n",
    "    for i in range(10):\n",
    "        out1.append_stdout('did work ' + str(i))\n",
    "        x = await wait_for_change(slider1, 'value')\n",
    "        out1.append_stdout(' - async function continued with value ' + str(x) + '\\n')\n",
    "asyncio.ensure_future(f())\n",
    "\n",
    "display(slider1, out1)"
   ]
  },
  {
   "cell_type": "markdown",
   "metadata": {},
   "source": [
    "Note that this is not blocking the kernel from running other code. We can run other cells, or even other widgets."
   ]
  },
  {
   "cell_type": "code",
   "execution_count": null,
   "metadata": {},
   "outputs": [
    {
     "data": {
      "application/vnd.jupyter.widget-view+json": {
       "model_id": "15d4e24849fd466bbdb9bcdaa53742f8",
       "version_major": 2,
       "version_minor": 0
      },
      "text/plain": [
       "IntSlider(value=0)"
      ]
     },
     "metadata": {},
     "output_type": "display_data"
    },
    {
     "data": {
      "application/vnd.jupyter.widget-view+json": {
       "model_id": "2c156583b3494452b2cab77f6de89b25",
       "version_major": 2,
       "version_minor": 0
      },
      "text/plain": [
       "Output()"
      ]
     },
     "metadata": {},
     "output_type": "display_data"
    }
   ],
   "source": [
    "cleanupwidgets('slider2', 'out2')\n",
    "\n",
    "slider2 = W.IntSlider()\n",
    "out2 = W.Output()\n",
    "\n",
    "def test():\n",
    "    async def f():\n",
    "        for i in range(10):\n",
    "            out2.append_stdout('did work ' + str(i))\n",
    "            x = await wait_for_change(slider2, 'value')\n",
    "            out2.append_stdout(' - async function continued with value ' + str(x) + '\\n')\n",
    "    asyncio.ensure_future(f())\n",
    "\n",
    "test()\n",
    "display(slider2, out2)"
   ]
  },
  {
   "cell_type": "markdown",
   "metadata": {},
   "source": [
    "#### Generator approach\n",
    "> Updating a widget in the background\n",
    "\n",
    "If you can't take advantage of the async/await syntax, or you don't want to modify the event loop, you can also do this with generator functions."
   ]
  },
  {
   "cell_type": "markdown",
   "metadata": {},
   "source": [
    "First, we define a decorator which hooks a generator function up to widget change events."
   ]
  },
  {
   "cell_type": "code",
   "execution_count": null,
   "metadata": {},
   "outputs": [],
   "source": [
    "#| export\n",
    "\n",
    "def yield_for_change(widget, attribute):\n",
    "    \"\"\"Pause a generator to wait for a widget change event.\n",
    "        \n",
    "    This is a decorator for a generator function which pauses the generator on yield\n",
    "    until the given widget attribute changes. The new value of the attribute is\n",
    "    sent to the generator and is the value of the yield.\n",
    "    \"\"\"\n",
    "    def f(iterator):\n",
    "        @wraps(iterator)\n",
    "        def inner():\n",
    "            i = iterator()\n",
    "            def next_i(change):\n",
    "                try: i.send(change.new)\n",
    "                except StopIteration as e: widget.unobserve(next_i, attribute)\n",
    "            widget.observe(next_i, attribute)\n",
    "            # start the generator\n",
    "            next(i)\n",
    "        return inner\n",
    "    return f"
   ]
  },
  {
   "cell_type": "markdown",
   "metadata": {},
   "source": [
    "Then we set up our generator."
   ]
  },
  {
   "cell_type": "code",
   "execution_count": null,
   "metadata": {},
   "outputs": [
    {
     "data": {
      "application/vnd.jupyter.widget-view+json": {
       "model_id": "a048180b8d2c47c39d7a42d5b177cd1f",
       "version_major": 2,
       "version_minor": 0
      },
      "text/plain": [
       "IntSlider(value=0)"
      ]
     },
     "metadata": {},
     "output_type": "display_data"
    },
    {
     "name": "stdout",
     "output_type": "stream",
     "text": [
      "did work 0 "
     ]
    }
   ],
   "source": [
    "cleanupwidgets('slider3')\n",
    "display(slider3 := W.IntSlider())\n",
    "\n",
    "@yield_for_change(slider3, 'value')\n",
    "def f():\n",
    "    for i in range(10):\n",
    "        print('did work %s'%i, end=' ')\n",
    "        x = yield\n",
    "        print('- generator function continued with value %s'%x)\n",
    "f();"
   ]
  },
  {
   "cell_type": "markdown",
   "metadata": {},
   "source": [
    "#### Modifications\n",
    "\n",
    "The above two approaches both waited on widget change events, but can be modified to wait for other things, such as button event messages (as in a \"Continue\" button), etc."
   ]
  },
  {
   "cell_type": "code",
   "execution_count": null,
   "metadata": {},
   "outputs": [
    {
     "data": {
      "application/vnd.jupyter.widget-view+json": {
       "model_id": "9bc10886b422403d93a894fa7405097e",
       "version_major": 2,
       "version_minor": 0
      },
      "text/plain": [
       "Clickable(value=0, description='0', style=ButtonStyle())"
      ]
     },
     "metadata": {},
     "output_type": "display_data"
    },
    {
     "name": "stdout",
     "output_type": "stream",
     "text": [
      "did work 0 "
     ]
    }
   ],
   "source": [
    "cleanupwidgets('btn')\n",
    "\n",
    "# class Clickable(W.Button):\n",
    "#     clicked = T.Int(0)\n",
    "#     def __init__(self, *args, on_click=None, **kwargs):\n",
    "#         super().__init__(*args, **kwargs)\n",
    "#         if on_click is None:\n",
    "#             self.on_click(lambda b: b.set_trait('clicked', b.clicked + 1))\n",
    "#             T.dlink((self, 'clicked'), (self, 'description'), lambda x: f'{x}')\n",
    "#         else:\n",
    "#             self.on_click(on_click)\n",
    "\n",
    "display(btn := Clickable())\n",
    "\n",
    "@yield_for_change(btn, 'value')\n",
    "def f():\n",
    "    for i in range(10):\n",
    "        print('did work %s'%i, end=' '  )\n",
    "        x = yield\n",
    "        print('- generator function continued with value %s'%x)\n",
    "f();"
   ]
  },
  {
   "cell_type": "code",
   "execution_count": null,
   "metadata": {},
   "outputs": [
    {
     "data": {
      "application/vnd.jupyter.widget-view+json": {
       "model_id": "1ac8a3714def4695b1e52fa67eb342a1",
       "version_major": 2,
       "version_minor": 0
      },
      "text/plain": [
       "Clickable(value=0, description='0', style=ButtonStyle())"
      ]
     },
     "metadata": {},
     "output_type": "display_data"
    },
    {
     "data": {
      "application/vnd.jupyter.widget-view+json": {
       "model_id": "32d27165916e4314a5cca09cd9b55897",
       "version_major": 2,
       "version_minor": 0
      },
      "text/plain": [
       "Output()"
      ]
     },
     "metadata": {},
     "output_type": "display_data"
    }
   ],
   "source": [
    "cleanupwidgets('btn2', 'out3')\n",
    "out3 = W.Output()\n",
    "\n",
    "display(btn2 := Clickable(), out3)\n",
    "\n",
    "def f():\n",
    "    async def f():\n",
    "        for i in range(10):\n",
    "            out3.append_stdout('did work ' + str(i))\n",
    "            x = await wait_for_change(btn2, 'value')\n",
    "            out3.append_stdout(' - async function continued with value ' + str(x) + '\\n')\n",
    "    asyncio.ensure_future(f())\n",
    "\n",
    "f()"
   ]
  },
  {
   "cell_type": "code",
   "execution_count": null,
   "metadata": {},
   "outputs": [
    {
     "data": {
      "application/vnd.jupyter.widget-view+json": {
       "model_id": "f52123c487c14811a4b2cedc1da0a95b",
       "version_major": 2,
       "version_minor": 0
      },
      "text/plain": [
       "Text(value='', continuous_update=False)"
      ]
     },
     "metadata": {},
     "output_type": "display_data"
    },
    {
     "data": {
      "application/vnd.jupyter.widget-view+json": {
       "model_id": "dd0ee2c4efeb4f31b043bf74fa30f067",
       "version_major": 2,
       "version_minor": 0
      },
      "text/plain": [
       "Output()"
      ]
     },
     "metadata": {},
     "output_type": "display_data"
    }
   ],
   "source": [
    "cleanupwidgets('txt', 'out4')\n",
    "out4 = W.Output()\n",
    "\n",
    "display(txt := W.Text(continuous_update=False), out4)\n",
    "\n",
    "def f():\n",
    "    async def f():\n",
    "        while True:\n",
    "            x = await wait_for_change(txt, 'value')\n",
    "            out4.append_stdout(' - async function continued with value ' + str(x) + '\\n')\n",
    "            if x == 'exit': break\n",
    "            txt.value = ''\n",
    "    asyncio.ensure_future(f())\n",
    "\n",
    "f()"
   ]
  },
  {
   "cell_type": "markdown",
   "metadata": {},
   "source": [
    "### Updating a widget in the background\n",
    "\n",
    "Sometimes you'd like to update a widget in the background, allowing the kernel to also process other execute requests. We can do this with threads. In the example below, the progress bar will update in the background and will allow the main kernel to do other computations."
   ]
  },
  {
   "cell_type": "code",
   "execution_count": null,
   "metadata": {},
   "outputs": [
    {
     "data": {
      "application/vnd.jupyter.widget-view+json": {
       "model_id": "3ecdd18a1c5b43a2a8048677034b33c5",
       "version_major": 2,
       "version_minor": 0
      },
      "text/plain": [
       "FloatProgress(value=0.0, max=1.0)"
      ]
     },
     "metadata": {},
     "output_type": "display_data"
    }
   ],
   "source": [
    "cleanupwidgets('progress')\n",
    "\n",
    "progress = W.FloatProgress(value=0.0, min=0.0, max=1.0)\n",
    "\n",
    "def work(progress):\n",
    "    total = 100\n",
    "    for i in range(total):\n",
    "        time.sleep(0.01)\n",
    "        progress.value = float(i+1)/total\n",
    "\n",
    "thread = threading.Thread(target=work, args=(progress,))\n",
    "display(progress)\n",
    "thread.start()"
   ]
  },
  {
   "cell_type": "code",
   "execution_count": null,
   "metadata": {},
   "outputs": [
    {
     "name": "stdout",
     "output_type": "stream",
     "text": [
      "0.01\n"
     ]
    }
   ],
   "source": [
    "print(progress.value)"
   ]
  },
  {
   "cell_type": "markdown",
   "metadata": {},
   "source": [
    "----\n",
    "# Blocking widgets"
   ]
  },
  {
   "cell_type": "markdown",
   "metadata": {},
   "source": [
    "Now we want to handle the inverse problem, where we want to block the kernel from running other code while waiting for a widget to change.\n",
    "\n",
    "Consider Python `input` function, which blocks until the user enters some input."
   ]
  },
  {
   "cell_type": "code",
   "execution_count": null,
   "metadata": {},
   "outputs": [
    {
     "name": "stdout",
     "output_type": "stream",
     "text": [
      "It's very important to know your name, aaa!\n"
     ]
    }
   ],
   "source": [
    "#| eval: false\n",
    "\n",
    "name = input(\"Enter your name:\")\n",
    "print(f\"It's very important to know your name, {name}!\")"
   ]
  },
  {
   "cell_type": "markdown",
   "metadata": {},
   "source": [
    "If you're running this on VSCode or forks, you'll notice that `input` works as expected, but its UX is unwieldy with a nearly invisible popout up at the top of the window.\n",
    "\n",
    "No problem, `ipywidgets` has a `Text` widget that can be used to get user input."
   ]
  },
  {
   "cell_type": "code",
   "execution_count": null,
   "metadata": {},
   "outputs": [
    {
     "name": "stdout",
     "output_type": "stream",
     "text": [
      "(Stop cell execution when you tire of waiting)\n"
     ]
    },
    {
     "data": {
      "application/vnd.jupyter.widget-view+json": {
       "model_id": "2e1a4e4b6ab14a6db7b5badfd83940a7",
       "version_major": 2,
       "version_minor": 0
      },
      "text/plain": [
       "Text(value='', continuous_update=False, placeholder='Input your name; enter to submit')"
      ]
     },
     "metadata": {},
     "output_type": "display_data"
    },
    {
     "ename": "KeyboardInterrupt",
     "evalue": "",
     "output_type": "error",
     "traceback": [
      "\u001b[0;31m---------------------------------------------------------------------------\u001b[0m",
      "\u001b[0;31mKeyboardInterrupt\u001b[0m                         Traceback (most recent call last)",
      "Cell \u001b[0;32mIn[52], line 12\u001b[0m\n\u001b[1;32m     10\u001b[0m \u001b[38;5;28;01mwhile\u001b[39;00m \u001b[38;5;28;01mTrue\u001b[39;00m:\n\u001b[1;32m     11\u001b[0m     \u001b[38;5;28;01mif\u001b[39;00m text\u001b[38;5;241m.\u001b[39mvalue: \u001b[38;5;28;01mbreak\u001b[39;00m\n\u001b[0;32m---> 12\u001b[0m     \u001b[43mtime\u001b[49m\u001b[38;5;241;43m.\u001b[39;49m\u001b[43msleep\u001b[49m\u001b[43m(\u001b[49m\u001b[38;5;241;43m0.5\u001b[39;49m\u001b[43m)\u001b[49m\n\u001b[1;32m     13\u001b[0m \u001b[38;5;28mprint\u001b[39m(\u001b[38;5;124mf\u001b[39m\u001b[38;5;124m\"\u001b[39m\u001b[38;5;124mIt\u001b[39m\u001b[38;5;124m'\u001b[39m\u001b[38;5;124ms very important to know your name, \u001b[39m\u001b[38;5;132;01m{\u001b[39;00mname\u001b[38;5;132;01m}\u001b[39;00m\u001b[38;5;124m!\u001b[39m\u001b[38;5;124m\"\u001b[39m)\n",
      "\u001b[0;31mKeyboardInterrupt\u001b[0m: "
     ]
    }
   ],
   "source": [
    "#| eval: false\n",
    "\n",
    "cleanupwidgets('text')\n",
    "\n",
    "print('(Stop cell execution when you tire of waiting)')\n",
    "\n",
    "text = W.Text(placeholder='Input your name; enter to submit', continuous_update=False)\n",
    "display(text)\n",
    "\n",
    "while True:\n",
    "    if text.value: break\n",
    "    time.sleep(0.5)\n",
    "print(f\"It's very important to know your name, {name}!\")"
   ]
  },
  {
   "cell_type": "markdown",
   "metadata": {},
   "source": [
    "The widget is responsive, but as the kernel is blocked, the messages coming from the front-end are not processed.\n",
    "\n",
    "No problem, Asyncio to the rescue."
   ]
  },
  {
   "cell_type": "code",
   "execution_count": null,
   "metadata": {},
   "outputs": [],
   "source": [
    "#| eval: false\n",
    "\n",
    "cleanupwidgets('text')\n",
    "\n",
    "async def wait_for_text(text):\n",
    "    cnt = 0\n",
    "    while cnt < 10:\n",
    "        if text.value: return text.value\n",
    "        await asyncio.sleep(0.5)\n",
    "        cnt += 1\n",
    "    return 'unknown'\n",
    "\n",
    "text = W.Text(placeholder='Enter your name; enter to submit', continuous_update=False)\n",
    "display(text)\n",
    "\n",
    "await wait_for_text(text)\n",
    "print(f\"It's very important to know your name, {name}!\")"
   ]
  },
  {
   "cell_type": "markdown",
   "metadata": {},
   "source": [
    "You can try lots of convoluted solutions, but by design is very difficult to block the kernel using widgets. Crafting modal UIs with `ipywidgets` is not simple."
   ]
  },
  {
   "cell_type": "markdown",
   "metadata": {},
   "source": [
    "**TL;DR**: Use [jupyter-ui-poll](https://github.com/Kirill888/jupyter-ui-poll/tree/develop)  \n",
    "> Block Jupyter cell execution while interacting with widgets.\n",
    "\n",
    "We want to solve the following problem:\n",
    "\n",
    "1. Display User Interface in **Jupyter** using ``ipywidgets`` or similar\n",
    "2. Wait for data to be entered (this step is surprisingly non-trivial to implement)\n",
    "3. Use entered data in cells below\n",
    "\n",
    "You want to implement a notebook like the one below\n",
    "\n",
    "```python\n",
    "\n",
    "   # cell 1\n",
    "   ui = make_ui()\n",
    "   display(ui)\n",
    "   data = ui.wait_for_data()\n",
    "\n",
    "   # cell 2\n",
    "   do_things_with(data)\n",
    "\n",
    "   # cell 3.\n",
    "   do_more_tings()\n",
    "```\n",
    "\n",
    "And you want to be able to execute `Cells -> Run All` menu option and still get correct output.\n",
    "\n",
    "Jupyter assists in implementing your custom `ui.wait_for_data()` poll loop.\n",
    "If you have tried implementing such workflow in the past you'll know that it is not that simple. If you haven't, see [Technical Details](https://github.com/Kirill888/jupyter-ui-poll/tree/develop?tab=readme-ov-file#technical-details) for an explanation on why it's hard and how `jupyter-ui-poll` solves it.\n",
    "\n",
    "Quick, self contained example:"
   ]
  },
  {
   "cell_type": "code",
   "execution_count": null,
   "metadata": {},
   "outputs": [],
   "source": [
    "#| eval: false\n",
    "\n",
    "import time\n",
    "from ipywidgets import Button"
   ]
  },
  {
   "cell_type": "code",
   "execution_count": null,
   "metadata": {},
   "outputs": [],
   "source": [
    "#| eval: false\n",
    "\n",
    "# Set up simple GUI, button with on_click callback\n",
    "# that sets ui_done=True and changes button text\n",
    "ui_done = False\n",
    "\n",
    "def on_click(btn):\n",
    "    global ui_done\n",
    "    ui_done = True\n",
    "    btn.description = '👍'\n",
    "\n",
    "btn = Button(description='Click Me')\n",
    "btn.on_click(on_click)\n",
    "display(btn)\n",
    "\n",
    "# Wait for user to press the button\n",
    "with ui_events() as poll:\n",
    "    while ui_done is False:\n",
    "        poll(10)  # React to UI events (up to 10 at a time)\n",
    "        print('.', end='')\n",
    "        time.sleep(0.1)\n",
    "print('done')"
   ]
  },
  {
   "cell_type": "markdown",
   "metadata": {},
   "source": [
    "## `input` with widgets"
   ]
  },
  {
   "cell_type": "markdown",
   "metadata": {},
   "source": [
    "Now we can develop our pretty `input` function:"
   ]
  },
  {
   "cell_type": "code",
   "execution_count": null,
   "metadata": {},
   "outputs": [],
   "source": [
    "#| export\n",
    "\n",
    "def get_user_input(\n",
    "        prompt='', placeholder='Write something. Enter to submit', timeout=10., widget=None, value=None):\n",
    "    if widget is None:\n",
    "        layout = {'description_width':'auto', 'width':'80%'}\n",
    "        b = W.HBox([\n",
    "            W.HTML(f\"<b>{prompt}</b>\" if prompt else ''),\n",
    "            w := W.Text(value=value,placeholder=placeholder, continuous_update=False, layout=layout)\n",
    "        ])\n",
    "        dh = display(b, display_id=True); time.sleep(0.05)\n",
    "    else: w, dh = widget, None\n",
    "    w.focus()\n",
    "    answer = v = w.value\n",
    "    start_time = time.time()\n",
    "    with ui_events() as ui_poll:\n",
    "        while answer == v:\n",
    "            if (time.time() - start_time) > timeout: break\n",
    "            ui_poll(10)\n",
    "            time.sleep(0.1)  # Simulate async processing\n",
    "            answer = w.value\n",
    "    if dh: b.close(); dh.update(Markdown(f\"**{prompt}** {answer}\" if prompt else answer))\n",
    "    return answer.lower()"
   ]
  },
  {
   "cell_type": "code",
   "execution_count": null,
   "metadata": {},
   "outputs": [],
   "source": [
    "#| eval: false\n",
    "\n",
    "name = get_user_input('You', placeholder='Input your name; enter to submit', timeout=5.)\n",
    "Markdown(f\"Your intervention has saved the Universe and beyond, **{name}**!\")"
   ]
  },
  {
   "cell_type": "markdown",
   "metadata": {},
   "source": [
    "# Colophon\n",
    "----\n"
   ]
  },
  {
   "cell_type": "code",
   "execution_count": null,
   "metadata": {},
   "outputs": [],
   "source": [
    "#| eval: false\n",
    "\n",
    "import fastcore.all as FC\n",
    "import nbdev\n",
    "from nbdev.clean import nbdev_clean"
   ]
  },
  {
   "cell_type": "code",
   "execution_count": null,
   "metadata": {},
   "outputs": [],
   "source": [
    "#| eval: false\n",
    "\n",
    "if FC.IN_NOTEBOOK:\n",
    "    nb_path = '20_widgets.ipynb'\n",
    "    nbdev_clean(nb_path)\n",
    "    nbdev.nbdev_export(nb_path)"
   ]
  }
 ],
 "metadata": {
  "kernelspec": {
   "display_name": "python3",
   "language": "python",
   "name": "python3"
  },
  "widgets": {
   "application/vnd.jupyter.widget-state+json": {
    "state": {},
    "version_major": 2,
    "version_minor": 0
   }
  }
 },
 "nbformat": 4,
 "nbformat_minor": 4
}
